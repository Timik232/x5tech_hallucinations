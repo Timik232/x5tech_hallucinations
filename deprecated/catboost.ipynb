{
  "nbformat": 4,
  "nbformat_minor": 0,
  "metadata": {
    "colab": {
      "provenance": [],
      "gpuType": "T4"
    },
    "kernelspec": {
      "name": "python3",
      "display_name": "Python 3"
    },
    "language_info": {
      "name": "python"
    },
    "accelerator": "GPU",
    "widgets": {
      "application/vnd.jupyter.widget-state+json": {
        "b563ddae9f1b4f5094bb8b59e9c5b4ab": {
          "model_module": "catboost-widget",
          "model_name": "CatboostWidgetModel",
          "model_module_version": "^1.0.0",
          "state": {
            "_dom_classes": [],
            "_model_module": "catboost-widget",
            "_model_module_version": "^1.0.0",
            "_model_name": "CatboostWidgetModel",
            "_view_count": null,
            "_view_module": "catboost-widget",
            "_view_module_version": "^1.0.0",
            "_view_name": "CatboostWidgetView",
            "data": {
              "catboost_info": {
                "path": "catboost_info",
                "name": "catboost_info",
                "content": {
                  "passed_iterations": 500,
                  "total_iterations": 1000,
                  "data": {
                    "iterations": [
                      {
                        "learn": [
                          0.6340136054,
                          0.6555417015
                        ],
                        "iteration": 0,
                        "passed_time": 0.05388659491,
                        "remaining_time": 53.83270832,
                        "test": [
                          0.653968254,
                          0.6527140299
                        ]
                      },
                      {
                        "learn": [
                          0.6571428571,
                          0.623146109
                        ],
                        "iteration": 1,
                        "passed_time": 0.100323892,
                        "remaining_time": 50.06162211,
                        "test": [
                          0.6507936508,
                          0.622440544
                        ]
                      },
                      {
                        "learn": [
                          0.6789115646,
                          0.6050288817
                        ],
                        "iteration": 2,
                        "passed_time": 0.1494823054,
                        "remaining_time": 49.67795283,
                        "test": [
                          0.6476190476,
                          0.6178161621
                        ]
                      },
                      {
                        "learn": [
                          0.6979591837,
                          0.5842808315
                        ],
                        "iteration": 3,
                        "passed_time": 0.1975259563,
                        "remaining_time": 49.18396313,
                        "test": [
                          0.6412698413,
                          0.6169188484
                        ]
                      },
                      {
                        "learn": [
                          0.7102040816,
                          0.5734317286
                        ],
                        "iteration": 4,
                        "passed_time": 0.2620549309,
                        "remaining_time": 52.14893125,
                        "test": [
                          0.6349206349,
                          0.615666562
                        ]
                      },
                      {
                        "learn": [
                          0.7224489796,
                          0.5618924303
                        ],
                        "iteration": 5,
                        "passed_time": 0.2987066439,
                        "remaining_time": 49.48573401,
                        "test": [
                          0.6380952381,
                          0.6045078823
                        ]
                      },
                      {
                        "learn": [
                          0.7292517007,
                          0.548989972
                        ],
                        "iteration": 6,
                        "passed_time": 0.3295871476,
                        "remaining_time": 46.75429108,
                        "test": [
                          0.6412698413,
                          0.6052015516
                        ]
                      },
                      {
                        "learn": [
                          0.7387755102,
                          0.5449462891
                        ],
                        "iteration": 7,
                        "passed_time": 0.3596750322,
                        "remaining_time": 44.59970399,
                        "test": [
                          0.6380952381,
                          0.6060418023
                        ]
                      },
                      {
                        "learn": [
                          0.7455782313,
                          0.538965342
                        ],
                        "iteration": 8,
                        "passed_time": 0.3941565906,
                        "remaining_time": 43.40102014,
                        "test": [
                          0.6349206349,
                          0.6100114126
                        ]
                      },
                      {
                        "learn": [
                          0.7510204082,
                          0.5336067874
                        ],
                        "iteration": 9,
                        "passed_time": 0.4244770012,
                        "remaining_time": 42.02322312,
                        "test": [
                          0.6253968254,
                          0.6083740234
                        ]
                      },
                      {
                        "learn": [
                          0.7619047619,
                          0.5277735704
                        ],
                        "iteration": 10,
                        "passed_time": 0.4549670642,
                        "remaining_time": 40.90567514,
                        "test": [
                          0.6349206349,
                          0.6079938132
                        ]
                      },
                      {
                        "learn": [
                          0.7605442177,
                          0.5260292936
                        ],
                        "iteration": 11,
                        "passed_time": 0.4849240665,
                        "remaining_time": 39.92541481,
                        "test": [
                          0.6412698413,
                          0.6099022275
                        ]
                      },
                      {
                        "learn": [
                          0.7619047619,
                          0.5183448013
                        ],
                        "iteration": 12,
                        "passed_time": 0.5092356507,
                        "remaining_time": 38.66273748,
                        "test": [
                          0.6349206349,
                          0.6162880549
                        ]
                      },
                      {
                        "learn": [
                          0.7605442177,
                          0.5117206599
                        ],
                        "iteration": 13,
                        "passed_time": 0.5342819126,
                        "remaining_time": 37.62871185,
                        "test": [
                          0.6222222222,
                          0.6225972493
                        ]
                      },
                      {
                        "learn": [
                          0.7768707483,
                          0.504081259
                        ],
                        "iteration": 14,
                        "passed_time": 0.5602029719,
                        "remaining_time": 36.78666182,
                        "test": [
                          0.6253968254,
                          0.6241116963
                        ]
                      },
                      {
                        "learn": [
                          0.7836734694,
                          0.4977605495
                        ],
                        "iteration": 15,
                        "passed_time": 0.5961940961,
                        "remaining_time": 36.66593691,
                        "test": [
                          0.6158730159,
                          0.6264684284
                        ]
                      },
                      {
                        "learn": [
                          0.8027210884,
                          0.4858596075
                        ],
                        "iteration": 16,
                        "passed_time": 0.6205375562,
                        "remaining_time": 35.88167163,
                        "test": [
                          0.6222222222,
                          0.6284186954
                        ]
                      },
                      {
                        "learn": [
                          0.8027210884,
                          0.4805935607
                        ],
                        "iteration": 17,
                        "passed_time": 0.645060821,
                        "remaining_time": 35.19165146,
                        "test": [
                          0.6222222222,
                          0.6298083109
                        ]
                      },
                      {
                        "learn": [
                          0.8054421769,
                          0.4763159512
                        ],
                        "iteration": 18,
                        "passed_time": 0.6689016034,
                        "remaining_time": 34.53644594,
                        "test": [
                          0.6158730159,
                          0.6285247318
                        ]
                      },
                      {
                        "learn": [
                          0.8163265306,
                          0.4676999877
                        ],
                        "iteration": 19,
                        "passed_time": 0.6931268037,
                        "remaining_time": 33.96321338,
                        "test": [
                          0.6158730159,
                          0.6314127604
                        ]
                      },
                      {
                        "learn": [
                          0.8231292517,
                          0.4643298091
                        ],
                        "iteration": 20,
                        "passed_time": 0.7171723316,
                        "remaining_time": 33.43389108,
                        "test": [
                          0.619047619,
                          0.6321098691
                        ]
                      },
                      {
                        "learn": [
                          0.8272108844,
                          0.4576296437
                        ],
                        "iteration": 21,
                        "passed_time": 0.7411477285,
                        "remaining_time": 32.94738538,
                        "test": [
                          0.6126984127,
                          0.6410232786
                        ]
                      },
                      {
                        "learn": [
                          0.8353741497,
                          0.4509104618
                        ],
                        "iteration": 22,
                        "passed_time": 0.7651458424,
                        "remaining_time": 32.5020647,
                        "test": [
                          0.619047619,
                          0.6386883448
                        ]
                      },
                      {
                        "learn": [
                          0.8380952381,
                          0.4462768139
                        ],
                        "iteration": 23,
                        "passed_time": 0.7919302836,
                        "remaining_time": 32.20516487,
                        "test": [
                          0.619047619,
                          0.6392058842
                        ]
                      },
                      {
                        "learn": [
                          0.8380952381,
                          0.4405069987
                        ],
                        "iteration": 24,
                        "passed_time": 0.817501248,
                        "remaining_time": 31.88254867,
                        "test": [
                          0.6253968254,
                          0.6417891245
                        ]
                      },
                      {
                        "learn": [
                          0.8408163265,
                          0.4346001242
                        ],
                        "iteration": 25,
                        "passed_time": 0.842056626,
                        "remaining_time": 31.54473668,
                        "test": [
                          0.6158730159,
                          0.6418829055
                        ]
                      },
                      {
                        "learn": [
                          0.843537415,
                          0.4287899095
                        ],
                        "iteration": 26,
                        "passed_time": 0.8664129039,
                        "remaining_time": 31.22295391,
                        "test": [
                          0.6126984127,
                          0.6466162303
                        ]
                      },
                      {
                        "learn": [
                          0.8544217687,
                          0.422017623
                        ],
                        "iteration": 27,
                        "passed_time": 0.8907486919,
                        "remaining_time": 30.92170459,
                        "test": [
                          0.619047619,
                          0.6460477799
                        ]
                      },
                      {
                        "learn": [
                          0.8598639456,
                          0.4157374791
                        ],
                        "iteration": 28,
                        "passed_time": 0.9150370434,
                        "remaining_time": 30.63796445,
                        "test": [
                          0.6222222222,
                          0.6442986382
                        ]
                      },
                      {
                        "learn": [
                          0.8585034014,
                          0.4106537488
                        ],
                        "iteration": 29,
                        "passed_time": 0.9440879625,
                        "remaining_time": 30.52551079,
                        "test": [
                          0.6222222222,
                          0.6462261866
                        ]
                      },
                      {
                        "learn": [
                          0.8598639456,
                          0.4062597158
                        ],
                        "iteration": 30,
                        "passed_time": 0.9715084083,
                        "remaining_time": 30.3674725,
                        "test": [
                          0.619047619,
                          0.6488223121
                        ]
                      },
                      {
                        "learn": [
                          0.862585034,
                          0.4007774301
                        ],
                        "iteration": 31,
                        "passed_time": 0.9954715561,
                        "remaining_time": 30.11301457,
                        "test": [
                          0.6253968254,
                          0.6515270415
                        ]
                      },
                      {
                        "learn": [
                          0.8666666667,
                          0.3979017193
                        ],
                        "iteration": 32,
                        "passed_time": 1.019602836,
                        "remaining_time": 29.87745279,
                        "test": [
                          0.6222222222,
                          0.6514756944
                        ]
                      },
                      {
                        "learn": [
                          0.8693877551,
                          0.3946120489
                        ],
                        "iteration": 33,
                        "passed_time": 1.043710617,
                        "remaining_time": 29.65366046,
                        "test": [
                          0.619047619,
                          0.6512703063
                        ]
                      },
                      {
                        "learn": [
                          0.8666666667,
                          0.3931357455
                        ],
                        "iteration": 34,
                        "passed_time": 1.06776084,
                        "remaining_time": 29.43969174,
                        "test": [
                          0.619047619,
                          0.652192034
                        ]
                      },
                      {
                        "learn": [
                          0.8693877551,
                          0.389530021
                        ],
                        "iteration": 35,
                        "passed_time": 1.091781967,
                        "remaining_time": 29.23549491,
                        "test": [
                          0.6222222222,
                          0.6530748155
                        ]
                      },
                      {
                        "learn": [
                          0.874829932,
                          0.3855189317
                        ],
                        "iteration": 36,
                        "passed_time": 1.115807615,
                        "remaining_time": 29.04115495,
                        "test": [
                          0.6126984127,
                          0.6548392644
                        ]
                      },
                      {
                        "learn": [
                          0.8829931973,
                          0.3814853798
                        ],
                        "iteration": 37,
                        "passed_time": 1.139727471,
                        "remaining_time": 28.85310071,
                        "test": [
                          0.6095238095,
                          0.6565963503
                        ]
                      },
                      {
                        "learn": [
                          0.8816326531,
                          0.3793812447
                        ],
                        "iteration": 38,
                        "passed_time": 1.176753192,
                        "remaining_time": 28.99640558,
                        "test": [
                          0.6063492063,
                          0.6594444638
                        ]
                      },
                      {
                        "learn": [
                          0.8884353741,
                          0.3732865314
                        ],
                        "iteration": 39,
                        "passed_time": 1.203147347,
                        "remaining_time": 28.87553633,
                        "test": [
                          0.6126984127,
                          0.6590270027
                        ]
                      },
                      {
                        "learn": [
                          0.8952380952,
                          0.36804166
                        ],
                        "iteration": 40,
                        "passed_time": 1.229713948,
                        "remaining_time": 28.76330918,
                        "test": [
                          0.6126984127,
                          0.6591055734
                        ]
                      },
                      {
                        "learn": [
                          0.8979591837,
                          0.3618913923
                        ],
                        "iteration": 41,
                        "passed_time": 1.254862482,
                        "remaining_time": 28.62281566,
                        "test": [
                          0.6126984127,
                          0.6641439286
                        ]
                      },
                      {
                        "learn": [
                          0.906122449,
                          0.3555120559
                        ],
                        "iteration": 42,
                        "passed_time": 1.290763252,
                        "remaining_time": 28.7269868,
                        "test": [
                          0.6126984127,
                          0.6688160245
                        ]
                      },
                      {
                        "learn": [
                          0.9088435374,
                          0.3503274308
                        ],
                        "iteration": 43,
                        "passed_time": 1.320335771,
                        "remaining_time": 28.6872954,
                        "test": [
                          0.6222222222,
                          0.6696084159
                        ]
                      },
                      {
                        "learn": [
                          0.9129251701,
                          0.3470340443
                        ],
                        "iteration": 44,
                        "passed_time": 1.344627712,
                        "remaining_time": 28.53598812,
                        "test": [
                          0.6158730159,
                          0.6722658188
                        ]
                      },
                      {
                        "learn": [
                          0.9156462585,
                          0.3439116186
                        ],
                        "iteration": 45,
                        "passed_time": 1.369410583,
                        "remaining_time": 28.40038469,
                        "test": [
                          0.6158730159,
                          0.6767267621
                        ]
                      },
                      {
                        "learn": [
                          0.9197278912,
                          0.337433671
                        ],
                        "iteration": 46,
                        "passed_time": 1.393710556,
                        "remaining_time": 28.25970553,
                        "test": [
                          0.6158730159,
                          0.6721982926
                        ]
                      },
                      {
                        "learn": [
                          0.9238095238,
                          0.3328440141
                        ],
                        "iteration": 47,
                        "passed_time": 1.418913113,
                        "remaining_time": 28.14177674,
                        "test": [
                          0.6095238095,
                          0.672706386
                        ]
                      },
                      {
                        "learn": [
                          0.925170068,
                          0.3291139356
                        ],
                        "iteration": 48,
                        "passed_time": 1.44583829,
                        "remaining_time": 28.06106558,
                        "test": [
                          0.6126984127,
                          0.6746455117
                        ]
                      },
                      {
                        "learn": [
                          0.925170068,
                          0.3254144993
                        ],
                        "iteration": 49,
                        "passed_time": 1.470323552,
                        "remaining_time": 27.93614748,
                        "test": [
                          0.6095238095,
                          0.6740170433
                        ]
                      },
                      {
                        "learn": [
                          0.9278911565,
                          0.3219236205
                        ],
                        "iteration": 50,
                        "passed_time": 1.49508199,
                        "remaining_time": 27.82025114,
                        "test": [
                          0.6158730159,
                          0.6750002906
                        ]
                      },
                      {
                        "learn": [
                          0.9306122449,
                          0.3200343541
                        ],
                        "iteration": 51,
                        "passed_time": 1.519366098,
                        "remaining_time": 27.69921271,
                        "test": [
                          0.6126984127,
                          0.6764721098
                        ]
                      },
                      {
                        "learn": [
                          0.9333333333,
                          0.316126028
                        ],
                        "iteration": 52,
                        "passed_time": 1.543372097,
                        "remaining_time": 27.57685616,
                        "test": [
                          0.6095238095,
                          0.6737006778
                        ]
                      },
                      {
                        "learn": [
                          0.9414965986,
                          0.312566848
                        ],
                        "iteration": 53,
                        "passed_time": 1.571207431,
                        "remaining_time": 27.52522647,
                        "test": [
                          0.6063492063,
                          0.6740587507
                        ]
                      },
                      {
                        "learn": [
                          0.9442176871,
                          0.3083678369
                        ],
                        "iteration": 54,
                        "passed_time": 1.612402472,
                        "remaining_time": 27.70400611,
                        "test": [
                          0.6063492063,
                          0.6745909676
                        ]
                      },
                      {
                        "learn": [
                          0.9469387755,
                          0.3065701024
                        ],
                        "iteration": 55,
                        "passed_time": 1.636494645,
                        "remaining_time": 27.58662402,
                        "test": [
                          0.6095238095,
                          0.6769539
                        ]
                      },
                      {
                        "learn": [
                          0.9442176871,
                          0.3031017485
                        ],
                        "iteration": 56,
                        "passed_time": 1.660180271,
                        "remaining_time": 27.4657894,
                        "test": [
                          0.6063492063,
                          0.6754752023
                        ]
                      },
                      {
                        "learn": [
                          0.9455782313,
                          0.3019090302
                        ],
                        "iteration": 57,
                        "passed_time": 1.684231974,
                        "remaining_time": 27.35425034,
                        "test": [
                          0.6126984127,
                          0.6737973168
                        ]
                      },
                      {
                        "learn": [
                          0.9469387755,
                          0.3002325564
                        ],
                        "iteration": 58,
                        "passed_time": 1.707875402,
                        "remaining_time": 27.23916531,
                        "test": [
                          0.6095238095,
                          0.6748293438
                        ]
                      },
                      {
                        "learn": [
                          0.9442176871,
                          0.2929427997
                        ],
                        "iteration": 59,
                        "passed_time": 1.732193161,
                        "remaining_time": 27.13769286,
                        "test": [
                          0.6031746032,
                          0.6828567747
                        ]
                      },
                      {
                        "learn": [
                          0.9455782313,
                          0.2889395993
                        ],
                        "iteration": 60,
                        "passed_time": 1.757458357,
                        "remaining_time": 27.05333438,
                        "test": [
                          0.5904761905,
                          0.6834248861
                        ]
                      },
                      {
                        "learn": [
                          0.9469387755,
                          0.2867661664
                        ],
                        "iteration": 61,
                        "passed_time": 1.786654662,
                        "remaining_time": 27.03035602,
                        "test": [
                          0.5936507937,
                          0.6832095676
                        ]
                      },
                      {
                        "learn": [
                          0.9469387755,
                          0.2844051439
                        ],
                        "iteration": 62,
                        "passed_time": 1.814136352,
                        "remaining_time": 26.98167875,
                        "test": [
                          0.5936507937,
                          0.6821366083
                        ]
                      },
                      {
                        "learn": [
                          0.9523809524,
                          0.2805291416
                        ],
                        "iteration": 63,
                        "passed_time": 1.837529984,
                        "remaining_time": 26.87387601,
                        "test": [
                          0.5936507937,
                          0.6877037412
                        ]
                      },
                      {
                        "learn": [
                          0.9537414966,
                          0.2790238984
                        ],
                        "iteration": 64,
                        "passed_time": 1.861168193,
                        "remaining_time": 26.77218862,
                        "test": [
                          0.5936507937,
                          0.6893096439
                        ]
                      },
                      {
                        "learn": [
                          0.9537414966,
                          0.2774594677
                        ],
                        "iteration": 65,
                        "passed_time": 1.885075636,
                        "remaining_time": 26.67667642,
                        "test": [
                          0.5936507937,
                          0.6892567952
                        ]
                      },
                      {
                        "learn": [
                          0.9551020408,
                          0.2756942645
                        ],
                        "iteration": 66,
                        "passed_time": 1.909394811,
                        "remaining_time": 26.58903521,
                        "test": [
                          0.5904761905,
                          0.6906671433
                        ]
                      },
                      {
                        "learn": [
                          0.9578231293,
                          0.2714791849
                        ],
                        "iteration": 67,
                        "passed_time": 1.934055706,
                        "remaining_time": 26.50793997,
                        "test": [
                          0.5936507937,
                          0.6943052746
                        ]
                      },
                      {
                        "learn": [
                          0.9578231293,
                          0.270377189
                        ],
                        "iteration": 68,
                        "passed_time": 1.957952642,
                        "remaining_time": 26.41817261,
                        "test": [
                          0.5936507937,
                          0.6910550072
                        ]
                      },
                      {
                        "learn": [
                          0.9578231293,
                          0.2691946017
                        ],
                        "iteration": 69,
                        "passed_time": 1.983724889,
                        "remaining_time": 26.3552021,
                        "test": [
                          0.5968253968,
                          0.6899263412
                        ]
                      },
                      {
                        "learn": [
                          0.9578231293,
                          0.2674831676
                        ],
                        "iteration": 70,
                        "passed_time": 2.007887523,
                        "remaining_time": 26.27221844,
                        "test": [
                          0.5968253968,
                          0.6902528793
                        ]
                      },
                      {
                        "learn": [
                          0.9523809524,
                          0.2655078083
                        ],
                        "iteration": 71,
                        "passed_time": 2.032392383,
                        "remaining_time": 26.1952796,
                        "test": [
                          0.5968253968,
                          0.6940157451
                        ]
                      },
                      {
                        "learn": [
                          0.9510204082,
                          0.2612971715
                        ],
                        "iteration": 72,
                        "passed_time": 2.056919978,
                        "remaining_time": 26.12006602,
                        "test": [
                          0.5968253968,
                          0.6926195417
                        ]
                      },
                      {
                        "learn": [
                          0.9510204082,
                          0.258645879
                        ],
                        "iteration": 73,
                        "passed_time": 2.081254685,
                        "remaining_time": 26.04380862,
                        "test": [
                          0.6,
                          0.6948447576
                        ]
                      },
                      {
                        "learn": [
                          0.9510204082,
                          0.256989335
                        ],
                        "iteration": 74,
                        "passed_time": 2.105173456,
                        "remaining_time": 25.96380596,
                        "test": [
                          0.5968253968,
                          0.6958535815
                        ]
                      },
                      {
                        "learn": [
                          0.9537414966,
                          0.254018563
                        ],
                        "iteration": 75,
                        "passed_time": 2.128948627,
                        "remaining_time": 25.88353331,
                        "test": [
                          0.5968253968,
                          0.6998751201
                        ]
                      },
                      {
                        "learn": [
                          0.9537414966,
                          0.2520235646
                        ],
                        "iteration": 76,
                        "passed_time": 2.152585156,
                        "remaining_time": 25.80306622,
                        "test": [
                          0.5968253968,
                          0.6994011773
                        ]
                      },
                      {
                        "learn": [
                          0.9551020408,
                          0.2517301391
                        ],
                        "iteration": 77,
                        "passed_time": 2.176406181,
                        "remaining_time": 25.72623716,
                        "test": [
                          0.5968253968,
                          0.6987660242
                        ]
                      },
                      {
                        "learn": [
                          0.9632653061,
                          0.2468223105
                        ],
                        "iteration": 78,
                        "passed_time": 2.202054238,
                        "remaining_time": 25.67205004,
                        "test": [
                          0.5873015873,
                          0.7073969765
                        ]
                      },
                      {
                        "learn": [
                          0.9632653061,
                          0.2451522101
                        ],
                        "iteration": 79,
                        "passed_time": 2.226441883,
                        "remaining_time": 25.60408165,
                        "test": [
                          0.580952381,
                          0.7085157606
                        ]
                      },
                      {
                        "learn": [
                          0.9619047619,
                          0.2439113487
                        ],
                        "iteration": 80,
                        "passed_time": 2.250608522,
                        "remaining_time": 25.53468188,
                        "test": [
                          0.5714285714,
                          0.711867172
                        ]
                      },
                      {
                        "learn": [
                          0.9632653061,
                          0.2420915669
                        ],
                        "iteration": 81,
                        "passed_time": 2.275060833,
                        "remaining_time": 25.46958348,
                        "test": [
                          0.5746031746,
                          0.709504627
                        ]
                      },
                      {
                        "learn": [
                          0.9632653061,
                          0.2414483103
                        ],
                        "iteration": 82,
                        "passed_time": 2.313351668,
                        "remaining_time": 25.55835517,
                        "test": [
                          0.5746031746,
                          0.7099831233
                        ]
                      },
                      {
                        "learn": [
                          0.9646258503,
                          0.2400146484
                        ],
                        "iteration": 83,
                        "passed_time": 2.337509347,
                        "remaining_time": 25.48998288,
                        "test": [
                          0.5746031746,
                          0.7098946708
                        ]
                      },
                      {
                        "learn": [
                          0.9659863946,
                          0.2387858073
                        ],
                        "iteration": 84,
                        "passed_time": 2.363013794,
                        "remaining_time": 25.43714848,
                        "test": [
                          0.5777777778,
                          0.707549516
                        ]
                      },
                      {
                        "learn": [
                          0.9646258503,
                          0.2357289425
                        ],
                        "iteration": 85,
                        "passed_time": 2.39062423,
                        "remaining_time": 25.40733194,
                        "test": [
                          0.5746031746,
                          0.7075880747
                        ]
                      },
                      {
                        "learn": [
                          0.9673469388,
                          0.2336116038
                        ],
                        "iteration": 86,
                        "passed_time": 2.415618638,
                        "remaining_time": 25.35011283,
                        "test": [
                          0.5746031746,
                          0.7115695045
                        ]
                      },
                      {
                        "learn": [
                          0.968707483,
                          0.2324049139
                        ],
                        "iteration": 87,
                        "passed_time": 2.440957835,
                        "remaining_time": 25.29719938,
                        "test": [
                          0.5777777778,
                          0.7102913993
                        ]
                      },
                      {
                        "learn": [
                          0.9714285714,
                          0.2291000262
                        ],
                        "iteration": 88,
                        "passed_time": 2.466225503,
                        "remaining_time": 25.2441734,
                        "test": [
                          0.5714285714,
                          0.706579832
                        ]
                      },
                      {
                        "learn": [
                          0.9714285714,
                          0.2282439148
                        ],
                        "iteration": 89,
                        "passed_time": 2.490107614,
                        "remaining_time": 25.17775477,
                        "test": [
                          0.5714285714,
                          0.7069756402
                        ]
                      },
                      {
                        "learn": [
                          0.9714285714,
                          0.2264529274
                        ],
                        "iteration": 90,
                        "passed_time": 2.514827581,
                        "remaining_time": 25.12064034,
                        "test": [
                          0.5714285714,
                          0.7107543945
                        ]
                      },
                      {
                        "learn": [
                          0.9755102041,
                          0.2242205769
                        ],
                        "iteration": 91,
                        "passed_time": 2.539153881,
                        "remaining_time": 25.06034482,
                        "test": [
                          0.5682539683,
                          0.7119843983
                        ]
                      },
                      {
                        "learn": [
                          0.9727891156,
                          0.2227960288
                        ],
                        "iteration": 92,
                        "passed_time": 2.562947569,
                        "remaining_time": 24.99562844,
                        "test": [
                          0.5619047619,
                          0.7142239041
                        ]
                      },
                      {
                        "learn": [
                          0.9755102041,
                          0.2217228066
                        ],
                        "iteration": 93,
                        "passed_time": 2.589820091,
                        "remaining_time": 24.96145747,
                        "test": [
                          0.5619047619,
                          0.7132854159
                        ]
                      },
                      {
                        "learn": [
                          0.9768707483,
                          0.2204013539
                        ],
                        "iteration": 94,
                        "passed_time": 2.631091448,
                        "remaining_time": 25.064608,
                        "test": [
                          0.5650793651,
                          0.7121768043
                        ]
                      },
                      {
                        "learn": [
                          0.9768707483,
                          0.217533532
                        ],
                        "iteration": 95,
                        "passed_time": 2.655549373,
                        "remaining_time": 25.00642327,
                        "test": [
                          0.5714285714,
                          0.7153692336
                        ]
                      },
                      {
                        "learn": [
                          0.9768707483,
                          0.2169682302
                        ],
                        "iteration": 96,
                        "passed_time": 2.67987126,
                        "remaining_time": 24.9476675,
                        "test": [
                          0.5714285714,
                          0.7153318375
                        ]
                      },
                      {
                        "learn": [
                          0.9768707483,
                          0.2164444489
                        ],
                        "iteration": 97,
                        "passed_time": 2.703806744,
                        "remaining_time": 24.88605799,
                        "test": [
                          0.5714285714,
                          0.7162086608
                        ]
                      },
                      {
                        "learn": [
                          0.9782312925,
                          0.2136702557
                        ],
                        "iteration": 98,
                        "passed_time": 2.727563953,
                        "remaining_time": 24.82358709,
                        "test": [
                          0.5714285714,
                          0.7203836108
                        ]
                      },
                      {
                        "learn": [
                          0.9768707483,
                          0.2114897228
                        ],
                        "iteration": 99,
                        "passed_time": 2.751876954,
                        "remaining_time": 24.76689259,
                        "test": [
                          0.5682539683,
                          0.7225053091
                        ]
                      },
                      {
                        "learn": [
                          0.9768707483,
                          0.2106529807
                        ],
                        "iteration": 100,
                        "passed_time": 2.778117345,
                        "remaining_time": 24.72799499,
                        "test": [
                          0.5682539683,
                          0.7226546515
                        ]
                      },
                      {
                        "learn": [
                          0.980952381,
                          0.2081219939
                        ],
                        "iteration": 101,
                        "passed_time": 2.802232154,
                        "remaining_time": 24.6706321,
                        "test": [
                          0.5714285714,
                          0.7273284912
                        ]
                      },
                      {
                        "learn": [
                          0.980952381,
                          0.2069829201
                        ],
                        "iteration": 102,
                        "passed_time": 2.826367939,
                        "remaining_time": 24.61409749,
                        "test": [
                          0.5746031746,
                          0.7273635138
                        ]
                      },
                      {
                        "learn": [
                          0.980952381,
                          0.2058433066
                        ],
                        "iteration": 103,
                        "passed_time": 2.852980835,
                        "remaining_time": 24.5795272,
                        "test": [
                          0.5841269841,
                          0.7270188105
                        ]
                      },
                      {
                        "learn": [
                          0.980952381,
                          0.205275472
                        ],
                        "iteration": 104,
                        "passed_time": 2.876973581,
                        "remaining_time": 24.52277481,
                        "test": [
                          0.5873015873,
                          0.7282290504
                        ]
                      },
                      {
                        "learn": [
                          0.9836734694,
                          0.20429237
                        ],
                        "iteration": 105,
                        "passed_time": 2.900949808,
                        "remaining_time": 24.46650121,
                        "test": [
                          0.5841269841,
                          0.7282352508
                        ]
                      },
                      {
                        "learn": [
                          0.9836734694,
                          0.2007452102
                        ],
                        "iteration": 106,
                        "passed_time": 2.925490775,
                        "remaining_time": 24.41554451,
                        "test": [
                          0.5904761905,
                          0.732564145
                        ]
                      },
                      {
                        "learn": [
                          0.9850340136,
                          0.1989206742
                        ],
                        "iteration": 107,
                        "passed_time": 2.950221073,
                        "remaining_time": 24.36664072,
                        "test": [
                          0.5904761905,
                          0.7305350652
                        ]
                      },
                      {
                        "learn": [
                          0.9850340136,
                          0.1980614072
                        ],
                        "iteration": 108,
                        "passed_time": 2.986593867,
                        "remaining_time": 24.41334987,
                        "test": [
                          0.5904761905,
                          0.7315306648
                        ]
                      },
                      {
                        "learn": [
                          0.9836734694,
                          0.1965206224
                        ],
                        "iteration": 109,
                        "passed_time": 3.010760721,
                        "remaining_time": 24.35979129,
                        "test": [
                          0.5904761905,
                          0.7339630611
                        ]
                      },
                      {
                        "learn": [
                          0.9836734694,
                          0.1957671496
                        ],
                        "iteration": 110,
                        "passed_time": 3.034852382,
                        "remaining_time": 24.30616007,
                        "test": [
                          0.5873015873,
                          0.73449242
                        ]
                      },
                      {
                        "learn": [
                          0.9850340136,
                          0.1950973199
                        ],
                        "iteration": 111,
                        "passed_time": 3.058565361,
                        "remaining_time": 24.25005393,
                        "test": [
                          0.5904761905,
                          0.7351442367
                        ]
                      },
                      {
                        "learn": [
                          0.9850340136,
                          0.1941576484
                        ],
                        "iteration": 112,
                        "passed_time": 3.082474794,
                        "remaining_time": 24.19606321,
                        "test": [
                          0.5841269841,
                          0.7336758084
                        ]
                      },
                      {
                        "learn": [
                          0.9850340136,
                          0.1939044148
                        ],
                        "iteration": 113,
                        "passed_time": 3.106679546,
                        "remaining_time": 24.14489542,
                        "test": [
                          0.5841269841,
                          0.7332573785
                        ]
                      },
                      {
                        "learn": [
                          0.9850340136,
                          0.1932452351
                        ],
                        "iteration": 114,
                        "passed_time": 3.130656075,
                        "remaining_time": 24.09244023,
                        "test": [
                          0.5873015873,
                          0.7316646515
                        ]
                      },
                      {
                        "learn": [
                          0.9850340136,
                          0.1927733545
                        ],
                        "iteration": 115,
                        "passed_time": 3.15460609,
                        "remaining_time": 24.040274,
                        "test": [
                          0.5841269841,
                          0.7317837185
                        ]
                      },
                      {
                        "learn": [
                          0.9863945578,
                          0.1908820535
                        ],
                        "iteration": 116,
                        "passed_time": 3.179126394,
                        "remaining_time": 23.99289407,
                        "test": [
                          0.5904761905,
                          0.7275850811
                        ]
                      },
                      {
                        "learn": [
                          0.9863945578,
                          0.1905537923
                        ],
                        "iteration": 117,
                        "passed_time": 3.206654407,
                        "remaining_time": 23.96838294,
                        "test": [
                          0.5936507937,
                          0.7276627798
                        ]
                      },
                      {
                        "learn": [
                          0.9863945578,
                          0.1901872907
                        ],
                        "iteration": 118,
                        "passed_time": 3.230636261,
                        "remaining_time": 23.91756761,
                        "test": [
                          0.5936507937,
                          0.7277707055
                        ]
                      },
                      {
                        "learn": [
                          0.9904761905,
                          0.1876423323
                        ],
                        "iteration": 119,
                        "passed_time": 3.254710348,
                        "remaining_time": 23.86787588,
                        "test": [
                          0.5841269841,
                          0.7301432292
                        ]
                      },
                      {
                        "learn": [
                          0.9904761905,
                          0.186675278
                        ],
                        "iteration": 120,
                        "passed_time": 3.278571907,
                        "remaining_time": 23.81706368,
                        "test": [
                          0.5936507937,
                          0.7314084976
                        ]
                      },
                      {
                        "learn": [
                          0.9904761905,
                          0.1818858452
                        ],
                        "iteration": 121,
                        "passed_time": 3.307702961,
                        "remaining_time": 23.80461639,
                        "test": [
                          0.5904761905,
                          0.7304736425
                        ]
                      },
                      {
                        "learn": [
                          0.9904761905,
                          0.1811326838
                        ],
                        "iteration": 122,
                        "passed_time": 3.34701534,
                        "remaining_time": 23.86449149,
                        "test": [
                          0.5873015873,
                          0.7324801975
                        ]
                      },
                      {
                        "learn": [
                          0.9904761905,
                          0.1809964757
                        ],
                        "iteration": 123,
                        "passed_time": 3.370734883,
                        "remaining_time": 23.81261095,
                        "test": [
                          0.5841269841,
                          0.7328926208
                        ]
                      },
                      {
                        "learn": [
                          0.9904761905,
                          0.1801545643
                        ],
                        "iteration": 124,
                        "passed_time": 3.394676763,
                        "remaining_time": 23.76273734,
                        "test": [
                          0.5873015873,
                          0.7332854256
                        ]
                      },
                      {
                        "learn": [
                          0.9918367347,
                          0.1789657281
                        ],
                        "iteration": 125,
                        "passed_time": 3.420470295,
                        "remaining_time": 23.72611935,
                        "test": [
                          0.5841269841,
                          0.7332722013
                        ]
                      },
                      {
                        "learn": [
                          0.9918367347,
                          0.1781292974
                        ],
                        "iteration": 126,
                        "passed_time": 3.445186567,
                        "remaining_time": 23.68226672,
                        "test": [
                          0.5873015873,
                          0.7324786474
                        ]
                      },
                      {
                        "learn": [
                          0.9931972789,
                          0.1774554402
                        ],
                        "iteration": 127,
                        "passed_time": 3.469803279,
                        "remaining_time": 23.63803484,
                        "test": [
                          0.5841269841,
                          0.7333029126
                        ]
                      },
                      {
                        "learn": [
                          0.9931972789,
                          0.1749528742
                        ],
                        "iteration": 128,
                        "passed_time": 3.494552065,
                        "remaining_time": 23.59499883,
                        "test": [
                          0.5936507937,
                          0.7331847176
                        ]
                      },
                      {
                        "learn": [
                          0.9931972789,
                          0.1721837673
                        ],
                        "iteration": 129,
                        "passed_time": 3.519004285,
                        "remaining_time": 23.55025945,
                        "test": [
                          0.5968253968,
                          0.7301814488
                        ]
                      },
                      {
                        "learn": [
                          0.9931972789,
                          0.1717040081
                        ],
                        "iteration": 130,
                        "passed_time": 3.547538084,
                        "remaining_time": 23.5329053,
                        "test": [
                          0.5936507937,
                          0.7319809687
                        ]
                      },
                      {
                        "learn": [
                          0.9931972789,
                          0.1710664503
                        ],
                        "iteration": 131,
                        "passed_time": 3.571914932,
                        "remaining_time": 23.48804667,
                        "test": [
                          0.5936507937,
                          0.7326765272
                        ]
                      },
                      {
                        "learn": [
                          0.9931972789,
                          0.1707030939
                        ],
                        "iteration": 132,
                        "passed_time": 3.599109668,
                        "remaining_time": 23.46186528,
                        "test": [
                          0.5936507937,
                          0.7331932916
                        ]
                      },
                      {
                        "learn": [
                          0.9931972789,
                          0.1701271317
                        ],
                        "iteration": 133,
                        "passed_time": 3.643653329,
                        "remaining_time": 23.54778942,
                        "test": [
                          0.5936507937,
                          0.7329717727
                        ]
                      },
                      {
                        "learn": [
                          0.9931972789,
                          0.1695428031
                        ],
                        "iteration": 134,
                        "passed_time": 3.667136375,
                        "remaining_time": 23.49683677,
                        "test": [
                          0.5968253968,
                          0.7346394857
                        ]
                      },
                      {
                        "learn": [
                          0.9931972789,
                          0.1668396411
                        ],
                        "iteration": 135,
                        "passed_time": 3.691417357,
                        "remaining_time": 23.45135733,
                        "test": [
                          0.5841269841,
                          0.7351185632
                        ]
                      },
                      {
                        "learn": [
                          0.9931972789,
                          0.1665875597
                        ],
                        "iteration": 136,
                        "passed_time": 3.715291574,
                        "remaining_time": 23.40362503,
                        "test": [
                          0.5841269841,
                          0.7345504519
                        ]
                      },
                      {
                        "learn": [
                          0.9931972789,
                          0.1655813619
                        ],
                        "iteration": 137,
                        "passed_time": 3.739382237,
                        "remaining_time": 23.3575905,
                        "test": [
                          0.5841269841,
                          0.7364420573
                        ]
                      },
                      {
                        "learn": [
                          0.9931972789,
                          0.1642922641
                        ],
                        "iteration": 138,
                        "passed_time": 3.763440031,
                        "remaining_time": 23.31166811,
                        "test": [
                          0.5841269841,
                          0.7391904801
                        ]
                      },
                      {
                        "learn": [
                          0.9931972789,
                          0.1640302801
                        ],
                        "iteration": 139,
                        "passed_time": 3.790416741,
                        "remaining_time": 23.28398855,
                        "test": [
                          0.5873015873,
                          0.7389451769
                        ]
                      },
                      {
                        "learn": [
                          0.9945578231,
                          0.1635292001
                        ],
                        "iteration": 140,
                        "passed_time": 3.814611928,
                        "remaining_time": 23.23937338,
                        "test": [
                          0.5873015873,
                          0.7388451955
                        ]
                      },
                      {
                        "learn": [
                          0.9945578231,
                          0.1634522938
                        ],
                        "iteration": 141,
                        "passed_time": 3.839883884,
                        "remaining_time": 23.20155192,
                        "test": [
                          0.5841269841,
                          0.7389897422
                        ]
                      },
                      {
                        "learn": [
                          0.9945578231,
                          0.1623827253
                        ],
                        "iteration": 142,
                        "passed_time": 3.866287049,
                        "remaining_time": 23.17068532,
                        "test": [
                          0.5841269841,
                          0.7373604911
                        ]
                      },
                      {
                        "learn": [
                          0.9945578231,
                          0.1619676655
                        ],
                        "iteration": 143,
                        "passed_time": 3.890276477,
                        "remaining_time": 23.12553239,
                        "test": [
                          0.5841269841,
                          0.7379714239
                        ]
                      },
                      {
                        "learn": [
                          0.9945578231,
                          0.1612943169
                        ],
                        "iteration": 144,
                        "passed_time": 3.914597092,
                        "remaining_time": 23.08262423,
                        "test": [
                          0.5841269841,
                          0.7383581737
                        ]
                      },
                      {
                        "learn": [
                          0.9945578231,
                          0.1606002704
                        ],
                        "iteration": 145,
                        "passed_time": 3.938360807,
                        "remaining_time": 23.03671322,
                        "test": [
                          0.5873015873,
                          0.737780907
                        ]
                      },
                      {
                        "learn": [
                          0.9945578231,
                          0.1602487369
                        ],
                        "iteration": 146,
                        "passed_time": 3.962216593,
                        "remaining_time": 22.99163778,
                        "test": [
                          0.580952381,
                          0.7385087271
                        ]
                      },
                      {
                        "learn": [
                          0.9945578231,
                          0.159710548
                        ],
                        "iteration": 147,
                        "passed_time": 3.989877631,
                        "remaining_time": 22.96875501,
                        "test": [
                          0.5841269841,
                          0.7404490153
                        ]
                      },
                      {
                        "learn": [
                          0.9945578231,
                          0.1590210065
                        ],
                        "iteration": 148,
                        "passed_time": 4.013907318,
                        "remaining_time": 22.92506797,
                        "test": [
                          0.5873015873,
                          0.7412953695
                        ]
                      },
                      {
                        "learn": [
                          0.9945578231,
                          0.158727145
                        ],
                        "iteration": 149,
                        "passed_time": 4.037854134,
                        "remaining_time": 22.88117343,
                        "test": [
                          0.5873015873,
                          0.7418923999
                        ]
                      },
                      {
                        "learn": [
                          0.9945578231,
                          0.1584703303
                        ],
                        "iteration": 150,
                        "passed_time": 4.061598496,
                        "remaining_time": 22.83640479,
                        "test": [
                          0.5904761905,
                          0.7419890873
                        ]
                      },
                      {
                        "learn": [
                          0.9945578231,
                          0.1570299006
                        ],
                        "iteration": 151,
                        "passed_time": 4.085289824,
                        "remaining_time": 22.79161691,
                        "test": [
                          0.5841269841,
                          0.7394688198
                        ]
                      },
                      {
                        "learn": [
                          0.9945578231,
                          0.1564803558
                        ],
                        "iteration": 152,
                        "passed_time": 4.108817894,
                        "remaining_time": 22.74620102,
                        "test": [
                          0.5841269841,
                          0.7411296542
                        ]
                      },
                      {
                        "learn": [
                          0.9945578231,
                          0.1559977836
                        ],
                        "iteration": 153,
                        "passed_time": 4.132432999,
                        "remaining_time": 22.70154752,
                        "test": [
                          0.5841269841,
                          0.7420773945
                        ]
                      },
                      {
                        "learn": [
                          0.9959183673,
                          0.1540683253
                        ],
                        "iteration": 154,
                        "passed_time": 4.157494295,
                        "remaining_time": 22.66504955,
                        "test": [
                          0.5873015873,
                          0.7436159164
                        ]
                      },
                      {
                        "learn": [
                          0.9945578231,
                          0.1533365678
                        ],
                        "iteration": 155,
                        "passed_time": 4.184638155,
                        "remaining_time": 22.6399654,
                        "test": [
                          0.5904761905,
                          0.7431811136
                        ]
                      },
                      {
                        "learn": [
                          0.9945578231,
                          0.1531393246
                        ],
                        "iteration": 156,
                        "passed_time": 4.208746071,
                        "remaining_time": 22.59855374,
                        "test": [
                          0.5936507937,
                          0.7433313763
                        ]
                      },
                      {
                        "learn": [
                          0.9945578231,
                          0.152345307
                        ],
                        "iteration": 157,
                        "passed_time": 4.233286057,
                        "remaining_time": 22.55966367,
                        "test": [
                          0.5873015873,
                          0.743436008
                        ]
                      },
                      {
                        "learn": [
                          0.9945578231,
                          0.1517491347
                        ],
                        "iteration": 158,
                        "passed_time": 4.257342424,
                        "remaining_time": 22.51839609,
                        "test": [
                          0.5873015873,
                          0.7434747121
                        ]
                      },
                      {
                        "learn": [
                          0.9945578231,
                          0.1508914973
                        ],
                        "iteration": 159,
                        "passed_time": 4.281673835,
                        "remaining_time": 22.47878763,
                        "test": [
                          0.580952381,
                          0.7452025398
                        ]
                      },
                      {
                        "learn": [
                          0.9945578231,
                          0.1503579484
                        ],
                        "iteration": 160,
                        "passed_time": 4.305370688,
                        "remaining_time": 22.43606216,
                        "test": [
                          0.580952381,
                          0.7458979531
                        ]
                      },
                      {
                        "learn": [
                          0.9945578231,
                          0.1495808089
                        ],
                        "iteration": 161,
                        "passed_time": 4.33930193,
                        "remaining_time": 22.44651245,
                        "test": [
                          0.5841269841,
                          0.7463425894
                        ]
                      },
                      {
                        "learn": [
                          0.9945578231,
                          0.1490322191
                        ],
                        "iteration": 162,
                        "passed_time": 4.365373792,
                        "remaining_time": 22.41606052,
                        "test": [
                          0.5841269841,
                          0.7470394074
                        ]
                      },
                      {
                        "learn": [
                          0.9945578231,
                          0.1477289732
                        ],
                        "iteration": 163,
                        "passed_time": 4.389612834,
                        "remaining_time": 22.37631908,
                        "test": [
                          0.5841269841,
                          0.7508618552
                        ]
                      },
                      {
                        "learn": [
                          0.9945578231,
                          0.1474365857
                        ],
                        "iteration": 164,
                        "passed_time": 4.417775555,
                        "remaining_time": 22.35662175,
                        "test": [
                          0.5841269841,
                          0.7517070468
                        ]
                      },
                      {
                        "learn": [
                          0.9945578231,
                          0.1468927708
                        ],
                        "iteration": 165,
                        "passed_time": 4.442073183,
                        "remaining_time": 22.31740382,
                        "test": [
                          0.5841269841,
                          0.7520827036
                        ]
                      },
                      {
                        "learn": [
                          0.9945578231,
                          0.1458971296
                        ],
                        "iteration": 166,
                        "passed_time": 4.466233726,
                        "remaining_time": 22.2776808,
                        "test": [
                          0.5873015873,
                          0.7517776731
                        ]
                      },
                      {
                        "learn": [
                          0.9945578231,
                          0.1455809716
                        ],
                        "iteration": 167,
                        "passed_time": 4.490221512,
                        "remaining_time": 22.23728749,
                        "test": [
                          0.5904761905,
                          0.7514323885
                        ]
                      },
                      {
                        "learn": [
                          0.9959183673,
                          0.1449664888
                        ],
                        "iteration": 168,
                        "passed_time": 4.514203578,
                        "remaining_time": 22.1970602,
                        "test": [
                          0.5904761905,
                          0.7509163024
                        ]
                      },
                      {
                        "learn": [
                          0.9959183673,
                          0.1435539505
                        ],
                        "iteration": 169,
                        "passed_time": 4.538017086,
                        "remaining_time": 22.15620107,
                        "test": [
                          0.5904761905,
                          0.7525369311
                        ]
                      },
                      {
                        "learn": [
                          0.9972789116,
                          0.1392499651
                        ],
                        "iteration": 170,
                        "passed_time": 4.563125542,
                        "remaining_time": 22.12181915,
                        "test": [
                          0.5968253968,
                          0.7481835744
                        ]
                      },
                      {
                        "learn": [
                          0.9972789116,
                          0.1387222913
                        ],
                        "iteration": 171,
                        "passed_time": 4.587272819,
                        "remaining_time": 22.08291799,
                        "test": [
                          0.5968253968,
                          0.74807623
                        ]
                      },
                      {
                        "learn": [
                          0.9972789116,
                          0.1382547599
                        ],
                        "iteration": 172,
                        "passed_time": 4.611120197,
                        "remaining_time": 22.04275377,
                        "test": [
                          0.5968253968,
                          0.7489109584
                        ]
                      },
                      {
                        "learn": [
                          0.9972789116,
                          0.1374709875
                        ],
                        "iteration": 173,
                        "passed_time": 4.658357133,
                        "remaining_time": 22.1138103,
                        "test": [
                          0.5936507937,
                          0.7526068309
                        ]
                      },
                      {
                        "learn": [
                          0.9972789116,
                          0.1370237805
                        ],
                        "iteration": 174,
                        "passed_time": 4.68246844,
                        "remaining_time": 22.07449407,
                        "test": [
                          0.5936507937,
                          0.7520989796
                        ]
                      },
                      {
                        "learn": [
                          0.9972789116,
                          0.1368925134
                        ],
                        "iteration": 175,
                        "passed_time": 4.706957768,
                        "remaining_time": 22.03712046,
                        "test": [
                          0.5936507937,
                          0.7519704667
                        ]
                      },
                      {
                        "learn": [
                          0.9972789116,
                          0.1367350572
                        ],
                        "iteration": 176,
                        "passed_time": 4.730916215,
                        "remaining_time": 21.99742398,
                        "test": [
                          0.5936507937,
                          0.7513416109
                        ]
                      },
                      {
                        "learn": [
                          0.9972789116,
                          0.1364682983
                        ],
                        "iteration": 177,
                        "passed_time": 4.755095445,
                        "remaining_time": 21.95892391,
                        "test": [
                          0.5936507937,
                          0.7514521523
                        ]
                      },
                      {
                        "learn": [
                          0.9972789116,
                          0.1353682226
                        ],
                        "iteration": 178,
                        "passed_time": 4.781318082,
                        "remaining_time": 21.92995612,
                        "test": [
                          0.6,
                          0.7510219998
                        ]
                      },
                      {
                        "learn": [
                          0.9972789116,
                          0.1351445827
                        ],
                        "iteration": 179,
                        "passed_time": 4.805035964,
                        "remaining_time": 21.88960828,
                        "test": [
                          0.6,
                          0.7523556179
                        ]
                      },
                      {
                        "learn": [
                          0.9972789116,
                          0.134537013
                        ],
                        "iteration": 180,
                        "passed_time": 4.829033243,
                        "remaining_time": 21.85070843,
                        "test": [
                          0.6,
                          0.7519264827
                        ]
                      },
                      {
                        "learn": [
                          0.9972789116,
                          0.1331411764
                        ],
                        "iteration": 181,
                        "passed_time": 4.853256881,
                        "remaining_time": 21.81298972,
                        "test": [
                          0.5936507937,
                          0.754688275
                        ]
                      },
                      {
                        "learn": [
                          0.9972789116,
                          0.1326827069
                        ],
                        "iteration": 182,
                        "passed_time": 4.878692977,
                        "remaining_time": 21.78083149,
                        "test": [
                          0.5936507937,
                          0.754308307
                        ]
                      },
                      {
                        "learn": [
                          0.9972789116,
                          0.1319280404
                        ],
                        "iteration": 183,
                        "passed_time": 4.902451754,
                        "remaining_time": 21.74130778,
                        "test": [
                          0.5936507937,
                          0.7543112134
                        ]
                      },
                      {
                        "learn": [
                          0.9972789116,
                          0.1317342745
                        ],
                        "iteration": 184,
                        "passed_time": 4.926104126,
                        "remaining_time": 21.70148574,
                        "test": [
                          0.5936507937,
                          0.7545807369
                        ]
                      },
                      {
                        "learn": [
                          0.9972789116,
                          0.1313671501
                        ],
                        "iteration": 185,
                        "passed_time": 4.949784441,
                        "remaining_time": 21.66195987,
                        "test": [
                          0.5936507937,
                          0.7543985034
                        ]
                      },
                      {
                        "learn": [
                          0.9972789116,
                          0.1309881924
                        ],
                        "iteration": 186,
                        "passed_time": 4.9765605,
                        "remaining_time": 21.6360625,
                        "test": [
                          0.5936507937,
                          0.7548341297
                        ]
                      },
                      {
                        "learn": [
                          0.9972789116,
                          0.1307981945
                        ],
                        "iteration": 187,
                        "passed_time": 5.000003825,
                        "remaining_time": 21.5957612,
                        "test": [
                          0.5968253968,
                          0.7545817057
                        ]
                      },
                      {
                        "learn": [
                          0.9972789116,
                          0.130318425
                        ],
                        "iteration": 188,
                        "passed_time": 5.023639335,
                        "remaining_time": 21.55646297,
                        "test": [
                          0.5968253968,
                          0.7553137885
                        ]
                      },
                      {
                        "learn": [
                          0.9972789116,
                          0.1297084782
                        ],
                        "iteration": 189,
                        "passed_time": 5.048232644,
                        "remaining_time": 21.52141285,
                        "test": [
                          0.5968253968,
                          0.755610681
                        ]
                      },
                      {
                        "learn": [
                          0.9972789116,
                          0.129310992
                        ],
                        "iteration": 190,
                        "passed_time": 5.072543864,
                        "remaining_time": 21.48527741,
                        "test": [
                          0.5968253968,
                          0.7551852272
                        ]
                      },
                      {
                        "learn": [
                          0.9972789116,
                          0.1289845785
                        ],
                        "iteration": 191,
                        "passed_time": 5.120602748,
                        "remaining_time": 21.54920323,
                        "test": [
                          0.5968253968,
                          0.7563134572
                        ]
                      },
                      {
                        "learn": [
                          0.9972789116,
                          0.1280606847
                        ],
                        "iteration": 192,
                        "passed_time": 5.149689509,
                        "remaining_time": 21.53263955,
                        "test": [
                          0.5936507937,
                          0.7589799669
                        ]
                      },
                      {
                        "learn": [
                          0.9972789116,
                          0.1279313691
                        ],
                        "iteration": 193,
                        "passed_time": 5.173902143,
                        "remaining_time": 21.49569653,
                        "test": [
                          0.5936507937,
                          0.7585393996
                        ]
                      },
                      {
                        "learn": [
                          0.9986394558,
                          0.1269122688
                        ],
                        "iteration": 194,
                        "passed_time": 5.198753985,
                        "remaining_time": 21.46152286,
                        "test": [
                          0.5968253968,
                          0.758762178
                        ]
                      },
                      {
                        "learn": [
                          0.9986394558,
                          0.1267165203
                        ],
                        "iteration": 195,
                        "passed_time": 5.223366356,
                        "remaining_time": 21.42646199,
                        "test": [
                          0.5968253968,
                          0.759407988
                        ]
                      },
                      {
                        "learn": [
                          0.9986394558,
                          0.1262251458
                        ],
                        "iteration": 196,
                        "passed_time": 5.248199168,
                        "remaining_time": 21.39240574,
                        "test": [
                          0.5968253968,
                          0.7589772058
                        ]
                      },
                      {
                        "learn": [
                          0.9986394558,
                          0.125871526
                        ],
                        "iteration": 197,
                        "passed_time": 5.272559563,
                        "remaining_time": 21.35652914,
                        "test": [
                          0.5968253968,
                          0.7585175045
                        ]
                      },
                      {
                        "learn": [
                          0.9986394558,
                          0.1256837806
                        ],
                        "iteration": 198,
                        "passed_time": 5.296858857,
                        "remaining_time": 21.32052233,
                        "test": [
                          0.5968253968,
                          0.7596403576
                        ]
                      },
                      {
                        "learn": [
                          0.9986394558,
                          0.1256020475
                        ],
                        "iteration": 199,
                        "passed_time": 5.321420114,
                        "remaining_time": 21.28568045,
                        "test": [
                          0.5968253968,
                          0.7591963026
                        ]
                      },
                      {
                        "learn": [
                          0.9986394558,
                          0.1232083587
                        ],
                        "iteration": 200,
                        "passed_time": 5.346279198,
                        "remaining_time": 21.25212477,
                        "test": [
                          0.6031746032,
                          0.7575265551
                        ]
                      },
                      {
                        "learn": [
                          0.9986394558,
                          0.1227449897
                        ],
                        "iteration": 201,
                        "passed_time": 5.382082125,
                        "remaining_time": 21.26188879,
                        "test": [
                          0.6031746032,
                          0.7586327931
                        ]
                      },
                      {
                        "learn": [
                          0.9986394558,
                          0.1226934316
                        ],
                        "iteration": 202,
                        "passed_time": 5.409672326,
                        "remaining_time": 21.23895982,
                        "test": [
                          0.6031746032,
                          0.758630468
                        ]
                      },
                      {
                        "learn": [
                          0.9986394558,
                          0.1224701966
                        ],
                        "iteration": 203,
                        "passed_time": 5.433889721,
                        "remaining_time": 21.2028246,
                        "test": [
                          0.6031746032,
                          0.7575436062
                        ]
                      },
                      {
                        "learn": [
                          0.9986394558,
                          0.1216642419
                        ],
                        "iteration": 204,
                        "passed_time": 5.458364751,
                        "remaining_time": 21.16780477,
                        "test": [
                          0.6031746032,
                          0.7586229112
                        ]
                      },
                      {
                        "learn": [
                          0.9986394558,
                          0.1208741272
                        ],
                        "iteration": 205,
                        "passed_time": 5.482938662,
                        "remaining_time": 21.13326843,
                        "test": [
                          0.6031746032,
                          0.7583181714
                        ]
                      },
                      {
                        "learn": [
                          0.9986394558,
                          0.1206291873
                        ],
                        "iteration": 206,
                        "passed_time": 5.507629539,
                        "remaining_time": 21.09927645,
                        "test": [
                          0.6031746032,
                          0.7579396081
                        ]
                      },
                      {
                        "learn": [
                          0.9986394558,
                          0.1203004072
                        ],
                        "iteration": 207,
                        "passed_time": 5.531933226,
                        "remaining_time": 21.06389959,
                        "test": [
                          0.6031746032,
                          0.7580816844
                        ]
                      },
                      {
                        "learn": [
                          0.9986394558,
                          0.1198441694
                        ],
                        "iteration": 208,
                        "passed_time": 5.562948801,
                        "remaining_time": 21.05403111,
                        "test": [
                          0.6031746032,
                          0.7589838906
                        ]
                      },
                      {
                        "learn": [
                          0.9986394558,
                          0.1195229044
                        ],
                        "iteration": 209,
                        "passed_time": 5.587729362,
                        "remaining_time": 21.02050569,
                        "test": [
                          0.6031746032,
                          0.7586462596
                        ]
                      },
                      {
                        "learn": [
                          0.9986394558,
                          0.1189920854
                        ],
                        "iteration": 210,
                        "passed_time": 5.612505204,
                        "remaining_time": 20.98704552,
                        "test": [
                          0.6031746032,
                          0.7594732375
                        ]
                      },
                      {
                        "learn": [
                          0.9986394558,
                          0.1186965942
                        ],
                        "iteration": 211,
                        "passed_time": 5.657656521,
                        "remaining_time": 21.02940254,
                        "test": [
                          0.6031746032,
                          0.7606407529
                        ]
                      },
                      {
                        "learn": [
                          0.9986394558,
                          0.1184032207
                        ],
                        "iteration": 212,
                        "passed_time": 5.68148872,
                        "remaining_time": 20.99216724,
                        "test": [
                          0.6031746032,
                          0.7613526359
                        ]
                      },
                      {
                        "learn": [
                          0.9986394558,
                          0.1177563518
                        ],
                        "iteration": 213,
                        "passed_time": 5.705372169,
                        "remaining_time": 20.95524544,
                        "test": [
                          0.6063492063,
                          0.7609017508
                        ]
                      },
                      {
                        "learn": [
                          0.9986394558,
                          0.117630337
                        ],
                        "iteration": 214,
                        "passed_time": 5.729534351,
                        "remaining_time": 20.91946263,
                        "test": [
                          0.6063492063,
                          0.7612817189
                        ]
                      },
                      {
                        "learn": [
                          0.9986394558,
                          0.1174494737
                        ],
                        "iteration": 215,
                        "passed_time": 5.760210173,
                        "remaining_time": 20.90742952,
                        "test": [
                          0.6063492063,
                          0.7620613219
                        ]
                      },
                      {
                        "learn": [
                          0.9986394558,
                          0.1171742653
                        ],
                        "iteration": 216,
                        "passed_time": 5.786834966,
                        "remaining_time": 20.88060727,
                        "test": [
                          0.6063492063,
                          0.7621999105
                        ]
                      },
                      {
                        "learn": [
                          0.9986394558,
                          0.1169556287
                        ],
                        "iteration": 217,
                        "passed_time": 5.810832721,
                        "remaining_time": 20.84436325,
                        "test": [
                          0.6063492063,
                          0.7623998248
                        ]
                      },
                      {
                        "learn": [
                          0.9986394558,
                          0.1153698357
                        ],
                        "iteration": 218,
                        "passed_time": 5.834817462,
                        "remaining_time": 20.80818465,
                        "test": [
                          0.6095238095,
                          0.7641575405
                        ]
                      },
                      {
                        "learn": [
                          0.9986394558,
                          0.1140459541
                        ],
                        "iteration": 219,
                        "passed_time": 5.859675565,
                        "remaining_time": 20.77521337,
                        "test": [
                          0.6063492063,
                          0.7676181369
                        ]
                      },
                      {
                        "learn": [
                          0.9986394558,
                          0.1129293948
                        ],
                        "iteration": 220,
                        "passed_time": 5.884099207,
                        "remaining_time": 20.74078408,
                        "test": [
                          0.6095238095,
                          0.7701291039
                        ]
                      },
                      {
                        "learn": [
                          0.9986394558,
                          0.1125384169
                        ],
                        "iteration": 221,
                        "passed_time": 5.908121394,
                        "remaining_time": 20.70503804,
                        "test": [
                          0.6095238095,
                          0.769183834
                        ]
                      },
                      {
                        "learn": [
                          0.9986394558,
                          0.1116049734
                        ],
                        "iteration": 222,
                        "passed_time": 5.932012196,
                        "remaining_time": 20.66893936,
                        "test": [
                          0.6063492063,
                          0.7694559249
                        ]
                      },
                      {
                        "learn": [
                          0.9986394558,
                          0.1114498009
                        ],
                        "iteration": 223,
                        "passed_time": 5.956952713,
                        "remaining_time": 20.63658618,
                        "test": [
                          0.6031746032,
                          0.770023794
                        ]
                      },
                      {
                        "learn": [
                          0.9986394558,
                          0.1098856297
                        ],
                        "iteration": 224,
                        "passed_time": 5.987123301,
                        "remaining_time": 20.62231359,
                        "test": [
                          0.6063492063,
                          0.7694630456
                        ]
                      },
                      {
                        "learn": [
                          0.9986394558,
                          0.1096817743
                        ],
                        "iteration": 225,
                        "passed_time": 6.015046801,
                        "remaining_time": 20.60020453,
                        "test": [
                          0.6095238095,
                          0.769544668
                        ]
                      },
                      {
                        "learn": [
                          0.9986394558,
                          0.1095595794
                        ],
                        "iteration": 226,
                        "passed_time": 6.039765933,
                        "remaining_time": 20.56713245,
                        "test": [
                          0.6063492063,
                          0.7692828466
                        ]
                      },
                      {
                        "learn": [
                          0.9986394558,
                          0.1088499731
                        ],
                        "iteration": 227,
                        "passed_time": 6.065242023,
                        "remaining_time": 20.53669668,
                        "test": [
                          0.6031746032,
                          0.7664292108
                        ]
                      },
                      {
                        "learn": [
                          0.9986394558,
                          0.1084627943
                        ],
                        "iteration": 228,
                        "passed_time": 6.090196958,
                        "remaining_time": 20.50454958,
                        "test": [
                          0.6031746032,
                          0.7693438818
                        ]
                      },
                      {
                        "learn": [
                          0.9986394558,
                          0.1083841129
                        ],
                        "iteration": 229,
                        "passed_time": 6.115196559,
                        "remaining_time": 20.47261457,
                        "test": [
                          0.6031746032,
                          0.7696524968
                        ]
                      },
                      {
                        "learn": [
                          0.9986394558,
                          0.1082781422
                        ],
                        "iteration": 230,
                        "passed_time": 6.139679017,
                        "remaining_time": 20.43901803,
                        "test": [
                          0.6031746032,
                          0.7703338139
                        ]
                      },
                      {
                        "learn": [
                          0.9986394558,
                          0.1081016385
                        ],
                        "iteration": 231,
                        "passed_time": 6.164528963,
                        "remaining_time": 20.40671657,
                        "test": [
                          0.6031746032,
                          0.7699217781
                        ]
                      },
                      {
                        "learn": [
                          0.9986394558,
                          0.1079566592
                        ],
                        "iteration": 232,
                        "passed_time": 6.18902904,
                        "remaining_time": 20.37332736,
                        "test": [
                          0.6,
                          0.770758541
                        ]
                      },
                      {
                        "learn": [
                          0.9986394558,
                          0.1077524198
                        ],
                        "iteration": 233,
                        "passed_time": 6.213375963,
                        "remaining_time": 20.33951277,
                        "test": [
                          0.6,
                          0.7708009266
                        ]
                      },
                      {
                        "learn": [
                          0.9986394558,
                          0.1065332529
                        ],
                        "iteration": 234,
                        "passed_time": 6.237865674,
                        "remaining_time": 20.30624358,
                        "test": [
                          0.6,
                          0.7738246373
                        ]
                      },
                      {
                        "learn": [
                          0.9986394558,
                          0.1040071033
                        ],
                        "iteration": 235,
                        "passed_time": 6.264113875,
                        "remaining_time": 20.27874153,
                        "test": [
                          0.5904761905,
                          0.7710908436
                        ]
                      },
                      {
                        "learn": [
                          0.9986394558,
                          0.1036978585
                        ],
                        "iteration": 236,
                        "passed_time": 6.28835405,
                        "remaining_time": 20.2447854,
                        "test": [
                          0.5873015873,
                          0.7726373097
                        ]
                      },
                      {
                        "learn": [
                          0.9986394558,
                          0.103116644
                        ],
                        "iteration": 237,
                        "passed_time": 6.313008426,
                        "remaining_time": 20.21223706,
                        "test": [
                          0.5904761905,
                          0.7718569801
                        ]
                      },
                      {
                        "learn": [
                          0.9986394558,
                          0.1028436985
                        ],
                        "iteration": 238,
                        "passed_time": 6.33721044,
                        "remaining_time": 20.17831441,
                        "test": [
                          0.5904761905,
                          0.7723125155
                        ]
                      },
                      {
                        "learn": [
                          0.9986394558,
                          0.1017918282
                        ],
                        "iteration": 239,
                        "passed_time": 6.361906136,
                        "remaining_time": 20.1460361,
                        "test": [
                          0.5936507937,
                          0.7718547034
                        ]
                      },
                      {
                        "learn": [
                          1,
                          0.1012694274
                        ],
                        "iteration": 240,
                        "passed_time": 6.396118395,
                        "remaining_time": 20.14379196,
                        "test": [
                          0.6,
                          0.7728907025
                        ]
                      },
                      {
                        "learn": [
                          1,
                          0.1010493791
                        ],
                        "iteration": 241,
                        "passed_time": 6.425138237,
                        "remaining_time": 20.12501977,
                        "test": [
                          0.6031746032,
                          0.7722609747
                        ]
                      },
                      {
                        "learn": [
                          1,
                          0.09962928409
                        ],
                        "iteration": 242,
                        "passed_time": 6.449476577,
                        "remaining_time": 20.0915793,
                        "test": [
                          0.5968253968,
                          0.7770207481
                        ]
                      },
                      {
                        "learn": [
                          1,
                          0.09830428143
                        ],
                        "iteration": 243,
                        "passed_time": 6.473805394,
                        "remaining_time": 20.05818393,
                        "test": [
                          0.5904761905,
                          0.7781777518
                        ]
                      },
                      {
                        "learn": [
                          1,
                          0.09802344705
                        ],
                        "iteration": 244,
                        "passed_time": 6.497702408,
                        "remaining_time": 20.02353191,
                        "test": [
                          0.5904761905,
                          0.7781079489
                        ]
                      },
                      {
                        "learn": [
                          1,
                          0.09798299569
                        ],
                        "iteration": 245,
                        "passed_time": 6.521530342,
                        "remaining_time": 19.9887556,
                        "test": [
                          0.5873015873,
                          0.7784072149
                        ]
                      },
                      {
                        "learn": [
                          1,
                          0.09773864746
                        ],
                        "iteration": 246,
                        "passed_time": 6.545308975,
                        "remaining_time": 19.95391765,
                        "test": [
                          0.5873015873,
                          0.77907182
                        ]
                      },
                      {
                        "learn": [
                          1,
                          0.09733423765
                        ],
                        "iteration": 247,
                        "passed_time": 6.569259108,
                        "remaining_time": 19.91968891,
                        "test": [
                          0.5841269841,
                          0.779938277
                        ]
                      },
                      {
                        "learn": [
                          1,
                          0.0972578399
                        ],
                        "iteration": 248,
                        "passed_time": 6.59312994,
                        "remaining_time": 19.88530355,
                        "test": [
                          0.5841269841,
                          0.7802528502
                        ]
                      },
                      {
                        "learn": [
                          1,
                          0.0968752076
                        ],
                        "iteration": 249,
                        "passed_time": 6.617076501,
                        "remaining_time": 19.8512295,
                        "test": [
                          0.580952381,
                          0.7799878317
                        ]
                      },
                      {
                        "learn": [
                          1,
                          0.09654198471
                        ],
                        "iteration": 250,
                        "passed_time": 6.640924793,
                        "remaining_time": 19.81694291,
                        "test": [
                          0.580952381,
                          0.7804168217
                        ]
                      },
                      {
                        "learn": [
                          1,
                          0.09611601538
                        ],
                        "iteration": 251,
                        "passed_time": 6.686745924,
                        "remaining_time": 19.84796012,
                        "test": [
                          0.580952381,
                          0.7841486855
                        ]
                      },
                      {
                        "learn": [
                          1,
                          0.09597961011
                        ],
                        "iteration": 252,
                        "passed_time": 6.710838304,
                        "remaining_time": 19.81421428,
                        "test": [
                          0.580952381,
                          0.7835648794
                        ]
                      },
                      {
                        "learn": [
                          1,
                          0.09562156833
                        ],
                        "iteration": 253,
                        "passed_time": 6.734914764,
                        "remaining_time": 19.78049769,
                        "test": [
                          0.580952381,
                          0.7846047053
                        ]
                      },
                      {
                        "learn": [
                          1,
                          0.09515644515
                        ],
                        "iteration": 254,
                        "passed_time": 6.759073423,
                        "remaining_time": 19.74709686,
                        "test": [
                          0.5841269841,
                          0.7842427087
                        ]
                      },
                      {
                        "learn": [
                          1,
                          0.09445294231
                        ],
                        "iteration": 255,
                        "passed_time": 6.78573189,
                        "remaining_time": 19.7210333,
                        "test": [
                          0.5841269841,
                          0.7844245547
                        ]
                      },
                      {
                        "learn": [
                          1,
                          0.09417036407
                        ],
                        "iteration": 256,
                        "passed_time": 6.809915835,
                        "remaining_time": 19.68781115,
                        "test": [
                          0.5841269841,
                          0.78627019
                        ]
                      },
                      {
                        "learn": [
                          1,
                          0.09393571088
                        ],
                        "iteration": 257,
                        "passed_time": 6.833887308,
                        "remaining_time": 19.65404799,
                        "test": [
                          0.5841269841,
                          0.7864421542
                        ]
                      },
                      {
                        "learn": [
                          1,
                          0.09337366844
                        ],
                        "iteration": 258,
                        "passed_time": 6.85903006,
                        "remaining_time": 19.62371148,
                        "test": [
                          0.5841269841,
                          0.7870500837
                        ]
                      },
                      {
                        "learn": [
                          1,
                          0.09302032886
                        ],
                        "iteration": 259,
                        "passed_time": 6.883396444,
                        "remaining_time": 19.59120526,
                        "test": [
                          0.5841269841,
                          0.7875794426
                        ]
                      },
                      {
                        "learn": [
                          1,
                          0.0928894043
                        ],
                        "iteration": 260,
                        "passed_time": 6.910258973,
                        "remaining_time": 19.56582905,
                        "test": [
                          0.5841269841,
                          0.7872261653
                        ]
                      },
                      {
                        "learn": [
                          1,
                          0.09256085247
                        ],
                        "iteration": 261,
                        "passed_time": 6.934135039,
                        "remaining_time": 19.53202923,
                        "test": [
                          0.5841269841,
                          0.7863597083
                        ]
                      },
                      {
                        "learn": [
                          1,
                          0.09228775128
                        ],
                        "iteration": 262,
                        "passed_time": 6.958256139,
                        "remaining_time": 19.49899154,
                        "test": [
                          0.580952381,
                          0.7869700598
                        ]
                      },
                      {
                        "learn": [
                          1,
                          0.09136464644
                        ],
                        "iteration": 263,
                        "passed_time": 6.984180985,
                        "remaining_time": 19.47105002,
                        "test": [
                          0.5841269841,
                          0.7906391447
                        ]
                      },
                      {
                        "learn": [
                          0.9986394558,
                          0.09115873583
                        ],
                        "iteration": 264,
                        "passed_time": 7.008171275,
                        "remaining_time": 19.43775806,
                        "test": [
                          0.5841269841,
                          0.7912225632
                        ]
                      },
                      {
                        "learn": [
                          0.9986394558,
                          0.09068300416
                        ],
                        "iteration": 265,
                        "passed_time": 7.032190779,
                        "remaining_time": 19.40461666,
                        "test": [
                          0.5841269841,
                          0.7943409753
                        ]
                      },
                      {
                        "learn": [
                          0.9986394558,
                          0.09032968534
                        ],
                        "iteration": 266,
                        "passed_time": 7.055978658,
                        "remaining_time": 19.3709077,
                        "test": [
                          0.5873015873,
                          0.7951478988
                        ]
                      },
                      {
                        "learn": [
                          0.9986394558,
                          0.09022839605
                        ],
                        "iteration": 267,
                        "passed_time": 7.080050966,
                        "remaining_time": 19.33804965,
                        "test": [
                          0.5873015873,
                          0.7963789683
                        ]
                      },
                      {
                        "learn": [
                          0.9986394558,
                          0.08929196312
                        ],
                        "iteration": 268,
                        "passed_time": 7.104766434,
                        "remaining_time": 19.3070047,
                        "test": [
                          0.580952381,
                          0.8021949405
                        ]
                      },
                      {
                        "learn": [
                          0.9986394558,
                          0.08914041325
                        ],
                        "iteration": 269,
                        "passed_time": 7.128488183,
                        "remaining_time": 19.2733199,
                        "test": [
                          0.5777777778,
                          0.8033554804
                        ]
                      },
                      {
                        "learn": [
                          0.9986394558,
                          0.08895667459
                        ],
                        "iteration": 270,
                        "passed_time": 7.154100821,
                        "remaining_time": 19.2447952,
                        "test": [
                          0.5777777778,
                          0.8029617552
                        ]
                      },
                      {
                        "learn": [
                          1,
                          0.08850919762
                        ],
                        "iteration": 271,
                        "passed_time": 7.178400221,
                        "remaining_time": 19.21277706,
                        "test": [
                          0.5777777778,
                          0.8053519113
                        ]
                      },
                      {
                        "learn": [
                          1,
                          0.08723905395
                        ],
                        "iteration": 272,
                        "passed_time": 7.204421046,
                        "remaining_time": 19.18539963,
                        "test": [
                          0.5841269841,
                          0.8027691554
                        ]
                      },
                      {
                        "learn": [
                          1,
                          0.08711095278
                        ],
                        "iteration": 273,
                        "passed_time": 7.228187212,
                        "remaining_time": 19.15205809,
                        "test": [
                          0.5841269841,
                          0.8028478229
                        ]
                      },
                      {
                        "learn": [
                          1,
                          0.08696802879
                        ],
                        "iteration": 274,
                        "passed_time": 7.252063345,
                        "remaining_time": 19.11907609,
                        "test": [
                          0.5841269841,
                          0.8024677579
                        ]
                      },
                      {
                        "learn": [
                          1,
                          0.08671027982
                        ],
                        "iteration": 275,
                        "passed_time": 7.276244085,
                        "remaining_time": 19.08695912,
                        "test": [
                          0.5841269841,
                          0.803363134
                        ]
                      },
                      {
                        "learn": [
                          1,
                          0.08633417661
                        ],
                        "iteration": 276,
                        "passed_time": 7.300517998,
                        "remaining_time": 19.05514264,
                        "test": [
                          0.5873015873,
                          0.8044614762
                        ]
                      },
                      {
                        "learn": [
                          1,
                          0.08613131776
                        ],
                        "iteration": 277,
                        "passed_time": 7.324325488,
                        "remaining_time": 19.02216907,
                        "test": [
                          0.5873015873,
                          0.805058991
                        ]
                      },
                      {
                        "learn": [
                          1,
                          0.08488049669
                        ],
                        "iteration": 278,
                        "passed_time": 7.349338362,
                        "remaining_time": 18.9923762,
                        "test": [
                          0.5873015873,
                          0.8076123919
                        ]
                      },
                      {
                        "learn": [
                          1,
                          0.08474941124
                        ],
                        "iteration": 279,
                        "passed_time": 7.373506506,
                        "remaining_time": 18.9604453,
                        "test": [
                          0.5873015873,
                          0.8073290628
                        ]
                      },
                      {
                        "learn": [
                          1,
                          0.08446050631
                        ],
                        "iteration": 280,
                        "passed_time": 7.406638875,
                        "remaining_time": 18.95150659,
                        "test": [
                          0.5841269841,
                          0.8080654084
                        ]
                      },
                      {
                        "learn": [
                          1,
                          0.08432838284
                        ],
                        "iteration": 281,
                        "passed_time": 7.447491396,
                        "remaining_time": 18.96205256,
                        "test": [
                          0.5841269841,
                          0.8081378755
                        ]
                      },
                      {
                        "learn": [
                          1,
                          0.08428605787
                        ],
                        "iteration": 282,
                        "passed_time": 7.471993323,
                        "remaining_time": 18.93080994,
                        "test": [
                          0.5841269841,
                          0.8086005317
                        ]
                      },
                      {
                        "learn": [
                          1,
                          0.08398868275
                        ],
                        "iteration": 283,
                        "passed_time": 7.496014263,
                        "remaining_time": 18.89840216,
                        "test": [
                          0.5873015873,
                          0.8080250574
                        ]
                      },
                      {
                        "learn": [
                          1,
                          0.08351605993
                        ],
                        "iteration": 284,
                        "passed_time": 7.519848548,
                        "remaining_time": 18.86558495,
                        "test": [
                          0.5841269841,
                          0.8097296821
                        ]
                      },
                      {
                        "learn": [
                          1,
                          0.08325725737
                        ],
                        "iteration": 285,
                        "passed_time": 7.543991711,
                        "remaining_time": 18.83360168,
                        "test": [
                          0.5841269841,
                          0.8101858472
                        ]
                      },
                      {
                        "learn": [
                          1,
                          0.08170317566
                        ],
                        "iteration": 286,
                        "passed_time": 7.569321708,
                        "remaining_time": 18.80462153,
                        "test": [
                          0.580952381,
                          0.8097029429
                        ]
                      },
                      {
                        "learn": [
                          1,
                          0.08117520079
                        ],
                        "iteration": 287,
                        "passed_time": 7.593612154,
                        "remaining_time": 18.77309671,
                        "test": [
                          0.5873015873,
                          0.8107828292
                        ]
                      },
                      {
                        "learn": [
                          1,
                          0.08060915162
                        ],
                        "iteration": 288,
                        "passed_time": 7.617499013,
                        "remaining_time": 18.74062906,
                        "test": [
                          0.5936507937,
                          0.8077975803
                        ]
                      },
                      {
                        "learn": [
                          1,
                          0.08050610808
                        ],
                        "iteration": 289,
                        "passed_time": 7.641504548,
                        "remaining_time": 18.70851113,
                        "test": [
                          0.5936507937,
                          0.808288768
                        ]
                      },
                      {
                        "learn": [
                          1,
                          0.08020967237
                        ],
                        "iteration": 290,
                        "passed_time": 7.66599876,
                        "remaining_time": 18.67763959,
                        "test": [
                          0.5936507937,
                          0.8084257096
                        ]
                      },
                      {
                        "learn": [
                          1,
                          0.07989658693
                        ],
                        "iteration": 291,
                        "passed_time": 7.713718808,
                        "remaining_time": 18.70312642,
                        "test": [
                          0.6,
                          0.8090481228
                        ]
                      },
                      {
                        "learn": [
                          1,
                          0.07978773052
                        ],
                        "iteration": 292,
                        "passed_time": 7.739201859,
                        "remaining_time": 18.67445636,
                        "test": [
                          0.6,
                          0.8085709829
                        ]
                      },
                      {
                        "learn": [
                          1,
                          0.07971321677
                        ],
                        "iteration": 293,
                        "passed_time": 7.76278373,
                        "remaining_time": 18.64124256,
                        "test": [
                          0.6,
                          0.8082829067
                        ]
                      },
                      {
                        "learn": [
                          1,
                          0.07962720183
                        ],
                        "iteration": 294,
                        "passed_time": 7.789330951,
                        "remaining_time": 18.61518075,
                        "test": [
                          0.6,
                          0.8095620776
                        ]
                      },
                      {
                        "learn": [
                          1,
                          0.07946572336
                        ],
                        "iteration": 295,
                        "passed_time": 7.813324724,
                        "remaining_time": 18.58304259,
                        "test": [
                          0.6,
                          0.8096760099
                        ]
                      },
                      {
                        "learn": [
                          1,
                          0.07935009911
                        ],
                        "iteration": 296,
                        "passed_time": 7.837074182,
                        "remaining_time": 18.55038098,
                        "test": [
                          0.6,
                          0.8097359794
                        ]
                      },
                      {
                        "learn": [
                          1,
                          0.07923325519
                        ],
                        "iteration": 297,
                        "passed_time": 7.861033694,
                        "remaining_time": 18.518274,
                        "test": [
                          0.6,
                          0.8096613808
                        ]
                      },
                      {
                        "learn": [
                          1,
                          0.07917530293
                        ],
                        "iteration": 298,
                        "passed_time": 7.88520573,
                        "remaining_time": 18.48671979,
                        "test": [
                          0.6,
                          0.8100104922
                        ]
                      },
                      {
                        "learn": [
                          1,
                          0.07903018355
                        ],
                        "iteration": 299,
                        "passed_time": 7.909398358,
                        "remaining_time": 18.45526284,
                        "test": [
                          0.6,
                          0.8101484026
                        ]
                      },
                      {
                        "learn": [
                          1,
                          0.07796997797
                        ],
                        "iteration": 300,
                        "passed_time": 7.933308636,
                        "remaining_time": 18.42319846,
                        "test": [
                          0.5968253968,
                          0.8137794131
                        ]
                      },
                      {
                        "learn": [
                          1,
                          0.07791383704
                        ],
                        "iteration": 301,
                        "passed_time": 7.96016444,
                        "remaining_time": 18.39799596,
                        "test": [
                          0.5968253968,
                          0.8137465704
                        ]
                      },
                      {
                        "learn": [
                          1,
                          0.07783646875
                        ],
                        "iteration": 302,
                        "passed_time": 7.987437963,
                        "remaining_time": 18.37374343,
                        "test": [
                          0.5968253968,
                          0.8135904948
                        ]
                      },
                      {
                        "learn": [
                          1,
                          0.0765337678
                        ],
                        "iteration": 303,
                        "passed_time": 8.012169092,
                        "remaining_time": 18.34365029,
                        "test": [
                          0.6031746032,
                          0.8096215627
                        ]
                      },
                      {
                        "learn": [
                          1,
                          0.07637738079
                        ],
                        "iteration": 304,
                        "passed_time": 8.056149318,
                        "remaining_time": 18.357455,
                        "test": [
                          0.6031746032,
                          0.8099541074
                        ]
                      },
                      {
                        "learn": [
                          1,
                          0.07634820224
                        ],
                        "iteration": 305,
                        "passed_time": 8.112101214,
                        "remaining_time": 18.39803347,
                        "test": [
                          0.6031746032,
                          0.8099291605
                        ]
                      },
                      {
                        "learn": [
                          1,
                          0.0761264827
                        ],
                        "iteration": 306,
                        "passed_time": 8.188130565,
                        "remaining_time": 18.4833045,
                        "test": [
                          0.6,
                          0.8098941379
                        ]
                      },
                      {
                        "learn": [
                          1,
                          0.0742797644
                        ],
                        "iteration": 307,
                        "passed_time": 8.227611905,
                        "remaining_time": 18.48541376,
                        "test": [
                          0.5968253968,
                          0.8049312531
                        ]
                      },
                      {
                        "learn": [
                          1,
                          0.0729871166
                        ],
                        "iteration": 308,
                        "passed_time": 8.310029093,
                        "remaining_time": 18.58326894,
                        "test": [
                          0.6063492063,
                          0.8040639242
                        ]
                      },
                      {
                        "learn": [
                          1,
                          0.07289130282
                        ],
                        "iteration": 309,
                        "passed_time": 8.379403272,
                        "remaining_time": 18.65092986,
                        "test": [
                          0.6063492063,
                          0.8051215278
                        ]
                      },
                      {
                        "learn": [
                          1,
                          0.07208839468
                        ],
                        "iteration": 310,
                        "passed_time": 8.416712642,
                        "remaining_time": 18.64667206,
                        "test": [
                          0.6031746032,
                          0.8052752782
                        ]
                      },
                      {
                        "learn": [
                          1,
                          0.07203508234
                        ],
                        "iteration": 311,
                        "passed_time": 8.453501601,
                        "remaining_time": 18.64105481,
                        "test": [
                          0.6031746032,
                          0.8055139935
                        ]
                      },
                      {
                        "learn": [
                          1,
                          0.07173274034
                        ],
                        "iteration": 312,
                        "passed_time": 8.481808771,
                        "remaining_time": 18.61662181,
                        "test": [
                          0.6031746032,
                          0.8061559768
                        ]
                      },
                      {
                        "learn": [
                          1,
                          0.07099048848
                        ],
                        "iteration": 313,
                        "passed_time": 8.508838854,
                        "remaining_time": 18.58937406,
                        "test": [
                          0.6031746032,
                          0.8077301994
                        ]
                      },
                      {
                        "learn": [
                          1,
                          0.07080936562
                        ],
                        "iteration": 314,
                        "passed_time": 8.534999872,
                        "remaining_time": 18.56023782,
                        "test": [
                          0.6031746032,
                          0.8088143485
                        ]
                      },
                      {
                        "learn": [
                          1,
                          0.07056424407
                        ],
                        "iteration": 315,
                        "passed_time": 8.56314247,
                        "remaining_time": 18.53540965,
                        "test": [
                          0.6031746032,
                          0.8085301959
                        ]
                      },
                      {
                        "learn": [
                          1,
                          0.07046430938
                        ],
                        "iteration": 316,
                        "passed_time": 8.59183584,
                        "remaining_time": 18.51174725,
                        "test": [
                          0.6031746032,
                          0.8078899081
                        ]
                      },
                      {
                        "learn": [
                          1,
                          0.07023779421
                        ],
                        "iteration": 317,
                        "passed_time": 8.620959352,
                        "remaining_time": 18.48897572,
                        "test": [
                          0.6031746032,
                          0.8080016605
                        ]
                      },
                      {
                        "learn": [
                          1,
                          0.07000988811
                        ],
                        "iteration": 318,
                        "passed_time": 8.650288286,
                        "remaining_time": 18.46660289,
                        "test": [
                          0.6031746032,
                          0.8077919127
                        ]
                      },
                      {
                        "learn": [
                          1,
                          0.06992852866
                        ],
                        "iteration": 319,
                        "passed_time": 8.679633068,
                        "remaining_time": 18.44422027,
                        "test": [
                          0.6031746032,
                          0.8079263839
                        ]
                      },
                      {
                        "learn": [
                          1,
                          0.06901888685
                        ],
                        "iteration": 320,
                        "passed_time": 8.733446012,
                        "remaining_time": 18.47355091,
                        "test": [
                          0.6031746032,
                          0.8086534288
                        ]
                      },
                      {
                        "learn": [
                          1,
                          0.06893124743
                        ],
                        "iteration": 321,
                        "passed_time": 8.780323838,
                        "remaining_time": 18.48776261,
                        "test": [
                          0.6031746032,
                          0.8086912125
                        ]
                      },
                      {
                        "learn": [
                          1,
                          0.06883818957
                        ],
                        "iteration": 322,
                        "passed_time": 8.806463202,
                        "remaining_time": 18.45812875,
                        "test": [
                          0.6031746032,
                          0.808275689
                        ]
                      },
                      {
                        "learn": [
                          1,
                          0.06873359421
                        ],
                        "iteration": 323,
                        "passed_time": 8.832134716,
                        "remaining_time": 18.42754033,
                        "test": [
                          0.6,
                          0.8091503325
                        ]
                      },
                      {
                        "learn": [
                          1,
                          0.06824081317
                        ],
                        "iteration": 324,
                        "passed_time": 8.859575187,
                        "remaining_time": 18.40065616,
                        "test": [
                          0.6,
                          0.8079698835
                        ]
                      },
                      {
                        "learn": [
                          1,
                          0.06811809929
                        ],
                        "iteration": 325,
                        "passed_time": 8.886597904,
                        "remaining_time": 18.37290487,
                        "test": [
                          0.6031746032,
                          0.8091433086
                        ]
                      },
                      {
                        "learn": [
                          1,
                          0.06804769088
                        ],
                        "iteration": 326,
                        "passed_time": 8.915491474,
                        "remaining_time": 18.34900845,
                        "test": [
                          0.6031746032,
                          0.8102734763
                        ]
                      },
                      {
                        "learn": [
                          1,
                          0.06790494854
                        ],
                        "iteration": 327,
                        "passed_time": 8.951155046,
                        "remaining_time": 18.3389518,
                        "test": [
                          0.6,
                          0.8098714677
                        ]
                      },
                      {
                        "learn": [
                          1,
                          0.06766034081
                        ],
                        "iteration": 328,
                        "passed_time": 8.978516426,
                        "remaining_time": 18.31180706,
                        "test": [
                          0.6,
                          0.8094735766
                        ]
                      },
                      {
                        "learn": [
                          1,
                          0.06738577084
                        ],
                        "iteration": 329,
                        "passed_time": 9.0095923,
                        "remaining_time": 18.29220255,
                        "test": [
                          0.6,
                          0.8096449595
                        ]
                      },
                      {
                        "learn": [
                          1,
                          0.06728029835
                        ],
                        "iteration": 330,
                        "passed_time": 9.036943441,
                        "remaining_time": 18.26500049,
                        "test": [
                          0.6,
                          0.8098562089
                        ]
                      },
                      {
                        "learn": [
                          1,
                          0.06723121072
                        ],
                        "iteration": 331,
                        "passed_time": 9.062584754,
                        "remaining_time": 18.23435728,
                        "test": [
                          0.6,
                          0.8099154518
                        ]
                      },
                      {
                        "learn": [
                          1,
                          0.06697178017
                        ],
                        "iteration": 332,
                        "passed_time": 9.089890283,
                        "remaining_time": 18.20707753,
                        "test": [
                          0.6,
                          0.8100963774
                        ]
                      },
                      {
                        "learn": [
                          1,
                          0.06685584451
                        ],
                        "iteration": 333,
                        "passed_time": 9.114811216,
                        "remaining_time": 18.17504272,
                        "test": [
                          0.6,
                          0.8101324172
                        ]
                      },
                      {
                        "learn": [
                          1,
                          0.06668600485
                        ],
                        "iteration": 334,
                        "passed_time": 9.143682965,
                        "remaining_time": 18.15089305,
                        "test": [
                          0.5968253968,
                          0.8109695192
                        ]
                      },
                      {
                        "learn": [
                          1,
                          0.06657859128
                        ],
                        "iteration": 335,
                        "passed_time": 9.172219091,
                        "remaining_time": 18.12605201,
                        "test": [
                          0.5968253968,
                          0.8107291085
                        ]
                      },
                      {
                        "learn": [
                          1,
                          0.0663500416
                        ],
                        "iteration": 336,
                        "passed_time": 9.201167849,
                        "remaining_time": 18.10200084,
                        "test": [
                          0.5968253968,
                          0.8120407831
                        ]
                      },
                      {
                        "learn": [
                          1,
                          0.06606410539
                        ],
                        "iteration": 337,
                        "passed_time": 9.229192178,
                        "remaining_time": 18.07611012,
                        "test": [
                          0.5968253968,
                          0.8134740436
                        ]
                      },
                      {
                        "learn": [
                          1,
                          0.06572875977
                        ],
                        "iteration": 338,
                        "passed_time": 9.258462642,
                        "remaining_time": 18.0526366,
                        "test": [
                          0.6,
                          0.8132191492
                        ]
                      },
                      {
                        "learn": [
                          1,
                          0.06525920946
                        ],
                        "iteration": 339,
                        "passed_time": 9.287675523,
                        "remaining_time": 18.02901719,
                        "test": [
                          0.6063492063,
                          0.8132539295
                        ]
                      },
                      {
                        "learn": [
                          1,
                          0.06513349053
                        ],
                        "iteration": 340,
                        "passed_time": 9.315850318,
                        "remaining_time": 18.00335883,
                        "test": [
                          0.6031746032,
                          0.8133727059
                        ]
                      },
                      {
                        "learn": [
                          1,
                          0.06503862653
                        ],
                        "iteration": 341,
                        "passed_time": 9.343019141,
                        "remaining_time": 17.97575028,
                        "test": [
                          0.6031746032,
                          0.8141762385
                        ]
                      },
                      {
                        "learn": [
                          1,
                          0.06491568429
                        ],
                        "iteration": 342,
                        "passed_time": 9.372116691,
                        "remaining_time": 17.95183868,
                        "test": [
                          0.6031746032,
                          0.8134039016
                        ]
                      },
                      {
                        "learn": [
                          1,
                          0.06487156874
                        ],
                        "iteration": 343,
                        "passed_time": 9.408940738,
                        "remaining_time": 17.94263117,
                        "test": [
                          0.6031746032,
                          0.8135449606
                        ]
                      },
                      {
                        "learn": [
                          1,
                          0.06482322849
                        ],
                        "iteration": 344,
                        "passed_time": 9.437371026,
                        "remaining_time": 17.9173276,
                        "test": [
                          0.6031746032,
                          0.8139347137
                        ]
                      },
                      {
                        "learn": [
                          1,
                          0.06466089884
                        ],
                        "iteration": 345,
                        "passed_time": 9.468145364,
                        "remaining_time": 17.89643661,
                        "test": [
                          0.6031746032,
                          0.814698622
                        ]
                      },
                      {
                        "learn": [
                          1,
                          0.0646099895
                        ],
                        "iteration": 346,
                        "passed_time": 9.50151553,
                        "remaining_time": 17.88037361,
                        "test": [
                          0.6031746032,
                          0.8150266617
                        ]
                      },
                      {
                        "learn": [
                          1,
                          0.06451793852
                        ],
                        "iteration": 347,
                        "passed_time": 9.530083168,
                        "remaining_time": 17.85521329,
                        "test": [
                          0.6031746032,
                          0.8158203125
                        ]
                      },
                      {
                        "learn": [
                          1,
                          0.06438919379
                        ],
                        "iteration": 348,
                        "passed_time": 9.558454835,
                        "remaining_time": 17.8296679,
                        "test": [
                          0.6,
                          0.8176310221
                        ]
                      },
                      {
                        "learn": [
                          1,
                          0.06426010651
                        ],
                        "iteration": 349,
                        "passed_time": 9.587326743,
                        "remaining_time": 17.80503538,
                        "test": [
                          0.6,
                          0.8170491536
                        ]
                      },
                      {
                        "learn": [
                          1,
                          0.06417139793
                        ],
                        "iteration": 350,
                        "passed_time": 9.615329007,
                        "remaining_time": 17.77877073,
                        "test": [
                          0.6031746032,
                          0.8170024569
                        ]
                      },
                      {
                        "learn": [
                          1,
                          0.06409009038
                        ],
                        "iteration": 351,
                        "passed_time": 9.654126415,
                        "remaining_time": 17.77236908,
                        "test": [
                          0.6,
                          0.8176897321
                        ]
                      },
                      {
                        "learn": [
                          1,
                          0.06404568938
                        ],
                        "iteration": 352,
                        "passed_time": 9.71567155,
                        "remaining_time": 17.80747732,
                        "test": [
                          0.6,
                          0.817814612
                        ]
                      },
                      {
                        "learn": [
                          1,
                          0.06393718071
                        ],
                        "iteration": 353,
                        "passed_time": 9.827466379,
                        "remaining_time": 17.93373808,
                        "test": [
                          0.6031746032,
                          0.818440077
                        ]
                      },
                      {
                        "learn": [
                          1,
                          0.06381027325
                        ],
                        "iteration": 354,
                        "passed_time": 9.900726465,
                        "remaining_time": 17.98864386,
                        "test": [
                          0.6,
                          0.8168540349
                        ]
                      },
                      {
                        "learn": [
                          1,
                          0.06370858951
                        ],
                        "iteration": 355,
                        "passed_time": 9.93378364,
                        "remaining_time": 17.97010299,
                        "test": [
                          0.6031746032,
                          0.8166369241
                        ]
                      },
                      {
                        "learn": [
                          1,
                          0.06365933061
                        ],
                        "iteration": 356,
                        "passed_time": 9.96045765,
                        "remaining_time": 17.93998395,
                        "test": [
                          0.6031746032,
                          0.8170135014
                        ]
                      },
                      {
                        "learn": [
                          1,
                          0.06345940415
                        ],
                        "iteration": 357,
                        "passed_time": 9.987743962,
                        "remaining_time": 17.91098219,
                        "test": [
                          0.6063492063,
                          0.8176372225
                        ]
                      },
                      {
                        "learn": [
                          1,
                          0.06313686241
                        ],
                        "iteration": 358,
                        "passed_time": 10.01678929,
                        "remaining_time": 17.88513074,
                        "test": [
                          0.6063492063,
                          0.8186306424
                        ]
                      },
                      {
                        "learn": [
                          1,
                          0.06303409914
                        ],
                        "iteration": 359,
                        "passed_time": 10.06074067,
                        "remaining_time": 17.8857612,
                        "test": [
                          0.6095238095,
                          0.8182468959
                        ]
                      },
                      {
                        "learn": [
                          1,
                          0.06279312445
                        ],
                        "iteration": 360,
                        "passed_time": 10.12911301,
                        "remaining_time": 17.92937179,
                        "test": [
                          0.6095238095,
                          0.817956543
                        ]
                      },
                      {
                        "learn": [
                          1,
                          0.06276667588
                        ],
                        "iteration": 361,
                        "passed_time": 10.17910653,
                        "remaining_time": 17.93997228,
                        "test": [
                          0.6095238095,
                          0.817826044
                        ]
                      },
                      {
                        "learn": [
                          1,
                          0.06272290288
                        ],
                        "iteration": 362,
                        "passed_time": 10.20612272,
                        "remaining_time": 17.90991782,
                        "test": [
                          0.6095238095,
                          0.8177785722
                        ]
                      },
                      {
                        "learn": [
                          1,
                          0.06269914796
                        ],
                        "iteration": 363,
                        "passed_time": 10.27744458,
                        "remaining_time": 17.95729328,
                        "test": [
                          0.6095238095,
                          0.8178674123
                        ]
                      },
                      {
                        "learn": [
                          1,
                          0.0626383723
                        ],
                        "iteration": 364,
                        "passed_time": 10.35079014,
                        "remaining_time": 18.00753901,
                        "test": [
                          0.6095238095,
                          0.8184482151
                        ]
                      },
                      {
                        "learn": [
                          1,
                          0.06252405076
                        ],
                        "iteration": 365,
                        "passed_time": 10.42448156,
                        "remaining_time": 18.05770849,
                        "test": [
                          0.6095238095,
                          0.8200157529
                        ]
                      },
                      {
                        "learn": [
                          1,
                          0.06243359832
                        ],
                        "iteration": 366,
                        "passed_time": 10.49767455,
                        "remaining_time": 18.1063433,
                        "test": [
                          0.6095238095,
                          0.8200226314
                        ]
                      },
                      {
                        "learn": [
                          1,
                          0.06239279922
                        ],
                        "iteration": 367,
                        "passed_time": 10.57857473,
                        "remaining_time": 18.16755226,
                        "test": [
                          0.6095238095,
                          0.8200086806
                        ]
                      },
                      {
                        "learn": [
                          1,
                          0.06223253523
                        ],
                        "iteration": 368,
                        "passed_time": 10.66003498,
                        "remaining_time": 18.2289487,
                        "test": [
                          0.6095238095,
                          0.8203345889
                        ]
                      },
                      {
                        "learn": [
                          1,
                          0.06200249082
                        ],
                        "iteration": 369,
                        "passed_time": 10.7425122,
                        "remaining_time": 18.29130456,
                        "test": [
                          0.6126984127,
                          0.8203460209
                        ]
                      },
                      {
                        "learn": [
                          1,
                          0.06177130978
                        ],
                        "iteration": 370,
                        "passed_time": 10.85876134,
                        "remaining_time": 18.41013715,
                        "test": [
                          0.6126984127,
                          0.8200675843
                        ]
                      },
                      {
                        "learn": [
                          1,
                          0.06170092732
                        ],
                        "iteration": 371,
                        "passed_time": 10.94340718,
                        "remaining_time": 18.47435405,
                        "test": [
                          0.6126984127,
                          0.820141214
                        ]
                      },
                      {
                        "learn": [
                          1,
                          0.06162562987
                        ],
                        "iteration": 372,
                        "passed_time": 11.02873952,
                        "remaining_time": 18.53892675,
                        "test": [
                          0.6126984127,
                          0.8198942639
                        ]
                      },
                      {
                        "learn": [
                          1,
                          0.0613149111
                        ],
                        "iteration": 373,
                        "passed_time": 11.11448832,
                        "remaining_time": 18.60339488,
                        "test": [
                          0.6126984127,
                          0.8199076335
                        ]
                      },
                      {
                        "learn": [
                          1,
                          0.06125519941
                        ],
                        "iteration": 374,
                        "passed_time": 11.19739645,
                        "remaining_time": 18.66232742,
                        "test": [
                          0.6158730159,
                          0.8208710201
                        ]
                      },
                      {
                        "learn": [
                          1,
                          0.0611761703
                        ],
                        "iteration": 375,
                        "passed_time": 11.28202044,
                        "remaining_time": 18.72335307,
                        "test": [
                          0.6158730159,
                          0.8217135959
                        ]
                      },
                      {
                        "learn": [
                          1,
                          0.06110007357
                        ],
                        "iteration": 376,
                        "passed_time": 11.36628563,
                        "remaining_time": 18.78301312,
                        "test": [
                          0.6158730159,
                          0.8218133836
                        ]
                      },
                      {
                        "learn": [
                          1,
                          0.06094912055
                        ],
                        "iteration": 377,
                        "passed_time": 11.46210325,
                        "remaining_time": 18.86092123,
                        "test": [
                          0.6158730159,
                          0.8213010758
                        ]
                      },
                      {
                        "learn": [
                          1,
                          0.06087328852
                        ],
                        "iteration": 378,
                        "passed_time": 11.54553783,
                        "remaining_time": 18.91762268,
                        "test": [
                          0.6158730159,
                          0.822097633
                        ]
                      },
                      {
                        "learn": [
                          1,
                          0.06078860744
                        ],
                        "iteration": 379,
                        "passed_time": 11.63185576,
                        "remaining_time": 18.97829098,
                        "test": [
                          0.6158730159,
                          0.8219313849
                        ]
                      },
                      {
                        "learn": [
                          1,
                          0.06070513044
                        ],
                        "iteration": 380,
                        "passed_time": 11.67762699,
                        "remaining_time": 18.97231261,
                        "test": [
                          0.6158730159,
                          0.8224120125
                        ]
                      },
                      {
                        "learn": [
                          1,
                          0.0604727505
                        ],
                        "iteration": 381,
                        "passed_time": 11.70291778,
                        "remaining_time": 18.93299263,
                        "test": [
                          0.6158730159,
                          0.8234619141
                        ]
                      },
                      {
                        "learn": [
                          1,
                          0.06020400378
                        ],
                        "iteration": 382,
                        "passed_time": 11.72810078,
                        "remaining_time": 18.89357227,
                        "test": [
                          0.6158730159,
                          0.8232950846
                        ]
                      },
                      {
                        "learn": [
                          1,
                          0.05995046395
                        ],
                        "iteration": 383,
                        "passed_time": 11.7545911,
                        "remaining_time": 18.85632322,
                        "test": [
                          0.6158730159,
                          0.8221559555
                        ]
                      },
                      {
                        "learn": [
                          1,
                          0.05990510279
                        ],
                        "iteration": 384,
                        "passed_time": 11.7816004,
                        "remaining_time": 18.81995908,
                        "test": [
                          0.6158730159,
                          0.8221425859
                        ]
                      },
                      {
                        "learn": [
                          1,
                          0.05982247696
                        ],
                        "iteration": 385,
                        "passed_time": 11.80566177,
                        "remaining_time": 18.77895421,
                        "test": [
                          0.6158730159,
                          0.8222548712
                        ]
                      },
                      {
                        "learn": [
                          1,
                          0.05970857062
                        ],
                        "iteration": 386,
                        "passed_time": 11.82939001,
                        "remaining_time": 18.73750923,
                        "test": [
                          0.6158730159,
                          0.8237602113
                        ]
                      },
                      {
                        "learn": [
                          1,
                          0.05958448138
                        ],
                        "iteration": 387,
                        "passed_time": 11.88299116,
                        "remaining_time": 18.74327472,
                        "test": [
                          0.6126984127,
                          0.8255789621
                        ]
                      },
                      {
                        "learn": [
                          1,
                          0.05940816451
                        ],
                        "iteration": 388,
                        "passed_time": 11.90703336,
                        "remaining_time": 18.7023069,
                        "test": [
                          0.6126984127,
                          0.8248725043
                        ]
                      },
                      {
                        "learn": [
                          1,
                          0.05878862653
                        ],
                        "iteration": 389,
                        "passed_time": 11.9309062,
                        "remaining_time": 18.66116098,
                        "test": [
                          0.6095238095,
                          0.8280159118
                        ]
                      },
                      {
                        "learn": [
                          1,
                          0.05757469125
                        ],
                        "iteration": 390,
                        "passed_time": 11.95765523,
                        "remaining_time": 18.62458321,
                        "test": [
                          0.619047619,
                          0.8211847214
                        ]
                      },
                      {
                        "learn": [
                          1,
                          0.05740807462
                        ],
                        "iteration": 391,
                        "passed_time": 11.98607639,
                        "remaining_time": 18.5906491,
                        "test": [
                          0.619047619,
                          0.8223409986
                        ]
                      },
                      {
                        "learn": [
                          1,
                          0.05736846405
                        ],
                        "iteration": 392,
                        "passed_time": 12.01000379,
                        "remaining_time": 18.54980228,
                        "test": [
                          0.619047619,
                          0.8225115095
                        ]
                      },
                      {
                        "learn": [
                          1,
                          0.0573283189
                        ],
                        "iteration": 393,
                        "passed_time": 12.03356759,
                        "remaining_time": 18.50848213,
                        "test": [
                          0.619047619,
                          0.8233109732
                        ]
                      },
                      {
                        "learn": [
                          1,
                          0.05727787148
                        ],
                        "iteration": 394,
                        "passed_time": 12.0571001,
                        "remaining_time": 18.46720395,
                        "test": [
                          0.619047619,
                          0.8231014191
                        ]
                      },
                      {
                        "learn": [
                          1,
                          0.05721958705
                        ],
                        "iteration": 395,
                        "passed_time": 12.08085845,
                        "remaining_time": 18.42635986,
                        "test": [
                          0.619047619,
                          0.8229203482
                        ]
                      },
                      {
                        "learn": [
                          1,
                          0.05711743621
                        ],
                        "iteration": 396,
                        "passed_time": 12.10461705,
                        "remaining_time": 18.38560222,
                        "test": [
                          0.619047619,
                          0.8227422805
                        ]
                      },
                      {
                        "learn": [
                          1,
                          0.05691604095
                        ],
                        "iteration": 397,
                        "passed_time": 12.12851193,
                        "remaining_time": 18.34513614,
                        "test": [
                          0.619047619,
                          0.8229067848
                        ]
                      },
                      {
                        "learn": [
                          1,
                          0.05689288289
                        ],
                        "iteration": 398,
                        "passed_time": 12.15276534,
                        "remaining_time": 18.30529315,
                        "test": [
                          0.619047619,
                          0.8229296487
                        ]
                      },
                      {
                        "learn": [
                          1,
                          0.05681032972
                        ],
                        "iteration": 399,
                        "passed_time": 12.17726136,
                        "remaining_time": 18.26589204,
                        "test": [
                          0.619047619,
                          0.8230369931
                        ]
                      },
                      {
                        "learn": [
                          1,
                          0.05676764144
                        ],
                        "iteration": 400,
                        "passed_time": 12.20156025,
                        "remaining_time": 18.22627079,
                        "test": [
                          0.6126984127,
                          0.8234531948
                        ]
                      },
                      {
                        "learn": [
                          1,
                          0.05673059476
                        ],
                        "iteration": 401,
                        "passed_time": 12.22617083,
                        "remaining_time": 18.18718945,
                        "test": [
                          0.6158730159,
                          0.8234834217
                        ]
                      },
                      {
                        "learn": [
                          1,
                          0.05609194178
                        ],
                        "iteration": 402,
                        "passed_time": 12.25528774,
                        "remaining_time": 18.15485554,
                        "test": [
                          0.6158730159,
                          0.8244726756
                        ]
                      },
                      {
                        "learn": [
                          1,
                          0.05604721381
                        ],
                        "iteration": 403,
                        "passed_time": 12.28006231,
                        "remaining_time": 18.11613152,
                        "test": [
                          0.6158730159,
                          0.8245947459
                        ]
                      },
                      {
                        "learn": [
                          1,
                          0.05595634616
                        ],
                        "iteration": 404,
                        "passed_time": 12.30485742,
                        "remaining_time": 18.07750657,
                        "test": [
                          0.6158730159,
                          0.8245698475
                        ]
                      },
                      {
                        "learn": [
                          1,
                          0.05587660601
                        ],
                        "iteration": 405,
                        "passed_time": 12.32937736,
                        "remaining_time": 18.03854717,
                        "test": [
                          0.6158730159,
                          0.8243333605
                        ]
                      },
                      {
                        "learn": [
                          1,
                          0.05584926475
                        ],
                        "iteration": 406,
                        "passed_time": 12.35348146,
                        "remaining_time": 17.99905285,
                        "test": [
                          0.6158730159,
                          0.8244824606
                        ]
                      },
                      {
                        "learn": [
                          1,
                          0.05527935417
                        ],
                        "iteration": 407,
                        "passed_time": 12.40353422,
                        "remaining_time": 17.99728495,
                        "test": [
                          0.6222222222,
                          0.8238699777
                        ]
                      },
                      {
                        "learn": [
                          1,
                          0.05514396616
                        ],
                        "iteration": 408,
                        "passed_time": 12.43760465,
                        "remaining_time": 17.97218666,
                        "test": [
                          0.6222222222,
                          0.8242780413
                        ]
                      },
                      {
                        "learn": [
                          1,
                          0.0550718554
                        ],
                        "iteration": 409,
                        "passed_time": 12.46480066,
                        "remaining_time": 17.93715217,
                        "test": [
                          0.6253968254,
                          0.8237378317
                        ]
                      },
                      {
                        "learn": [
                          1,
                          0.05498317796
                        ],
                        "iteration": 410,
                        "passed_time": 12.48979089,
                        "remaining_time": 17.89899473,
                        "test": [
                          0.6222222222,
                          0.8237079923
                        ]
                      },
                      {
                        "learn": [
                          1,
                          0.05488839182
                        ],
                        "iteration": 411,
                        "passed_time": 12.51420281,
                        "remaining_time": 17.86007585,
                        "test": [
                          0.619047619,
                          0.8244918581
                        ]
                      },
                      {
                        "learn": [
                          1,
                          0.05487533362
                        ],
                        "iteration": 412,
                        "passed_time": 12.5387411,
                        "remaining_time": 17.82140684,
                        "test": [
                          0.619047619,
                          0.8244249132
                        ]
                      },
                      {
                        "learn": [
                          1,
                          0.05478250413
                        ],
                        "iteration": 413,
                        "passed_time": 12.56297888,
                        "remaining_time": 17.78238073,
                        "test": [
                          0.619047619,
                          0.8245448521
                        ]
                      },
                      {
                        "learn": [
                          1,
                          0.05473387841
                        ],
                        "iteration": 414,
                        "passed_time": 12.58677688,
                        "remaining_time": 17.74280597,
                        "test": [
                          0.619047619,
                          0.8242536272
                        ]
                      },
                      {
                        "learn": [
                          1,
                          0.054586055
                        ],
                        "iteration": 415,
                        "passed_time": 12.6104805,
                        "remaining_time": 17.70317455,
                        "test": [
                          0.6158730159,
                          0.8238893539
                        ]
                      },
                      {
                        "learn": [
                          1,
                          0.0544941701
                        ],
                        "iteration": 416,
                        "passed_time": 12.64926066,
                        "remaining_time": 17.68469775,
                        "test": [
                          0.6158730159,
                          0.8246297201
                        ]
                      },
                      {
                        "learn": [
                          1,
                          0.054469045
                        ],
                        "iteration": 417,
                        "passed_time": 12.67329633,
                        "remaining_time": 17.64559441,
                        "test": [
                          0.6158730159,
                          0.8246676975
                        ]
                      },
                      {
                        "learn": [
                          1,
                          0.05427366503
                        ],
                        "iteration": 418,
                        "passed_time": 12.69731341,
                        "remaining_time": 17.60653721,
                        "test": [
                          0.6158730159,
                          0.8247000558
                        ]
                      },
                      {
                        "learn": [
                          1,
                          0.054167222
                        ],
                        "iteration": 419,
                        "passed_time": 12.72156731,
                        "remaining_time": 17.56787867,
                        "test": [
                          0.6126984127,
                          0.8252843463
                        ]
                      },
                      {
                        "learn": [
                          1,
                          0.05410941507
                        ],
                        "iteration": 420,
                        "passed_time": 12.74576543,
                        "remaining_time": 17.52921184,
                        "test": [
                          0.6126984127,
                          0.8256014385
                        ]
                      },
                      {
                        "learn": [
                          1,
                          0.05358615797
                        ],
                        "iteration": 421,
                        "passed_time": 12.77181766,
                        "remaining_time": 17.4931531,
                        "test": [
                          0.6126984127,
                          0.8262907482
                        ]
                      },
                      {
                        "learn": [
                          1,
                          0.05354489696
                        ],
                        "iteration": 422,
                        "passed_time": 12.79551594,
                        "remaining_time": 17.45393073,
                        "test": [
                          0.6158730159,
                          0.8261643183
                        ]
                      },
                      {
                        "learn": [
                          1,
                          0.05353757378
                        ],
                        "iteration": 423,
                        "passed_time": 12.81896467,
                        "remaining_time": 17.41444256,
                        "test": [
                          0.6158730159,
                          0.8260808067
                        ]
                      },
                      {
                        "learn": [
                          1,
                          0.05351845878
                        ],
                        "iteration": 424,
                        "passed_time": 12.84297556,
                        "remaining_time": 17.37579046,
                        "test": [
                          0.6158730159,
                          0.8261773003
                        ]
                      },
                      {
                        "learn": [
                          1,
                          0.05342022124
                        ],
                        "iteration": 425,
                        "passed_time": 12.87802924,
                        "remaining_time": 17.35208635,
                        "test": [
                          0.6158730159,
                          0.8260767377
                        ]
                      },
                      {
                        "learn": [
                          1,
                          0.0533665923
                        ],
                        "iteration": 426,
                        "passed_time": 12.91295129,
                        "remaining_time": 17.32815244,
                        "test": [
                          0.6158730159,
                          0.8262877449
                        ]
                      },
                      {
                        "learn": [
                          1,
                          0.05294573518
                        ],
                        "iteration": 427,
                        "passed_time": 12.93831844,
                        "remaining_time": 17.29139754,
                        "test": [
                          0.6158730159,
                          0.8268484933
                        ]
                      },
                      {
                        "learn": [
                          1,
                          0.05285364268
                        ],
                        "iteration": 428,
                        "passed_time": 12.96222404,
                        "remaining_time": 17.25275041,
                        "test": [
                          0.6126984127,
                          0.8283681718
                        ]
                      },
                      {
                        "learn": [
                          1,
                          0.05280738882
                        ],
                        "iteration": 429,
                        "passed_time": 12.99092394,
                        "remaining_time": 17.22052708,
                        "test": [
                          0.6126984127,
                          0.8288138253
                        ]
                      },
                      {
                        "learn": [
                          1,
                          0.0527332799
                        ],
                        "iteration": 430,
                        "passed_time": 13.02660534,
                        "remaining_time": 17.19753698,
                        "test": [
                          0.6126984127,
                          0.8286123124
                        ]
                      },
                      {
                        "learn": [
                          1,
                          0.05271146606
                        ],
                        "iteration": 431,
                        "passed_time": 13.05095002,
                        "remaining_time": 17.15958244,
                        "test": [
                          0.6126984127,
                          0.8287901863
                        ]
                      },
                      {
                        "learn": [
                          1,
                          0.05248991259
                        ],
                        "iteration": 432,
                        "passed_time": 13.07512047,
                        "remaining_time": 17.1214626,
                        "test": [
                          0.6126984127,
                          0.8273644826
                        ]
                      },
                      {
                        "learn": [
                          1,
                          0.05238583104
                        ],
                        "iteration": 433,
                        "passed_time": 13.09876682,
                        "remaining_time": 17.08272355,
                        "test": [
                          0.6126984127,
                          0.827710736
                        ]
                      },
                      {
                        "learn": [
                          1,
                          0.05214329934
                        ],
                        "iteration": 434,
                        "passed_time": 13.12256504,
                        "remaining_time": 17.04425114,
                        "test": [
                          0.6095238095,
                          0.8290165977
                        ]
                      },
                      {
                        "learn": [
                          1,
                          0.05198677738
                        ],
                        "iteration": 435,
                        "passed_time": 13.14950486,
                        "remaining_time": 17.00990995,
                        "test": [
                          0.6126984127,
                          0.8287431021
                        ]
                      },
                      {
                        "learn": [
                          1,
                          0.05185718147
                        ],
                        "iteration": 436,
                        "passed_time": 13.17417478,
                        "remaining_time": 16.97267827,
                        "test": [
                          0.6126984127,
                          0.8287119063
                        ]
                      },
                      {
                        "learn": [
                          1,
                          0.05156076133
                        ],
                        "iteration": 437,
                        "passed_time": 13.20088178,
                        "remaining_time": 16.93811772,
                        "test": [
                          0.6126984127,
                          0.8281124054
                        ]
                      },
                      {
                        "learn": [
                          1,
                          0.05153197204
                        ],
                        "iteration": 438,
                        "passed_time": 13.22496462,
                        "remaining_time": 16.90023953,
                        "test": [
                          0.6126984127,
                          0.8283646841
                        ]
                      },
                      {
                        "learn": [
                          1,
                          0.05135956849
                        ],
                        "iteration": 439,
                        "passed_time": 13.2488073,
                        "remaining_time": 16.86211838,
                        "test": [
                          0.6126984127,
                          0.82837941
                        ]
                      },
                      {
                        "learn": [
                          1,
                          0.05108580816
                        ],
                        "iteration": 440,
                        "passed_time": 13.27406466,
                        "remaining_time": 16.82585521,
                        "test": [
                          0.6126984127,
                          0.8261401948
                        ]
                      },
                      {
                        "learn": [
                          1,
                          0.05095724508
                        ],
                        "iteration": 441,
                        "passed_time": 13.2985453,
                        "remaining_time": 16.78866126,
                        "test": [
                          0.6126984127,
                          0.8271007719
                        ]
                      },
                      {
                        "learn": [
                          1,
                          0.05079335842
                        ],
                        "iteration": 442,
                        "passed_time": 13.32879846,
                        "remaining_time": 16.75878271,
                        "test": [
                          0.6126984127,
                          0.8268868583
                        ]
                      },
                      {
                        "learn": [
                          1,
                          0.05064018405
                        ],
                        "iteration": 443,
                        "passed_time": 13.35403049,
                        "remaining_time": 16.72261476,
                        "test": [
                          0.6126984127,
                          0.8275491381
                        ]
                      },
                      {
                        "learn": [
                          1,
                          0.05060105097
                        ],
                        "iteration": 444,
                        "passed_time": 13.38156778,
                        "remaining_time": 16.68937105,
                        "test": [
                          0.6126984127,
                          0.82784201
                        ]
                      },
                      {
                        "learn": [
                          1,
                          0.05055388366
                        ],
                        "iteration": 445,
                        "passed_time": 13.40576108,
                        "remaining_time": 16.65199919,
                        "test": [
                          0.6126984127,
                          0.8282259502
                        ]
                      },
                      {
                        "learn": [
                          1,
                          0.0504852243
                        ],
                        "iteration": 446,
                        "passed_time": 13.42968877,
                        "remaining_time": 16.6143577,
                        "test": [
                          0.6126984127,
                          0.8283408513
                        ]
                      },
                      {
                        "learn": [
                          1,
                          0.05045673085
                        ],
                        "iteration": 447,
                        "passed_time": 13.4539526,
                        "remaining_time": 16.5771916,
                        "test": [
                          0.6126984127,
                          0.828355771
                        ]
                      },
                      {
                        "learn": [
                          1,
                          0.05042075332
                        ],
                        "iteration": 448,
                        "passed_time": 13.47815533,
                        "remaining_time": 16.54000798,
                        "test": [
                          0.6126984127,
                          0.8282052176
                        ]
                      },
                      {
                        "learn": [
                          1,
                          0.05038464086
                        ],
                        "iteration": 449,
                        "passed_time": 13.50208476,
                        "remaining_time": 16.50254803,
                        "test": [
                          0.6126984127,
                          0.828211418
                        ]
                      },
                      {
                        "learn": [
                          1,
                          0.05036041364
                        ],
                        "iteration": 450,
                        "passed_time": 13.525894,
                        "remaining_time": 16.46500179,
                        "test": [
                          0.6126984127,
                          0.8282263377
                        ]
                      },
                      {
                        "learn": [
                          1,
                          0.05033949249
                        ],
                        "iteration": 451,
                        "passed_time": 13.54976817,
                        "remaining_time": 16.42759503,
                        "test": [
                          0.6126984127,
                          0.8287524027
                        ]
                      },
                      {
                        "learn": [
                          1,
                          0.05030701306
                        ],
                        "iteration": 452,
                        "passed_time": 13.57345219,
                        "remaining_time": 16.39001843,
                        "test": [
                          0.6126984127,
                          0.8287793356
                        ]
                      },
                      {
                        "learn": [
                          1,
                          0.05028158694
                        ],
                        "iteration": 453,
                        "passed_time": 13.59755347,
                        "remaining_time": 16.35300484,
                        "test": [
                          0.6126984127,
                          0.8292100694
                        ]
                      },
                      {
                        "learn": [
                          1,
                          0.0502586209
                        ],
                        "iteration": 454,
                        "passed_time": 13.62107688,
                        "remaining_time": 16.31535582,
                        "test": [
                          0.6126984127,
                          0.8301579551
                        ]
                      },
                      {
                        "learn": [
                          1,
                          0.05022876765
                        ],
                        "iteration": 455,
                        "passed_time": 13.66042722,
                        "remaining_time": 16.29665002,
                        "test": [
                          0.6126984127,
                          0.8306528243
                        ]
                      },
                      {
                        "learn": [
                          1,
                          0.04987788817
                        ],
                        "iteration": 456,
                        "passed_time": 13.68524001,
                        "remaining_time": 16.26058058,
                        "test": [
                          0.6095238095,
                          0.8348720974
                        ]
                      },
                      {
                        "learn": [
                          1,
                          0.04984862658
                        ],
                        "iteration": 457,
                        "passed_time": 13.70945759,
                        "remaining_time": 16.22385592,
                        "test": [
                          0.6095238095,
                          0.8355489095
                        ]
                      },
                      {
                        "learn": [
                          1,
                          0.04975974154
                        ],
                        "iteration": 458,
                        "passed_time": 13.73370138,
                        "remaining_time": 16.18721666,
                        "test": [
                          0.6095238095,
                          0.8351492746
                        ]
                      },
                      {
                        "learn": [
                          1,
                          0.04973125847
                        ],
                        "iteration": 459,
                        "passed_time": 13.75778408,
                        "remaining_time": 16.15044218,
                        "test": [
                          0.6095238095,
                          0.8351428804
                        ]
                      },
                      {
                        "learn": [
                          1,
                          0.0496075481
                        ],
                        "iteration": 460,
                        "passed_time": 13.78389984,
                        "remaining_time": 16.11609982,
                        "test": [
                          0.6095238095,
                          0.8359152173
                        ]
                      },
                      {
                        "learn": [
                          1,
                          0.04943268964
                        ],
                        "iteration": 461,
                        "passed_time": 13.80832472,
                        "remaining_time": 16.07982402,
                        "test": [
                          0.6095238095,
                          0.8359756712
                        ]
                      },
                      {
                        "learn": [
                          1,
                          0.04939623463
                        ],
                        "iteration": 462,
                        "passed_time": 13.83255947,
                        "remaining_time": 16.04337891,
                        "test": [
                          0.6095238095,
                          0.8359484476
                        ]
                      },
                      {
                        "learn": [
                          1,
                          0.04935193743
                        ],
                        "iteration": 463,
                        "passed_time": 13.85692135,
                        "remaining_time": 16.00713329,
                        "test": [
                          0.6095238095,
                          0.8361542232
                        ]
                      },
                      {
                        "learn": [
                          1,
                          0.04930609878
                        ],
                        "iteration": 464,
                        "passed_time": 13.90548374,
                        "remaining_time": 15.99878237,
                        "test": [
                          0.6095238095,
                          0.8362014044
                        ]
                      },
                      {
                        "learn": [
                          1,
                          0.04922615103
                        ],
                        "iteration": 465,
                        "passed_time": 13.94213879,
                        "remaining_time": 15.97661397,
                        "test": [
                          0.6095238095,
                          0.8363101051
                        ]
                      },
                      {
                        "learn": [
                          1,
                          0.04909965878
                        ],
                        "iteration": 466,
                        "passed_time": 13.96934947,
                        "remaining_time": 15.94360443,
                        "test": [
                          0.6095238095,
                          0.8368880983
                        ]
                      },
                      {
                        "learn": [
                          1,
                          0.0490494501
                        ],
                        "iteration": 467,
                        "passed_time": 13.99655158,
                        "remaining_time": 15.91060991,
                        "test": [
                          0.6095238095,
                          0.8371862987
                        ]
                      },
                      {
                        "learn": [
                          1,
                          0.04902297039
                        ],
                        "iteration": 468,
                        "passed_time": 14.02057459,
                        "remaining_time": 15.87404074,
                        "test": [
                          0.6095238095,
                          0.8374391586
                        ]
                      },
                      {
                        "learn": [
                          1,
                          0.04886467343
                        ],
                        "iteration": 469,
                        "passed_time": 14.04643567,
                        "remaining_time": 15.83959767,
                        "test": [
                          0.6063492063,
                          0.8390006898
                        ]
                      },
                      {
                        "learn": [
                          1,
                          0.04878989499
                        ],
                        "iteration": 470,
                        "passed_time": 14.0719615,
                        "remaining_time": 15.80481451,
                        "test": [
                          0.6095238095,
                          0.8397261362
                        ]
                      },
                      {
                        "learn": [
                          1,
                          0.04868037944
                        ],
                        "iteration": 471,
                        "passed_time": 14.09577219,
                        "remaining_time": 15.76815195,
                        "test": [
                          0.6063492063,
                          0.8415107848
                        ]
                      },
                      {
                        "learn": [
                          1,
                          0.04855296855
                        ],
                        "iteration": 472,
                        "passed_time": 14.11998513,
                        "remaining_time": 15.73199189,
                        "test": [
                          0.6095238095,
                          0.8417428153
                        ]
                      },
                      {
                        "learn": [
                          1,
                          0.04850594657
                        ],
                        "iteration": 473,
                        "passed_time": 14.14973767,
                        "remaining_time": 15.70202957,
                        "test": [
                          0.6063492063,
                          0.8428615994
                        ]
                      },
                      {
                        "learn": [
                          1,
                          0.04848049449
                        ],
                        "iteration": 474,
                        "passed_time": 14.17407501,
                        "remaining_time": 15.66608291,
                        "test": [
                          0.6063492063,
                          0.8427641369
                        ]
                      },
                      {
                        "learn": [
                          1,
                          0.04845340755
                        ],
                        "iteration": 475,
                        "passed_time": 14.19855871,
                        "remaining_time": 15.63034614,
                        "test": [
                          0.6063492063,
                          0.8427986266
                        ]
                      },
                      {
                        "learn": [
                          1,
                          0.04832652604
                        ],
                        "iteration": 476,
                        "passed_time": 14.22343838,
                        "remaining_time": 15.59509071,
                        "test": [
                          0.6063492063,
                          0.8434124659
                        ]
                      },
                      {
                        "learn": [
                          1,
                          0.04830616023
                        ],
                        "iteration": 477,
                        "passed_time": 14.2539414,
                        "remaining_time": 15.56601969,
                        "test": [
                          0.6063492063,
                          0.8439350431
                        ]
                      },
                      {
                        "learn": [
                          1,
                          0.04824736718
                        ],
                        "iteration": 478,
                        "passed_time": 14.27789506,
                        "remaining_time": 15.52981906,
                        "test": [
                          0.6063492063,
                          0.843827505
                        ]
                      },
                      {
                        "learn": [
                          1,
                          0.04819651493
                        ],
                        "iteration": 479,
                        "passed_time": 14.30219101,
                        "remaining_time": 15.49404026,
                        "test": [
                          0.6063492063,
                          0.8432531932
                        ]
                      },
                      {
                        "learn": [
                          1,
                          0.04809276555
                        ],
                        "iteration": 480,
                        "passed_time": 14.32654819,
                        "remaining_time": 15.45837529,
                        "test": [
                          0.6063492063,
                          0.8440947033
                        ]
                      },
                      {
                        "learn": [
                          1,
                          0.04802288652
                        ],
                        "iteration": 481,
                        "passed_time": 14.35101983,
                        "remaining_time": 15.42288023,
                        "test": [
                          0.6063492063,
                          0.8453938802
                        ]
                      },
                      {
                        "learn": [
                          1,
                          0.04795959888
                        ],
                        "iteration": 482,
                        "passed_time": 14.37724004,
                        "remaining_time": 15.38930248,
                        "test": [
                          0.6063492063,
                          0.8462610638
                        ]
                      },
                      {
                        "learn": [
                          1,
                          0.04784914393
                        ],
                        "iteration": 483,
                        "passed_time": 14.40142975,
                        "remaining_time": 15.35359039,
                        "test": [
                          0.6095238095,
                          0.8460214766
                        ]
                      },
                      {
                        "learn": [
                          1,
                          0.0478196436
                        ],
                        "iteration": 484,
                        "passed_time": 14.42754193,
                        "remaining_time": 15.31996721,
                        "test": [
                          0.6095238095,
                          0.8460104322
                        ]
                      },
                      {
                        "learn": [
                          1,
                          0.04777326519
                        ],
                        "iteration": 485,
                        "passed_time": 14.45148224,
                        "remaining_time": 15.28407793,
                        "test": [
                          0.6095238095,
                          0.8453939771
                        ]
                      },
                      {
                        "learn": [
                          1,
                          0.04776413587
                        ],
                        "iteration": 486,
                        "passed_time": 14.47558021,
                        "remaining_time": 15.24840379,
                        "test": [
                          0.6095238095,
                          0.8456670852
                        ]
                      },
                      {
                        "learn": [
                          1,
                          0.04774070273
                        ],
                        "iteration": 487,
                        "passed_time": 14.55484121,
                        "remaining_time": 15.27065307,
                        "test": [
                          0.6095238095,
                          0.8457290892
                        ]
                      },
                      {
                        "learn": [
                          1,
                          0.04768808585
                        ],
                        "iteration": 488,
                        "passed_time": 14.62731452,
                        "remaining_time": 15.28539411,
                        "test": [
                          0.6095238095,
                          0.846042403
                        ]
                      },
                      {
                        "learn": [
                          1,
                          0.04766064079
                        ],
                        "iteration": 489,
                        "passed_time": 14.68587485,
                        "remaining_time": 15.28529832,
                        "test": [
                          0.6095238095,
                          0.8467426603
                        ]
                      },
                      {
                        "learn": [
                          1,
                          0.04759353326
                        ],
                        "iteration": 490,
                        "passed_time": 14.72031732,
                        "remaining_time": 15.25996235,
                        "test": [
                          0.6063492063,
                          0.8469005766
                        ]
                      },
                      {
                        "learn": [
                          1,
                          0.04756727154
                        ],
                        "iteration": 491,
                        "passed_time": 14.77204518,
                        "remaining_time": 15.2524369,
                        "test": [
                          0.6063492063,
                          0.8472382076
                        ]
                      },
                      {
                        "learn": [
                          1,
                          0.0475354772
                        ],
                        "iteration": 492,
                        "passed_time": 14.87330456,
                        "remaining_time": 15.29567021,
                        "test": [
                          0.6095238095,
                          0.8468694778
                        ]
                      },
                      {
                        "learn": [
                          1,
                          0.04752256951
                        ],
                        "iteration": 493,
                        "passed_time": 14.92369721,
                        "remaining_time": 15.28621617,
                        "test": [
                          0.6095238095,
                          0.8469384572
                        ]
                      },
                      {
                        "learn": [
                          1,
                          0.04746704102
                        ],
                        "iteration": 494,
                        "passed_time": 15.02344282,
                        "remaining_time": 15.32694672,
                        "test": [
                          0.6063492063,
                          0.8468428354
                        ]
                      },
                      {
                        "learn": [
                          1,
                          0.04734509526
                        ],
                        "iteration": 495,
                        "passed_time": 15.06382253,
                        "remaining_time": 15.30678741,
                        "test": [
                          0.6095238095,
                          0.8463950505
                        ]
                      },
                      {
                        "learn": [
                          1,
                          0.04713991126
                        ],
                        "iteration": 496,
                        "passed_time": 15.08958115,
                        "remaining_time": 15.27174914,
                        "test": [
                          0.6095238095,
                          0.8453018431
                        ]
                      },
                      {
                        "learn": [
                          1,
                          0.04712264392
                        ],
                        "iteration": 497,
                        "passed_time": 15.11475975,
                        "remaining_time": 15.23616345,
                        "test": [
                          0.6095238095,
                          0.8455500527
                        ]
                      },
                      {
                        "learn": [
                          1,
                          0.0471071412
                        ],
                        "iteration": 498,
                        "passed_time": 15.14058133,
                        "remaining_time": 15.20126503,
                        "test": [
                          0.6095238095,
                          0.8454928928
                        ]
                      },
                      {
                        "learn": [
                          1,
                          0.04708358868
                        ],
                        "iteration": 499,
                        "passed_time": 15.16683683,
                        "remaining_time": 15.16683683,
                        "test": [
                          0.6063492063,
                          0.8458023313
                        ]
                      },
                      {
                        "learn": [
                          1,
                          0.04706166585
                        ],
                        "iteration": 500,
                        "passed_time": 15.19706945,
                        "remaining_time": 15.1364025,
                        "test": [
                          0.6063492063,
                          0.8463398282
                        ]
                      }
                    ],
                    "meta": {
                      "test_sets": [
                        "test"
                      ],
                      "test_metrics": [
                        {
                          "best_value": "Max",
                          "name": "Accuracy"
                        },
                        {
                          "best_value": "Min",
                          "name": "Logloss"
                        }
                      ],
                      "learn_metrics": [
                        {
                          "best_value": "Max",
                          "name": "Accuracy"
                        },
                        {
                          "best_value": "Min",
                          "name": "Logloss"
                        }
                      ],
                      "launch_mode": "Train",
                      "parameters": "",
                      "iteration_count": 1000,
                      "learn_sets": [
                        "learn"
                      ],
                      "name": "experiment"
                    }
                  }
                }
              }
            },
            "layout": "IPY_MODEL_4cf787f4afce42339b835cfc3aff178a"
          }
        }
      }
    }
  },
  "cells": [
    {
      "cell_type": "code",
      "source": [
        "!pip install catboost"
      ],
      "metadata": {
        "colab": {
          "base_uri": "https://localhost:8080/"
        },
        "id": "vxhYJQeIBXDn",
        "outputId": "90005438-edd0-4e2e-8524-baac7c1e32be"
      },
      "execution_count": null,
      "outputs": [
        {
          "output_type": "stream",
          "name": "stdout",
          "text": [
            "Requirement already satisfied: catboost in /usr/local/lib/python3.10/dist-packages (1.2.5)\n",
            "Requirement already satisfied: graphviz in /usr/local/lib/python3.10/dist-packages (from catboost) (0.20.3)\n",
            "Requirement already satisfied: matplotlib in /usr/local/lib/python3.10/dist-packages (from catboost) (3.7.1)\n",
            "Requirement already satisfied: numpy>=1.16.0 in /usr/local/lib/python3.10/dist-packages (from catboost) (1.25.2)\n",
            "Requirement already satisfied: pandas>=0.24 in /usr/local/lib/python3.10/dist-packages (from catboost) (2.0.3)\n",
            "Requirement already satisfied: scipy in /usr/local/lib/python3.10/dist-packages (from catboost) (1.11.4)\n",
            "Requirement already satisfied: plotly in /usr/local/lib/python3.10/dist-packages (from catboost) (5.15.0)\n",
            "Requirement already satisfied: six in /usr/local/lib/python3.10/dist-packages (from catboost) (1.16.0)\n",
            "Requirement already satisfied: python-dateutil>=2.8.2 in /usr/local/lib/python3.10/dist-packages (from pandas>=0.24->catboost) (2.8.2)\n",
            "Requirement already satisfied: pytz>=2020.1 in /usr/local/lib/python3.10/dist-packages (from pandas>=0.24->catboost) (2023.4)\n",
            "Requirement already satisfied: tzdata>=2022.1 in /usr/local/lib/python3.10/dist-packages (from pandas>=0.24->catboost) (2024.1)\n",
            "Requirement already satisfied: contourpy>=1.0.1 in /usr/local/lib/python3.10/dist-packages (from matplotlib->catboost) (1.2.1)\n",
            "Requirement already satisfied: cycler>=0.10 in /usr/local/lib/python3.10/dist-packages (from matplotlib->catboost) (0.12.1)\n",
            "Requirement already satisfied: fonttools>=4.22.0 in /usr/local/lib/python3.10/dist-packages (from matplotlib->catboost) (4.51.0)\n",
            "Requirement already satisfied: kiwisolver>=1.0.1 in /usr/local/lib/python3.10/dist-packages (from matplotlib->catboost) (1.4.5)\n",
            "Requirement already satisfied: packaging>=20.0 in /usr/local/lib/python3.10/dist-packages (from matplotlib->catboost) (24.0)\n",
            "Requirement already satisfied: pillow>=6.2.0 in /usr/local/lib/python3.10/dist-packages (from matplotlib->catboost) (9.4.0)\n",
            "Requirement already satisfied: pyparsing>=2.3.1 in /usr/local/lib/python3.10/dist-packages (from matplotlib->catboost) (3.1.2)\n",
            "Requirement already satisfied: tenacity>=6.2.0 in /usr/local/lib/python3.10/dist-packages (from plotly->catboost) (8.3.0)\n"
          ]
        }
      ]
    },
    {
      "cell_type": "code",
      "execution_count": null,
      "metadata": {
        "id": "pAMtTqz4-OTK"
      },
      "outputs": [],
      "source": [
        "import pandas as pd"
      ]
    },
    {
      "cell_type": "code",
      "source": [
        "df  = pd.read_csv(\"train.csv\")"
      ],
      "metadata": {
        "id": "vGomKbQ8-aeU"
      },
      "execution_count": null,
      "outputs": []
    },
    {
      "cell_type": "code",
      "source": [
        "df.head()"
      ],
      "metadata": {
        "colab": {
          "base_uri": "https://localhost:8080/",
          "height": 293
        },
        "id": "O7vRCSMH-2t5",
        "outputId": "dcc8c45a-20aa-4031-b6ad-ce54f5afebf3"
      },
      "execution_count": null,
      "outputs": [
        {
          "output_type": "execute_result",
          "data": {
            "text/plain": [
              "   line_id                                            summary  \\\n",
              "0        0  Херманус Питер (Дик) Логгере (нидерл. Hermanus...   \n",
              "1        1  Ходуткинские горячие источники (Худутские горя...   \n",
              "2        2  Чёрная вдова (лат. Latrodectus mactans) — вид ...   \n",
              "3        3  Рысь — река в России, протекает по территориям...   \n",
              "4        4  И́се (яп. 伊勢市), ранее Удзиямада — город в Япон...   \n",
              "\n",
              "                                            question  \\\n",
              "0  В каком городе проходил чемпионат мира по хокк...   \n",
              "1   Как называется район в который входят источники?   \n",
              "2                    Для кого опасны пауки-бокоходы?   \n",
              "3                            Какова длина реки Рысь?   \n",
              "4                                     Что такое Исе?   \n",
              "\n",
              "                                              answer  is_hallucination  \n",
              "0                                      В Хилверсюме.                 1  \n",
              "1                                 Елизовским районом                 0  \n",
              "2                                           Для рыб.                 1  \n",
              "3                                              5 км.                 1  \n",
              "4  Исе — это небольшой город в Японии, который не...                 1  "
            ],
            "text/html": [
              "\n",
              "  <div id=\"df-83e2b4a2-6a67-4f68-a1df-5d7d7d7b5169\" class=\"colab-df-container\">\n",
              "    <div>\n",
              "<style scoped>\n",
              "    .dataframe tbody tr th:only-of-type {\n",
              "        vertical-align: middle;\n",
              "    }\n",
              "\n",
              "    .dataframe tbody tr th {\n",
              "        vertical-align: top;\n",
              "    }\n",
              "\n",
              "    .dataframe thead th {\n",
              "        text-align: right;\n",
              "    }\n",
              "</style>\n",
              "<table border=\"1\" class=\"dataframe\">\n",
              "  <thead>\n",
              "    <tr style=\"text-align: right;\">\n",
              "      <th></th>\n",
              "      <th>line_id</th>\n",
              "      <th>summary</th>\n",
              "      <th>question</th>\n",
              "      <th>answer</th>\n",
              "      <th>is_hallucination</th>\n",
              "    </tr>\n",
              "  </thead>\n",
              "  <tbody>\n",
              "    <tr>\n",
              "      <th>0</th>\n",
              "      <td>0</td>\n",
              "      <td>Херманус Питер (Дик) Логгере (нидерл. Hermanus...</td>\n",
              "      <td>В каком городе проходил чемпионат мира по хокк...</td>\n",
              "      <td>В Хилверсюме.</td>\n",
              "      <td>1</td>\n",
              "    </tr>\n",
              "    <tr>\n",
              "      <th>1</th>\n",
              "      <td>1</td>\n",
              "      <td>Ходуткинские горячие источники (Худутские горя...</td>\n",
              "      <td>Как называется район в который входят источники?</td>\n",
              "      <td>Елизовским районом</td>\n",
              "      <td>0</td>\n",
              "    </tr>\n",
              "    <tr>\n",
              "      <th>2</th>\n",
              "      <td>2</td>\n",
              "      <td>Чёрная вдова (лат. Latrodectus mactans) — вид ...</td>\n",
              "      <td>Для кого опасны пауки-бокоходы?</td>\n",
              "      <td>Для рыб.</td>\n",
              "      <td>1</td>\n",
              "    </tr>\n",
              "    <tr>\n",
              "      <th>3</th>\n",
              "      <td>3</td>\n",
              "      <td>Рысь — река в России, протекает по территориям...</td>\n",
              "      <td>Какова длина реки Рысь?</td>\n",
              "      <td>5 км.</td>\n",
              "      <td>1</td>\n",
              "    </tr>\n",
              "    <tr>\n",
              "      <th>4</th>\n",
              "      <td>4</td>\n",
              "      <td>И́се (яп. 伊勢市), ранее Удзиямада — город в Япон...</td>\n",
              "      <td>Что такое Исе?</td>\n",
              "      <td>Исе — это небольшой город в Японии, который не...</td>\n",
              "      <td>1</td>\n",
              "    </tr>\n",
              "  </tbody>\n",
              "</table>\n",
              "</div>\n",
              "    <div class=\"colab-df-buttons\">\n",
              "\n",
              "  <div class=\"colab-df-container\">\n",
              "    <button class=\"colab-df-convert\" onclick=\"convertToInteractive('df-83e2b4a2-6a67-4f68-a1df-5d7d7d7b5169')\"\n",
              "            title=\"Convert this dataframe to an interactive table.\"\n",
              "            style=\"display:none;\">\n",
              "\n",
              "  <svg xmlns=\"http://www.w3.org/2000/svg\" height=\"24px\" viewBox=\"0 -960 960 960\">\n",
              "    <path d=\"M120-120v-720h720v720H120Zm60-500h600v-160H180v160Zm220 220h160v-160H400v160Zm0 220h160v-160H400v160ZM180-400h160v-160H180v160Zm440 0h160v-160H620v160ZM180-180h160v-160H180v160Zm440 0h160v-160H620v160Z\"/>\n",
              "  </svg>\n",
              "    </button>\n",
              "\n",
              "  <style>\n",
              "    .colab-df-container {\n",
              "      display:flex;\n",
              "      gap: 12px;\n",
              "    }\n",
              "\n",
              "    .colab-df-convert {\n",
              "      background-color: #E8F0FE;\n",
              "      border: none;\n",
              "      border-radius: 50%;\n",
              "      cursor: pointer;\n",
              "      display: none;\n",
              "      fill: #1967D2;\n",
              "      height: 32px;\n",
              "      padding: 0 0 0 0;\n",
              "      width: 32px;\n",
              "    }\n",
              "\n",
              "    .colab-df-convert:hover {\n",
              "      background-color: #E2EBFA;\n",
              "      box-shadow: 0px 1px 2px rgba(60, 64, 67, 0.3), 0px 1px 3px 1px rgba(60, 64, 67, 0.15);\n",
              "      fill: #174EA6;\n",
              "    }\n",
              "\n",
              "    .colab-df-buttons div {\n",
              "      margin-bottom: 4px;\n",
              "    }\n",
              "\n",
              "    [theme=dark] .colab-df-convert {\n",
              "      background-color: #3B4455;\n",
              "      fill: #D2E3FC;\n",
              "    }\n",
              "\n",
              "    [theme=dark] .colab-df-convert:hover {\n",
              "      background-color: #434B5C;\n",
              "      box-shadow: 0px 1px 3px 1px rgba(0, 0, 0, 0.15);\n",
              "      filter: drop-shadow(0px 1px 2px rgba(0, 0, 0, 0.3));\n",
              "      fill: #FFFFFF;\n",
              "    }\n",
              "  </style>\n",
              "\n",
              "    <script>\n",
              "      const buttonEl =\n",
              "        document.querySelector('#df-83e2b4a2-6a67-4f68-a1df-5d7d7d7b5169 button.colab-df-convert');\n",
              "      buttonEl.style.display =\n",
              "        google.colab.kernel.accessAllowed ? 'block' : 'none';\n",
              "\n",
              "      async function convertToInteractive(key) {\n",
              "        const element = document.querySelector('#df-83e2b4a2-6a67-4f68-a1df-5d7d7d7b5169');\n",
              "        const dataTable =\n",
              "          await google.colab.kernel.invokeFunction('convertToInteractive',\n",
              "                                                    [key], {});\n",
              "        if (!dataTable) return;\n",
              "\n",
              "        const docLinkHtml = 'Like what you see? Visit the ' +\n",
              "          '<a target=\"_blank\" href=https://colab.research.google.com/notebooks/data_table.ipynb>data table notebook</a>'\n",
              "          + ' to learn more about interactive tables.';\n",
              "        element.innerHTML = '';\n",
              "        dataTable['output_type'] = 'display_data';\n",
              "        await google.colab.output.renderOutput(dataTable, element);\n",
              "        const docLink = document.createElement('div');\n",
              "        docLink.innerHTML = docLinkHtml;\n",
              "        element.appendChild(docLink);\n",
              "      }\n",
              "    </script>\n",
              "  </div>\n",
              "\n",
              "\n",
              "<div id=\"df-34ed6f88-5833-447d-b691-420bf46a030c\">\n",
              "  <button class=\"colab-df-quickchart\" onclick=\"quickchart('df-34ed6f88-5833-447d-b691-420bf46a030c')\"\n",
              "            title=\"Suggest charts\"\n",
              "            style=\"display:none;\">\n",
              "\n",
              "<svg xmlns=\"http://www.w3.org/2000/svg\" height=\"24px\"viewBox=\"0 0 24 24\"\n",
              "     width=\"24px\">\n",
              "    <g>\n",
              "        <path d=\"M19 3H5c-1.1 0-2 .9-2 2v14c0 1.1.9 2 2 2h14c1.1 0 2-.9 2-2V5c0-1.1-.9-2-2-2zM9 17H7v-7h2v7zm4 0h-2V7h2v10zm4 0h-2v-4h2v4z\"/>\n",
              "    </g>\n",
              "</svg>\n",
              "  </button>\n",
              "\n",
              "<style>\n",
              "  .colab-df-quickchart {\n",
              "      --bg-color: #E8F0FE;\n",
              "      --fill-color: #1967D2;\n",
              "      --hover-bg-color: #E2EBFA;\n",
              "      --hover-fill-color: #174EA6;\n",
              "      --disabled-fill-color: #AAA;\n",
              "      --disabled-bg-color: #DDD;\n",
              "  }\n",
              "\n",
              "  [theme=dark] .colab-df-quickchart {\n",
              "      --bg-color: #3B4455;\n",
              "      --fill-color: #D2E3FC;\n",
              "      --hover-bg-color: #434B5C;\n",
              "      --hover-fill-color: #FFFFFF;\n",
              "      --disabled-bg-color: #3B4455;\n",
              "      --disabled-fill-color: #666;\n",
              "  }\n",
              "\n",
              "  .colab-df-quickchart {\n",
              "    background-color: var(--bg-color);\n",
              "    border: none;\n",
              "    border-radius: 50%;\n",
              "    cursor: pointer;\n",
              "    display: none;\n",
              "    fill: var(--fill-color);\n",
              "    height: 32px;\n",
              "    padding: 0;\n",
              "    width: 32px;\n",
              "  }\n",
              "\n",
              "  .colab-df-quickchart:hover {\n",
              "    background-color: var(--hover-bg-color);\n",
              "    box-shadow: 0 1px 2px rgba(60, 64, 67, 0.3), 0 1px 3px 1px rgba(60, 64, 67, 0.15);\n",
              "    fill: var(--button-hover-fill-color);\n",
              "  }\n",
              "\n",
              "  .colab-df-quickchart-complete:disabled,\n",
              "  .colab-df-quickchart-complete:disabled:hover {\n",
              "    background-color: var(--disabled-bg-color);\n",
              "    fill: var(--disabled-fill-color);\n",
              "    box-shadow: none;\n",
              "  }\n",
              "\n",
              "  .colab-df-spinner {\n",
              "    border: 2px solid var(--fill-color);\n",
              "    border-color: transparent;\n",
              "    border-bottom-color: var(--fill-color);\n",
              "    animation:\n",
              "      spin 1s steps(1) infinite;\n",
              "  }\n",
              "\n",
              "  @keyframes spin {\n",
              "    0% {\n",
              "      border-color: transparent;\n",
              "      border-bottom-color: var(--fill-color);\n",
              "      border-left-color: var(--fill-color);\n",
              "    }\n",
              "    20% {\n",
              "      border-color: transparent;\n",
              "      border-left-color: var(--fill-color);\n",
              "      border-top-color: var(--fill-color);\n",
              "    }\n",
              "    30% {\n",
              "      border-color: transparent;\n",
              "      border-left-color: var(--fill-color);\n",
              "      border-top-color: var(--fill-color);\n",
              "      border-right-color: var(--fill-color);\n",
              "    }\n",
              "    40% {\n",
              "      border-color: transparent;\n",
              "      border-right-color: var(--fill-color);\n",
              "      border-top-color: var(--fill-color);\n",
              "    }\n",
              "    60% {\n",
              "      border-color: transparent;\n",
              "      border-right-color: var(--fill-color);\n",
              "    }\n",
              "    80% {\n",
              "      border-color: transparent;\n",
              "      border-right-color: var(--fill-color);\n",
              "      border-bottom-color: var(--fill-color);\n",
              "    }\n",
              "    90% {\n",
              "      border-color: transparent;\n",
              "      border-bottom-color: var(--fill-color);\n",
              "    }\n",
              "  }\n",
              "</style>\n",
              "\n",
              "  <script>\n",
              "    async function quickchart(key) {\n",
              "      const quickchartButtonEl =\n",
              "        document.querySelector('#' + key + ' button');\n",
              "      quickchartButtonEl.disabled = true;  // To prevent multiple clicks.\n",
              "      quickchartButtonEl.classList.add('colab-df-spinner');\n",
              "      try {\n",
              "        const charts = await google.colab.kernel.invokeFunction(\n",
              "            'suggestCharts', [key], {});\n",
              "      } catch (error) {\n",
              "        console.error('Error during call to suggestCharts:', error);\n",
              "      }\n",
              "      quickchartButtonEl.classList.remove('colab-df-spinner');\n",
              "      quickchartButtonEl.classList.add('colab-df-quickchart-complete');\n",
              "    }\n",
              "    (() => {\n",
              "      let quickchartButtonEl =\n",
              "        document.querySelector('#df-34ed6f88-5833-447d-b691-420bf46a030c button');\n",
              "      quickchartButtonEl.style.display =\n",
              "        google.colab.kernel.accessAllowed ? 'block' : 'none';\n",
              "    })();\n",
              "  </script>\n",
              "</div>\n",
              "    </div>\n",
              "  </div>\n"
            ],
            "application/vnd.google.colaboratory.intrinsic+json": {
              "type": "dataframe",
              "variable_name": "df",
              "summary": "{\n  \"name\": \"df\",\n  \"rows\": 1050,\n  \"fields\": [\n    {\n      \"column\": \"line_id\",\n      \"properties\": {\n        \"dtype\": \"number\",\n        \"std\": 303,\n        \"min\": 0,\n        \"max\": 1049,\n        \"num_unique_values\": 1050,\n        \"samples\": [\n          352,\n          689,\n          485\n        ],\n        \"semantic_type\": \"\",\n        \"description\": \"\"\n      }\n    },\n    {\n      \"column\": \"summary\",\n      \"properties\": {\n        \"dtype\": \"string\",\n        \"num_unique_values\": 1042,\n        \"samples\": [\n          \"Architects \\u2014 (\\u0432 \\u043f\\u0435\\u0440\\u0435\\u0432\\u043e\\u0434\\u0435 \\u0441 \\u0430\\u043d\\u0433\\u043b.\\u2009\\u2014\\u2009\\u00ab\\u0410\\u0440\\u0445\\u0438\\u0442\\u0435\\u043a\\u0442\\u043e\\u0440\\u044b\\u00bb) \\u0431\\u0440\\u0438\\u0442\\u0430\\u043d\\u0441\\u043a\\u0430\\u044f  \\u043c\\u0435\\u0442\\u0430\\u043b\\u043a\\u043e\\u0440-\\u0433\\u0440\\u0443\\u043f\\u043f\\u0430. \\u0411\\u044b\\u043b\\u0430 \\u0441\\u0444\\u043e\\u0440\\u043c\\u0438\\u0440\\u043e\\u0432\\u0430\\u043d\\u0430 \\u0432 2004 \\u0433\\u043e\\u0434\\u0443 \\u0432 \\u0411\\u0440\\u0430\\u0439\\u0442\\u043e\\u043d\\u0435, \\u0412\\u0435\\u043b\\u0438\\u043a\\u043e\\u0431\\u0440\\u0438\\u0442\\u0430\\u043d\\u0438\\u044f. \\u0417\\u0430 \\u0432\\u0440\\u0435\\u043c\\u044f \\u0441\\u0432\\u043e\\u0435\\u0433\\u043e \\u0441\\u0443\\u0449\\u0435\\u0441\\u0442\\u0432\\u043e\\u0432\\u0430\\u043d\\u0438\\u044f \\u043a\\u043e\\u043b\\u043b\\u0435\\u043a\\u0442\\u0438\\u0432 \\u043d\\u0435\\u0441\\u043a\\u043e\\u043b\\u044c\\u043a\\u043e \\u0440\\u0430\\u0437 \\u0438\\u0437\\u043c\\u0435\\u043d\\u044f\\u043b \\u0441\\u0432\\u043e\\u0451 \\u043d\\u0430\\u0437\\u0432\\u0430\\u043d\\u0438\\u0435 \\u2014 InHarmonic, \\u0437\\u0430\\u0442\\u0435\\u043c Counting the Days. \\u041d\\u0435\\u0441\\u043a\\u043e\\u043b\\u044c\\u043a\\u043e \\u043b\\u0435\\u0442 \\u0442\\u0430\\u043a \\u043e\\u043d\\u0438 \\u0438 \\u0438\\u043c\\u0435\\u043d\\u043e\\u0432\\u0430\\u043b\\u0438\\u0441\\u044c, \\u0430 \\u0437\\u0430\\u0442\\u0435\\u043c \\u0438\\u0437\\u043c\\u0435\\u043d\\u0438\\u043b\\u0438 \\u043d\\u0430\\u0437\\u0432\\u0430\\u043d\\u0438\\u0435 \\u043d\\u0430 \\u043d\\u044b\\u043d\\u0435\\u0448\\u043d\\u0435\\u0435. \\u0413\\u0440\\u0443\\u043f\\u043f\\u0430 \\u0438\\u0437\\u0432\\u0435\\u0441\\u0442\\u043d\\u0430 \\u0441\\u0432\\u043e\\u0438\\u043c \\u0430\\u0433\\u0440\\u0435\\u0441\\u0441\\u0438\\u0432\\u043d\\u044b\\u043c \\u0438 \\u044d\\u043c\\u043e\\u0446\\u0438\\u043e\\u043d\\u0430\\u043b\\u044c\\u043d\\u044b\\u043c \\u0432\\u043e\\u043a\\u0430\\u043b\\u043e\\u043c, \\u043f\\u0435\\u0440\\u0435\\u043f\\u043b\\u0435\\u0442\\u0430\\u044e\\u0449\\u0438\\u043c\\u0441\\u044f \\u0441 \\u0434\\u0438\\u043d\\u0430\\u043c\\u0438\\u0447\\u043d\\u044b\\u043c\\u0438 \\u0433\\u0438\\u0442\\u0430\\u0440\\u043d\\u044b\\u043c\\u0438 \\u043f\\u0430\\u0440\\u0442\\u0438\\u044f\\u043c\\u0438. \\u0417\\u0430 \\u043a\\u0430\\u0440\\u044c\\u0435\\u0440\\u0443 \\u0432\\u044b\\u043f\\u0443\\u0449\\u0435\\u043d\\u043e 7 \\u043f\\u043e\\u043b\\u043d\\u043e\\u0444\\u043e\\u0440\\u043c\\u0430\\u0442\\u043d\\u044b\\u0445 \\u0438 \\u043e\\u0434\\u0438\\u043d \\u043c\\u0438\\u043d\\u0438-\\u0430\\u043b\\u044c\\u0431\\u043e\\u043c.\",\n          \"\\u041a\\u043b\\u0430\\u0434\\u0431\\u0438\\u0449\\u0435 \\u041a\\u0443\\u043b\\u043e\\u0441\\u0430\\u0430\\u0440\\u0438 (\\u0444\\u0438\\u043d. Kulosaaren hautausmaa) \\u2014 \\u043d\\u0435\\u0431\\u043e\\u043b\\u044c\\u0448\\u043e\\u0435 \\u043a\\u043b\\u0430\\u0434\\u0431\\u0438\\u0449\\u0435 \\u0432 \\u0441\\u0442\\u043e\\u043b\\u0438\\u0446\\u0435 \\u0424\\u0438\\u043d\\u043b\\u044f\\u043d\\u0434\\u0438\\u0438 \\u0433\\u043e\\u0440\\u043e\\u0434\\u0435 \\u0425\\u0435\\u043b\\u044c\\u0441\\u0438\\u043d\\u043a\\u0438. \\u041e\\u0442\\u043a\\u0440\\u044b\\u0442\\u043e \\u0432 1925 \\u0433\\u043e\\u0434\\u0443. \\u041a\\u043b\\u0430\\u0434\\u0431\\u0438\\u0449\\u0435 \\u041a\\u0443\\u043b\\u043e\\u0441\\u0430\\u0430\\u0440\\u0438 \\u0437\\u0430\\u043d\\u0438\\u043c\\u0430\\u0435\\u0442 \\u043f\\u043b\\u043e\\u0449\\u0430\\u0434\\u044c \\u043e\\u043a\\u043e\\u043b\\u043e \\u0434\\u0432\\u0443\\u0445 \\u0433\\u0435\\u043a\\u0442\\u0430\\u0440\\u043e\\u0432. \\u0420\\u0430\\u0441\\u043f\\u043e\\u043b\\u043e\\u0436\\u0435\\u043d\\u043e \\u043d\\u0430 \\u043e\\u0441\\u0442\\u0440\\u043e\\u0432\\u0435 \\u041b\\u0435\\u043f\\u043e\\u0441\\u0430\\u0430\\u0440\\u0438 \\u0432 \\u0440\\u0430\\u0439\\u043e\\u043d\\u0435 \\u041a\\u0443\\u043b\\u043e\\u0441\\u0430\\u0430\\u0440\\u0438. \\u0412 1927 \\u0433\\u043e\\u0434\\u0443 \\u0431\\u044b\\u043b\\u0430 \\u0441\\u043e\\u043e\\u0440\\u0443\\u0436\\u0435\\u043d\\u0430 \\u0447\\u0430\\u0441\\u043e\\u0432\\u043d\\u044f \\u043f\\u043e \\u043f\\u0440\\u043e\\u0435\\u043a\\u0442\\u0443 \\u0430\\u0440\\u0445\\u0438\\u0442\\u0435\\u043a\\u0442\\u043e\\u0440\\u0430 \\u0410\\u0440\\u043c\\u0430\\u0441\\u0430 \\u041b\\u0438\\u043d\\u0434\\u0433\\u0440\\u0435\\u043d\\u0430. \\u041d\\u044b\\u043d\\u0435 \\u0437\\u0434\\u0435\\u0441\\u044c \\u043f\\u043e\\u0445\\u043e\\u0440\\u043e\\u043d\\u0435\\u043d\\u044b \\u043e\\u043a\\u043e\\u043b\\u043e 1730 \\u0447\\u0435\\u043b\\u043e\\u0432\\u0435\\u043a. \\u041d\\u0430 \\u043a\\u043b\\u0430\\u0434\\u0431\\u0438\\u0449\\u0435 \\u0435\\u0441\\u0442\\u044c \\u0443\\u0447\\u0430\\u0441\\u0442\\u043e\\u043a \\u0432\\u043e\\u0438\\u043d\\u043e\\u0432, \\u043f\\u043e\\u0433\\u0438\\u0431\\u0448\\u0438\\u0445 \\u0432\\u043e \\u0432\\u0440\\u0435\\u043c\\u044f \\u0417\\u0438\\u043c\\u043d\\u0435\\u0439 \\u0432\\u043e\\u0439\\u043d\\u044b \\u0438 \\u0412\\u0442\\u043e\\u0440\\u043e\\u0439 \\u043c\\u0438\\u0440\\u043e\\u0432\\u043e\\u0439 \\u0432\\u043e\\u0439\\u043d\\u044b.\",\n          \"Citro\\u00ebn Xsara \\u2014 \\u043d\\u0435\\u0431\\u043e\\u043b\\u044c\\u0448\\u043e\\u0439 \\u0441\\u0435\\u043c\\u0435\\u0439\\u043d\\u044b\\u0439 \\u0430\\u0432\\u0442\\u043e\\u043c\\u043e\\u0431\\u0438\\u043b\\u044c \\u0444\\u0440\\u0430\\u043d\\u0446\\u0443\\u0437\\u0441\\u043a\\u043e\\u0439 \\u043a\\u043e\\u043c\\u043f\\u0430\\u043d\\u0438\\u0438 Citro\\u00ebn, \\u043f\\u0440\\u043e\\u0438\\u0437\\u0432\\u043e\\u0434\\u0438\\u0432\\u0448\\u0438\\u0439\\u0441\\u044f \\u0441 1997 \\u043f\\u043e 2006 \\u0433\\u043e\\u0434. \\u041e\\u043d \\u0432\\u044b\\u043f\\u0443\\u0441\\u043a\\u0430\\u043b\\u0441\\u044f \\u043a\\u0430\\u043a \\u0442\\u0440\\u0451\\u0445- \\u0438 \\u043f\\u044f\\u0442\\u0438\\u0434\\u0432\\u0435\\u0440\\u043d\\u044b\\u0439 \\u0445\\u0435\\u0442\\u0447\\u0431\\u044d\\u043a \\u0438 \\u043f\\u044f\\u0442\\u0438\\u0434\\u0432\\u0435\\u0440\\u043d\\u044b\\u0439 \\u0443\\u043d\\u0438\\u0432\\u0435\\u0440\\u0441\\u0430\\u043b, \\u0441 1,4, 1,6, 1,8 \\u0438 2,0-\\u043b\\u0438\\u0442\\u0440\\u043e\\u0432\\u044b\\u043c\\u0438 \\u0431\\u0435\\u043d\\u0437\\u0438\\u043d\\u043e\\u0432\\u044b\\u043c\\u0438 \\u0434\\u0432\\u0438\\u0433\\u0430\\u0442\\u0435\\u043b\\u044f\\u043c\\u0438, \\u0430 \\u0442\\u0430\\u043a\\u0436\\u0435 \\u0441 1,6, 1,9 \\u0438 2,0-\\u043b\\u0438\\u0442\\u0440\\u043e\\u0432\\u044b\\u043c\\u0438 \\u0442\\u0443\\u0440\\u0431\\u043e\\u0434\\u0438\\u0437\\u0435\\u043b\\u044f\\u043c\\u0438.\"\n        ],\n        \"semantic_type\": \"\",\n        \"description\": \"\"\n      }\n    },\n    {\n      \"column\": \"question\",\n      \"properties\": {\n        \"dtype\": \"string\",\n        \"num_unique_values\": 1018,\n        \"samples\": [\n          \"\\u0412 \\u043a\\u0430\\u043a\\u043e\\u043c \\u0433\\u043e\\u0434\\u0443 \\u043f\\u0440\\u0438\\u0441\\u0432\\u043e\\u0435\\u043d\\u043e \\u0437\\u0432\\u0430\\u043d\\u0438\\u0435 \\u0413\\u0435\\u0440\\u043e\\u044f \\u0420\\u043e\\u0441\\u0441\\u0438\\u0439\\u0441\\u043a\\u043e\\u0439 \\u0424\\u0435\\u0434\\u0435\\u0440\\u0430\\u0446\\u0438\\u0438?\",\n          \"\\u0414\\u043b\\u044f \\u043a\\u0430\\u043a\\u0438\\u0445 \\u043a\\u043b\\u0443\\u0431\\u043e\\u0432 \\u043e\\u0440\\u0433\\u0430\\u043d\\u0438\\u0437\\u043e\\u0432\\u0430\\u043d \\u041a\\u0443\\u0431\\u043e\\u043a \\u0424\\u0410?\",\n          \"\\u041a\\u0430\\u043a\\u043e\\u0439 \\u0432\\u044b\\u0441\\u043e\\u0442\\u044b \\u043c\\u043e\\u0433\\u0443\\u0442 \\u0434\\u043e\\u0441\\u0442\\u0438\\u0433\\u0430\\u0442\\u044c \\u0440\\u0430\\u0441\\u0442\\u0435\\u043d\\u0438\\u044f \\u0432 \\u0435\\u0441\\u0442\\u0435\\u0441\\u0442\\u0432\\u0435\\u043d\\u043d\\u043e\\u0439 \\u0441\\u0440\\u0435\\u0434\\u0435?\"\n        ],\n        \"semantic_type\": \"\",\n        \"description\": \"\"\n      }\n    },\n    {\n      \"column\": \"answer\",\n      \"properties\": {\n        \"dtype\": \"string\",\n        \"num_unique_values\": 986,\n        \"samples\": [\n          \"\\u042f\\u0437\\u044b\\u043a \\u0441\\u0442\\u0440\\u0430\\u043d\\u044b \\u2014 \\u0413\\u0430\\u043d\\u0430.\",\n          \"\\u0441\\u043e\\u0436\\u0436\\u0435\\u043d\\u0438\\u0435\",\n          \"\\u041a\\u0430\\u043b\\u0433\\u0430\\u043d.\"\n        ],\n        \"semantic_type\": \"\",\n        \"description\": \"\"\n      }\n    },\n    {\n      \"column\": \"is_hallucination\",\n      \"properties\": {\n        \"dtype\": \"number\",\n        \"std\": 0,\n        \"min\": 0,\n        \"max\": 1,\n        \"num_unique_values\": 2,\n        \"samples\": [\n          0,\n          1\n        ],\n        \"semantic_type\": \"\",\n        \"description\": \"\"\n      }\n    }\n  ]\n}"
            }
          },
          "metadata": {},
          "execution_count": 17
        }
      ]
    },
    {
      "source": [
        "# @title is_hallucination\n",
        "\n",
        "from matplotlib import pyplot as plt\n",
        "df['is_hallucination'].plot(kind='hist', bins=20, title='is_hallucination')\n",
        "plt.gca().spines[['top', 'right',]].set_visible(False)"
      ],
      "cell_type": "code",
      "execution_count": null,
      "outputs": [
        {
          "output_type": "display_data",
          "data": {
            "text/plain": [
              "<Figure size 640x480 with 1 Axes>"
            ],
            "image/png": "[encoded data removed]"
          },
          "metadata": {}
        }
      ],
      "metadata": {
        "cellView": "form",
        "colab": {
          "base_uri": "https://localhost:8080/",
          "height": 452
        },
        "id": "a16eyR0F_F4d",
        "outputId": "341d9fab-115e-4fce-d724-ff14e72617b4"
      }
    },
    {
      "cell_type": "code",
      "source": [
        "df.describe()"
      ],
      "metadata": {
        "colab": {
          "base_uri": "https://localhost:8080/",
          "height": 300
        },
        "id": "wLpLLxb5_mGb",
        "outputId": "897c6d00-a5c5-49a2-ae80-d9d00337aad2"
      },
      "execution_count": null,
      "outputs": [
        {
          "output_type": "execute_result",
          "data": {
            "text/plain": [
              "           line_id  is_hallucination\n",
              "count  1050.000000       1050.000000\n",
              "mean    524.500000          0.506667\n",
              "std     303.253195          0.500194\n",
              "min       0.000000          0.000000\n",
              "25%     262.250000          0.000000\n",
              "50%     524.500000          1.000000\n",
              "75%     786.750000          1.000000\n",
              "max    1049.000000          1.000000"
            ],
            "text/html": [
              "\n",
              "  <div id=\"df-b7adee97-c630-4702-8d47-419374c5ddb2\" class=\"colab-df-container\">\n",
              "    <div>\n",
              "<style scoped>\n",
              "    .dataframe tbody tr th:only-of-type {\n",
              "        vertical-align: middle;\n",
              "    }\n",
              "\n",
              "    .dataframe tbody tr th {\n",
              "        vertical-align: top;\n",
              "    }\n",
              "\n",
              "    .dataframe thead th {\n",
              "        text-align: right;\n",
              "    }\n",
              "</style>\n",
              "<table border=\"1\" class=\"dataframe\">\n",
              "  <thead>\n",
              "    <tr style=\"text-align: right;\">\n",
              "      <th></th>\n",
              "      <th>line_id</th>\n",
              "      <th>is_hallucination</th>\n",
              "    </tr>\n",
              "  </thead>\n",
              "  <tbody>\n",
              "    <tr>\n",
              "      <th>count</th>\n",
              "      <td>1050.000000</td>\n",
              "      <td>1050.000000</td>\n",
              "    </tr>\n",
              "    <tr>\n",
              "      <th>mean</th>\n",
              "      <td>524.500000</td>\n",
              "      <td>0.506667</td>\n",
              "    </tr>\n",
              "    <tr>\n",
              "      <th>std</th>\n",
              "      <td>303.253195</td>\n",
              "      <td>0.500194</td>\n",
              "    </tr>\n",
              "    <tr>\n",
              "      <th>min</th>\n",
              "      <td>0.000000</td>\n",
              "      <td>0.000000</td>\n",
              "    </tr>\n",
              "    <tr>\n",
              "      <th>25%</th>\n",
              "      <td>262.250000</td>\n",
              "      <td>0.000000</td>\n",
              "    </tr>\n",
              "    <tr>\n",
              "      <th>50%</th>\n",
              "      <td>524.500000</td>\n",
              "      <td>1.000000</td>\n",
              "    </tr>\n",
              "    <tr>\n",
              "      <th>75%</th>\n",
              "      <td>786.750000</td>\n",
              "      <td>1.000000</td>\n",
              "    </tr>\n",
              "    <tr>\n",
              "      <th>max</th>\n",
              "      <td>1049.000000</td>\n",
              "      <td>1.000000</td>\n",
              "    </tr>\n",
              "  </tbody>\n",
              "</table>\n",
              "</div>\n",
              "    <div class=\"colab-df-buttons\">\n",
              "\n",
              "  <div class=\"colab-df-container\">\n",
              "    <button class=\"colab-df-convert\" onclick=\"convertToInteractive('df-b7adee97-c630-4702-8d47-419374c5ddb2')\"\n",
              "            title=\"Convert this dataframe to an interactive table.\"\n",
              "            style=\"display:none;\">\n",
              "\n",
              "  <svg xmlns=\"http://www.w3.org/2000/svg\" height=\"24px\" viewBox=\"0 -960 960 960\">\n",
              "    <path d=\"M120-120v-720h720v720H120Zm60-500h600v-160H180v160Zm220 220h160v-160H400v160Zm0 220h160v-160H400v160ZM180-400h160v-160H180v160Zm440 0h160v-160H620v160ZM180-180h160v-160H180v160Zm440 0h160v-160H620v160Z\"/>\n",
              "  </svg>\n",
              "    </button>\n",
              "\n",
              "  <style>\n",
              "    .colab-df-container {\n",
              "      display:flex;\n",
              "      gap: 12px;\n",
              "    }\n",
              "\n",
              "    .colab-df-convert {\n",
              "      background-color: #E8F0FE;\n",
              "      border: none;\n",
              "      border-radius: 50%;\n",
              "      cursor: pointer;\n",
              "      display: none;\n",
              "      fill: #1967D2;\n",
              "      height: 32px;\n",
              "      padding: 0 0 0 0;\n",
              "      width: 32px;\n",
              "    }\n",
              "\n",
              "    .colab-df-convert:hover {\n",
              "      background-color: #E2EBFA;\n",
              "      box-shadow: 0px 1px 2px rgba(60, 64, 67, 0.3), 0px 1px 3px 1px rgba(60, 64, 67, 0.15);\n",
              "      fill: #174EA6;\n",
              "    }\n",
              "\n",
              "    .colab-df-buttons div {\n",
              "      margin-bottom: 4px;\n",
              "    }\n",
              "\n",
              "    [theme=dark] .colab-df-convert {\n",
              "      background-color: #3B4455;\n",
              "      fill: #D2E3FC;\n",
              "    }\n",
              "\n",
              "    [theme=dark] .colab-df-convert:hover {\n",
              "      background-color: #434B5C;\n",
              "      box-shadow: 0px 1px 3px 1px rgba(0, 0, 0, 0.15);\n",
              "      filter: drop-shadow(0px 1px 2px rgba(0, 0, 0, 0.3));\n",
              "      fill: #FFFFFF;\n",
              "    }\n",
              "  </style>\n",
              "\n",
              "    <script>\n",
              "      const buttonEl =\n",
              "        document.querySelector('#df-b7adee97-c630-4702-8d47-419374c5ddb2 button.colab-df-convert');\n",
              "      buttonEl.style.display =\n",
              "        google.colab.kernel.accessAllowed ? 'block' : 'none';\n",
              "\n",
              "      async function convertToInteractive(key) {\n",
              "        const element = document.querySelector('#df-b7adee97-c630-4702-8d47-419374c5ddb2');\n",
              "        const dataTable =\n",
              "          await google.colab.kernel.invokeFunction('convertToInteractive',\n",
              "                                                    [key], {});\n",
              "        if (!dataTable) return;\n",
              "\n",
              "        const docLinkHtml = 'Like what you see? Visit the ' +\n",
              "          '<a target=\"_blank\" href=https://colab.research.google.com/notebooks/data_table.ipynb>data table notebook</a>'\n",
              "          + ' to learn more about interactive tables.';\n",
              "        element.innerHTML = '';\n",
              "        dataTable['output_type'] = 'display_data';\n",
              "        await google.colab.output.renderOutput(dataTable, element);\n",
              "        const docLink = document.createElement('div');\n",
              "        docLink.innerHTML = docLinkHtml;\n",
              "        element.appendChild(docLink);\n",
              "      }\n",
              "    </script>\n",
              "  </div>\n",
              "\n",
              "\n",
              "<div id=\"df-a0089d02-f611-4a5c-9773-993b91fb1702\">\n",
              "  <button class=\"colab-df-quickchart\" onclick=\"quickchart('df-a0089d02-f611-4a5c-9773-993b91fb1702')\"\n",
              "            title=\"Suggest charts\"\n",
              "            style=\"display:none;\">\n",
              "\n",
              "<svg xmlns=\"http://www.w3.org/2000/svg\" height=\"24px\"viewBox=\"0 0 24 24\"\n",
              "     width=\"24px\">\n",
              "    <g>\n",
              "        <path d=\"M19 3H5c-1.1 0-2 .9-2 2v14c0 1.1.9 2 2 2h14c1.1 0 2-.9 2-2V5c0-1.1-.9-2-2-2zM9 17H7v-7h2v7zm4 0h-2V7h2v10zm4 0h-2v-4h2v4z\"/>\n",
              "    </g>\n",
              "</svg>\n",
              "  </button>\n",
              "\n",
              "<style>\n",
              "  .colab-df-quickchart {\n",
              "      --bg-color: #E8F0FE;\n",
              "      --fill-color: #1967D2;\n",
              "      --hover-bg-color: #E2EBFA;\n",
              "      --hover-fill-color: #174EA6;\n",
              "      --disabled-fill-color: #AAA;\n",
              "      --disabled-bg-color: #DDD;\n",
              "  }\n",
              "\n",
              "  [theme=dark] .colab-df-quickchart {\n",
              "      --bg-color: #3B4455;\n",
              "      --fill-color: #D2E3FC;\n",
              "      --hover-bg-color: #434B5C;\n",
              "      --hover-fill-color: #FFFFFF;\n",
              "      --disabled-bg-color: #3B4455;\n",
              "      --disabled-fill-color: #666;\n",
              "  }\n",
              "\n",
              "  .colab-df-quickchart {\n",
              "    background-color: var(--bg-color);\n",
              "    border: none;\n",
              "    border-radius: 50%;\n",
              "    cursor: pointer;\n",
              "    display: none;\n",
              "    fill: var(--fill-color);\n",
              "    height: 32px;\n",
              "    padding: 0;\n",
              "    width: 32px;\n",
              "  }\n",
              "\n",
              "  .colab-df-quickchart:hover {\n",
              "    background-color: var(--hover-bg-color);\n",
              "    box-shadow: 0 1px 2px rgba(60, 64, 67, 0.3), 0 1px 3px 1px rgba(60, 64, 67, 0.15);\n",
              "    fill: var(--button-hover-fill-color);\n",
              "  }\n",
              "\n",
              "  .colab-df-quickchart-complete:disabled,\n",
              "  .colab-df-quickchart-complete:disabled:hover {\n",
              "    background-color: var(--disabled-bg-color);\n",
              "    fill: var(--disabled-fill-color);\n",
              "    box-shadow: none;\n",
              "  }\n",
              "\n",
              "  .colab-df-spinner {\n",
              "    border: 2px solid var(--fill-color);\n",
              "    border-color: transparent;\n",
              "    border-bottom-color: var(--fill-color);\n",
              "    animation:\n",
              "      spin 1s steps(1) infinite;\n",
              "  }\n",
              "\n",
              "  @keyframes spin {\n",
              "    0% {\n",
              "      border-color: transparent;\n",
              "      border-bottom-color: var(--fill-color);\n",
              "      border-left-color: var(--fill-color);\n",
              "    }\n",
              "    20% {\n",
              "      border-color: transparent;\n",
              "      border-left-color: var(--fill-color);\n",
              "      border-top-color: var(--fill-color);\n",
              "    }\n",
              "    30% {\n",
              "      border-color: transparent;\n",
              "      border-left-color: var(--fill-color);\n",
              "      border-top-color: var(--fill-color);\n",
              "      border-right-color: var(--fill-color);\n",
              "    }\n",
              "    40% {\n",
              "      border-color: transparent;\n",
              "      border-right-color: var(--fill-color);\n",
              "      border-top-color: var(--fill-color);\n",
              "    }\n",
              "    60% {\n",
              "      border-color: transparent;\n",
              "      border-right-color: var(--fill-color);\n",
              "    }\n",
              "    80% {\n",
              "      border-color: transparent;\n",
              "      border-right-color: var(--fill-color);\n",
              "      border-bottom-color: var(--fill-color);\n",
              "    }\n",
              "    90% {\n",
              "      border-color: transparent;\n",
              "      border-bottom-color: var(--fill-color);\n",
              "    }\n",
              "  }\n",
              "</style>\n",
              "\n",
              "  <script>\n",
              "    async function quickchart(key) {\n",
              "      const quickchartButtonEl =\n",
              "        document.querySelector('#' + key + ' button');\n",
              "      quickchartButtonEl.disabled = true;  // To prevent multiple clicks.\n",
              "      quickchartButtonEl.classList.add('colab-df-spinner');\n",
              "      try {\n",
              "        const charts = await google.colab.kernel.invokeFunction(\n",
              "            'suggestCharts', [key], {});\n",
              "      } catch (error) {\n",
              "        console.error('Error during call to suggestCharts:', error);\n",
              "      }\n",
              "      quickchartButtonEl.classList.remove('colab-df-spinner');\n",
              "      quickchartButtonEl.classList.add('colab-df-quickchart-complete');\n",
              "    }\n",
              "    (() => {\n",
              "      let quickchartButtonEl =\n",
              "        document.querySelector('#df-a0089d02-f611-4a5c-9773-993b91fb1702 button');\n",
              "      quickchartButtonEl.style.display =\n",
              "        google.colab.kernel.accessAllowed ? 'block' : 'none';\n",
              "    })();\n",
              "  </script>\n",
              "</div>\n",
              "    </div>\n",
              "  </div>\n"
            ],
            "application/vnd.google.colaboratory.intrinsic+json": {
              "type": "dataframe",
              "summary": "{\n  \"name\": \"df\",\n  \"rows\": 8,\n  \"fields\": [\n    {\n      \"column\": \"line_id\",\n      \"properties\": {\n        \"dtype\": \"number\",\n        \"std\": 378.2062500667143,\n        \"min\": 0.0,\n        \"max\": 1050.0,\n        \"num_unique_values\": 7,\n        \"samples\": [\n          1050.0,\n          524.5,\n          786.75\n        ],\n        \"semantic_type\": \"\",\n        \"description\": \"\"\n      }\n    },\n    {\n      \"column\": \"is_hallucination\",\n      \"properties\": {\n        \"dtype\": \"number\",\n        \"std\": 371.02891669492465,\n        \"min\": 0.0,\n        \"max\": 1050.0,\n        \"num_unique_values\": 5,\n        \"samples\": [\n          0.5066666666666667,\n          1.0,\n          0.5001937978411893\n        ],\n        \"semantic_type\": \"\",\n        \"description\": \"\"\n      }\n    }\n  ]\n}"
            }
          },
          "metadata": {},
          "execution_count": 18
        }
      ]
    },
    {
      "cell_type": "code",
      "source": [
        "def fill_na(df, features):\n",
        "    for feature in features:\n",
        "        df[feature] = df[feature].fillna('')"
      ],
      "metadata": {
        "id": "evTj7HAfD-SC"
      },
      "execution_count": null,
      "outputs": []
    },
    {
      "cell_type": "code",
      "source": [
        "content_dir = \"/content\"\n",
        "text_features = ['summary', 'question', 'answer']\n",
        "column_name = \"is_hallucination\"\n",
        "import tensorflow as tf\n",
        "import numpy as np\n",
        "\n",
        "from sklearn.model_selection import train_test_split\n",
        "\n",
        "df = df.drop([\"line_id\"], axis=1)\n",
        "fill_na(df, text_features)\n",
        "# Разделение данных на тренировочный и валидационный наборы\n",
        "train, valid = train_test_split(\n",
        "    df,\n",
        "    train_size=0.7,\n",
        "    random_state=0,\n",
        "    stratify=df[column_name]\n",
        ")\n",
        "\n",
        "# Разделение на признаки и целевую переменную для тренировочного набора\n",
        "X_train = train.drop([column_name], axis=1)\n",
        "y_train = train[column_name]\n",
        "\n",
        "# Разделение на признаки и целевую переменную для валидационного набора\n",
        "X_valid = valid.drop([column_name], axis=1)\n",
        "y_valid = valid[column_name]\n",
        "\n",
        "# Кодирование целевой переменной в категориальный формат для тренировочного набора\n",
        "y_train_c = tf.keras.utils.to_categorical(\n",
        "    y_train.astype('category').cat.codes.values, num_classes=2\n",
        ")\n",
        "\n",
        "# Кодирование целевой переменной в категориальный формат для валидационного набора\n",
        "y_valid_c = tf.keras.utils.to_categorical(\n",
        "    y_valid.astype('category').cat.codes.values, num_classes=2\n",
        ")"
      ],
      "metadata": {
        "id": "wml_m2t0Aviv"
      },
      "execution_count": null,
      "outputs": []
    },
    {
      "cell_type": "code",
      "source": [
        "df.head()"
      ],
      "metadata": {
        "colab": {
          "base_uri": "https://localhost:8080/",
          "height": 293
        },
        "id": "LXWXabciFoSk",
        "outputId": "b124e8b7-b49c-4a08-c557-4baf587065ca"
      },
      "execution_count": null,
      "outputs": [
        {
          "output_type": "execute_result",
          "data": {
            "text/plain": [
              "                                             summary  \\\n",
              "0  Херманус Питер (Дик) Логгере (нидерл. Hermanus...   \n",
              "1  Ходуткинские горячие источники (Худутские горя...   \n",
              "2  Чёрная вдова (лат. Latrodectus mactans) — вид ...   \n",
              "3  Рысь — река в России, протекает по территориям...   \n",
              "4  И́се (яп. 伊勢市), ранее Удзиямада — город в Япон...   \n",
              "\n",
              "                                            question  \\\n",
              "0  В каком городе проходил чемпионат мира по хокк...   \n",
              "1   Как называется район в который входят источники?   \n",
              "2                    Для кого опасны пауки-бокоходы?   \n",
              "3                            Какова длина реки Рысь?   \n",
              "4                                     Что такое Исе?   \n",
              "\n",
              "                                              answer  is_hallucination  \n",
              "0                                      В Хилверсюме.                 1  \n",
              "1                                 Елизовским районом                 0  \n",
              "2                                           Для рыб.                 1  \n",
              "3                                              5 км.                 1  \n",
              "4  Исе — это небольшой город в Японии, который не...                 1  "
            ],
            "text/html": [
              "\n",
              "  <div id=\"df-281fd743-52ed-4891-8c26-238449cfeaa7\" class=\"colab-df-container\">\n",
              "    <div>\n",
              "<style scoped>\n",
              "    .dataframe tbody tr th:only-of-type {\n",
              "        vertical-align: middle;\n",
              "    }\n",
              "\n",
              "    .dataframe tbody tr th {\n",
              "        vertical-align: top;\n",
              "    }\n",
              "\n",
              "    .dataframe thead th {\n",
              "        text-align: right;\n",
              "    }\n",
              "</style>\n",
              "<table border=\"1\" class=\"dataframe\">\n",
              "  <thead>\n",
              "    <tr style=\"text-align: right;\">\n",
              "      <th></th>\n",
              "      <th>summary</th>\n",
              "      <th>question</th>\n",
              "      <th>answer</th>\n",
              "      <th>is_hallucination</th>\n",
              "    </tr>\n",
              "  </thead>\n",
              "  <tbody>\n",
              "    <tr>\n",
              "      <th>0</th>\n",
              "      <td>Херманус Питер (Дик) Логгере (нидерл. Hermanus...</td>\n",
              "      <td>В каком городе проходил чемпионат мира по хокк...</td>\n",
              "      <td>В Хилверсюме.</td>\n",
              "      <td>1</td>\n",
              "    </tr>\n",
              "    <tr>\n",
              "      <th>1</th>\n",
              "      <td>Ходуткинские горячие источники (Худутские горя...</td>\n",
              "      <td>Как называется район в который входят источники?</td>\n",
              "      <td>Елизовским районом</td>\n",
              "      <td>0</td>\n",
              "    </tr>\n",
              "    <tr>\n",
              "      <th>2</th>\n",
              "      <td>Чёрная вдова (лат. Latrodectus mactans) — вид ...</td>\n",
              "      <td>Для кого опасны пауки-бокоходы?</td>\n",
              "      <td>Для рыб.</td>\n",
              "      <td>1</td>\n",
              "    </tr>\n",
              "    <tr>\n",
              "      <th>3</th>\n",
              "      <td>Рысь — река в России, протекает по территориям...</td>\n",
              "      <td>Какова длина реки Рысь?</td>\n",
              "      <td>5 км.</td>\n",
              "      <td>1</td>\n",
              "    </tr>\n",
              "    <tr>\n",
              "      <th>4</th>\n",
              "      <td>И́се (яп. 伊勢市), ранее Удзиямада — город в Япон...</td>\n",
              "      <td>Что такое Исе?</td>\n",
              "      <td>Исе — это небольшой город в Японии, который не...</td>\n",
              "      <td>1</td>\n",
              "    </tr>\n",
              "  </tbody>\n",
              "</table>\n",
              "</div>\n",
              "    <div class=\"colab-df-buttons\">\n",
              "\n",
              "  <div class=\"colab-df-container\">\n",
              "    <button class=\"colab-df-convert\" onclick=\"convertToInteractive('df-281fd743-52ed-4891-8c26-238449cfeaa7')\"\n",
              "            title=\"Convert this dataframe to an interactive table.\"\n",
              "            style=\"display:none;\">\n",
              "\n",
              "  <svg xmlns=\"http://www.w3.org/2000/svg\" height=\"24px\" viewBox=\"0 -960 960 960\">\n",
              "    <path d=\"M120-120v-720h720v720H120Zm60-500h600v-160H180v160Zm220 220h160v-160H400v160Zm0 220h160v-160H400v160ZM180-400h160v-160H180v160Zm440 0h160v-160H620v160ZM180-180h160v-160H180v160Zm440 0h160v-160H620v160Z\"/>\n",
              "  </svg>\n",
              "    </button>\n",
              "\n",
              "  <style>\n",
              "    .colab-df-container {\n",
              "      display:flex;\n",
              "      gap: 12px;\n",
              "    }\n",
              "\n",
              "    .colab-df-convert {\n",
              "      background-color: #E8F0FE;\n",
              "      border: none;\n",
              "      border-radius: 50%;\n",
              "      cursor: pointer;\n",
              "      display: none;\n",
              "      fill: #1967D2;\n",
              "      height: 32px;\n",
              "      padding: 0 0 0 0;\n",
              "      width: 32px;\n",
              "    }\n",
              "\n",
              "    .colab-df-convert:hover {\n",
              "      background-color: #E2EBFA;\n",
              "      box-shadow: 0px 1px 2px rgba(60, 64, 67, 0.3), 0px 1px 3px 1px rgba(60, 64, 67, 0.15);\n",
              "      fill: #174EA6;\n",
              "    }\n",
              "\n",
              "    .colab-df-buttons div {\n",
              "      margin-bottom: 4px;\n",
              "    }\n",
              "\n",
              "    [theme=dark] .colab-df-convert {\n",
              "      background-color: #3B4455;\n",
              "      fill: #D2E3FC;\n",
              "    }\n",
              "\n",
              "    [theme=dark] .colab-df-convert:hover {\n",
              "      background-color: #434B5C;\n",
              "      box-shadow: 0px 1px 3px 1px rgba(0, 0, 0, 0.15);\n",
              "      filter: drop-shadow(0px 1px 2px rgba(0, 0, 0, 0.3));\n",
              "      fill: #FFFFFF;\n",
              "    }\n",
              "  </style>\n",
              "\n",
              "    <script>\n",
              "      const buttonEl =\n",
              "        document.querySelector('#df-281fd743-52ed-4891-8c26-238449cfeaa7 button.colab-df-convert');\n",
              "      buttonEl.style.display =\n",
              "        google.colab.kernel.accessAllowed ? 'block' : 'none';\n",
              "\n",
              "      async function convertToInteractive(key) {\n",
              "        const element = document.querySelector('#df-281fd743-52ed-4891-8c26-238449cfeaa7');\n",
              "        const dataTable =\n",
              "          await google.colab.kernel.invokeFunction('convertToInteractive',\n",
              "                                                    [key], {});\n",
              "        if (!dataTable) return;\n",
              "\n",
              "        const docLinkHtml = 'Like what you see? Visit the ' +\n",
              "          '<a target=\"_blank\" href=https://colab.research.google.com/notebooks/data_table.ipynb>data table notebook</a>'\n",
              "          + ' to learn more about interactive tables.';\n",
              "        element.innerHTML = '';\n",
              "        dataTable['output_type'] = 'display_data';\n",
              "        await google.colab.output.renderOutput(dataTable, element);\n",
              "        const docLink = document.createElement('div');\n",
              "        docLink.innerHTML = docLinkHtml;\n",
              "        element.appendChild(docLink);\n",
              "      }\n",
              "    </script>\n",
              "  </div>\n",
              "\n",
              "\n",
              "<div id=\"df-0a5250a1-160f-48ac-9747-99ae9d92694e\">\n",
              "  <button class=\"colab-df-quickchart\" onclick=\"quickchart('df-0a5250a1-160f-48ac-9747-99ae9d92694e')\"\n",
              "            title=\"Suggest charts\"\n",
              "            style=\"display:none;\">\n",
              "\n",
              "<svg xmlns=\"http://www.w3.org/2000/svg\" height=\"24px\"viewBox=\"0 0 24 24\"\n",
              "     width=\"24px\">\n",
              "    <g>\n",
              "        <path d=\"M19 3H5c-1.1 0-2 .9-2 2v14c0 1.1.9 2 2 2h14c1.1 0 2-.9 2-2V5c0-1.1-.9-2-2-2zM9 17H7v-7h2v7zm4 0h-2V7h2v10zm4 0h-2v-4h2v4z\"/>\n",
              "    </g>\n",
              "</svg>\n",
              "  </button>\n",
              "\n",
              "<style>\n",
              "  .colab-df-quickchart {\n",
              "      --bg-color: #E8F0FE;\n",
              "      --fill-color: #1967D2;\n",
              "      --hover-bg-color: #E2EBFA;\n",
              "      --hover-fill-color: #174EA6;\n",
              "      --disabled-fill-color: #AAA;\n",
              "      --disabled-bg-color: #DDD;\n",
              "  }\n",
              "\n",
              "  [theme=dark] .colab-df-quickchart {\n",
              "      --bg-color: #3B4455;\n",
              "      --fill-color: #D2E3FC;\n",
              "      --hover-bg-color: #434B5C;\n",
              "      --hover-fill-color: #FFFFFF;\n",
              "      --disabled-bg-color: #3B4455;\n",
              "      --disabled-fill-color: #666;\n",
              "  }\n",
              "\n",
              "  .colab-df-quickchart {\n",
              "    background-color: var(--bg-color);\n",
              "    border: none;\n",
              "    border-radius: 50%;\n",
              "    cursor: pointer;\n",
              "    display: none;\n",
              "    fill: var(--fill-color);\n",
              "    height: 32px;\n",
              "    padding: 0;\n",
              "    width: 32px;\n",
              "  }\n",
              "\n",
              "  .colab-df-quickchart:hover {\n",
              "    background-color: var(--hover-bg-color);\n",
              "    box-shadow: 0 1px 2px rgba(60, 64, 67, 0.3), 0 1px 3px 1px rgba(60, 64, 67, 0.15);\n",
              "    fill: var(--button-hover-fill-color);\n",
              "  }\n",
              "\n",
              "  .colab-df-quickchart-complete:disabled,\n",
              "  .colab-df-quickchart-complete:disabled:hover {\n",
              "    background-color: var(--disabled-bg-color);\n",
              "    fill: var(--disabled-fill-color);\n",
              "    box-shadow: none;\n",
              "  }\n",
              "\n",
              "  .colab-df-spinner {\n",
              "    border: 2px solid var(--fill-color);\n",
              "    border-color: transparent;\n",
              "    border-bottom-color: var(--fill-color);\n",
              "    animation:\n",
              "      spin 1s steps(1) infinite;\n",
              "  }\n",
              "\n",
              "  @keyframes spin {\n",
              "    0% {\n",
              "      border-color: transparent;\n",
              "      border-bottom-color: var(--fill-color);\n",
              "      border-left-color: var(--fill-color);\n",
              "    }\n",
              "    20% {\n",
              "      border-color: transparent;\n",
              "      border-left-color: var(--fill-color);\n",
              "      border-top-color: var(--fill-color);\n",
              "    }\n",
              "    30% {\n",
              "      border-color: transparent;\n",
              "      border-left-color: var(--fill-color);\n",
              "      border-top-color: var(--fill-color);\n",
              "      border-right-color: var(--fill-color);\n",
              "    }\n",
              "    40% {\n",
              "      border-color: transparent;\n",
              "      border-right-color: var(--fill-color);\n",
              "      border-top-color: var(--fill-color);\n",
              "    }\n",
              "    60% {\n",
              "      border-color: transparent;\n",
              "      border-right-color: var(--fill-color);\n",
              "    }\n",
              "    80% {\n",
              "      border-color: transparent;\n",
              "      border-right-color: var(--fill-color);\n",
              "      border-bottom-color: var(--fill-color);\n",
              "    }\n",
              "    90% {\n",
              "      border-color: transparent;\n",
              "      border-bottom-color: var(--fill-color);\n",
              "    }\n",
              "  }\n",
              "</style>\n",
              "\n",
              "  <script>\n",
              "    async function quickchart(key) {\n",
              "      const quickchartButtonEl =\n",
              "        document.querySelector('#' + key + ' button');\n",
              "      quickchartButtonEl.disabled = true;  // To prevent multiple clicks.\n",
              "      quickchartButtonEl.classList.add('colab-df-spinner');\n",
              "      try {\n",
              "        const charts = await google.colab.kernel.invokeFunction(\n",
              "            'suggestCharts', [key], {});\n",
              "      } catch (error) {\n",
              "        console.error('Error during call to suggestCharts:', error);\n",
              "      }\n",
              "      quickchartButtonEl.classList.remove('colab-df-spinner');\n",
              "      quickchartButtonEl.classList.add('colab-df-quickchart-complete');\n",
              "    }\n",
              "    (() => {\n",
              "      let quickchartButtonEl =\n",
              "        document.querySelector('#df-0a5250a1-160f-48ac-9747-99ae9d92694e button');\n",
              "      quickchartButtonEl.style.display =\n",
              "        google.colab.kernel.accessAllowed ? 'block' : 'none';\n",
              "    })();\n",
              "  </script>\n",
              "</div>\n",
              "    </div>\n",
              "  </div>\n"
            ],
            "application/vnd.google.colaboratory.intrinsic+json": {
              "type": "dataframe",
              "variable_name": "df",
              "summary": "{\n  \"name\": \"df\",\n  \"rows\": 1050,\n  \"fields\": [\n    {\n      \"column\": \"summary\",\n      \"properties\": {\n        \"dtype\": \"string\",\n        \"num_unique_values\": 1042,\n        \"samples\": [\n          \"Architects \\u2014 (\\u0432 \\u043f\\u0435\\u0440\\u0435\\u0432\\u043e\\u0434\\u0435 \\u0441 \\u0430\\u043d\\u0433\\u043b.\\u2009\\u2014\\u2009\\u00ab\\u0410\\u0440\\u0445\\u0438\\u0442\\u0435\\u043a\\u0442\\u043e\\u0440\\u044b\\u00bb) \\u0431\\u0440\\u0438\\u0442\\u0430\\u043d\\u0441\\u043a\\u0430\\u044f  \\u043c\\u0435\\u0442\\u0430\\u043b\\u043a\\u043e\\u0440-\\u0433\\u0440\\u0443\\u043f\\u043f\\u0430. \\u0411\\u044b\\u043b\\u0430 \\u0441\\u0444\\u043e\\u0440\\u043c\\u0438\\u0440\\u043e\\u0432\\u0430\\u043d\\u0430 \\u0432 2004 \\u0433\\u043e\\u0434\\u0443 \\u0432 \\u0411\\u0440\\u0430\\u0439\\u0442\\u043e\\u043d\\u0435, \\u0412\\u0435\\u043b\\u0438\\u043a\\u043e\\u0431\\u0440\\u0438\\u0442\\u0430\\u043d\\u0438\\u044f. \\u0417\\u0430 \\u0432\\u0440\\u0435\\u043c\\u044f \\u0441\\u0432\\u043e\\u0435\\u0433\\u043e \\u0441\\u0443\\u0449\\u0435\\u0441\\u0442\\u0432\\u043e\\u0432\\u0430\\u043d\\u0438\\u044f \\u043a\\u043e\\u043b\\u043b\\u0435\\u043a\\u0442\\u0438\\u0432 \\u043d\\u0435\\u0441\\u043a\\u043e\\u043b\\u044c\\u043a\\u043e \\u0440\\u0430\\u0437 \\u0438\\u0437\\u043c\\u0435\\u043d\\u044f\\u043b \\u0441\\u0432\\u043e\\u0451 \\u043d\\u0430\\u0437\\u0432\\u0430\\u043d\\u0438\\u0435 \\u2014 InHarmonic, \\u0437\\u0430\\u0442\\u0435\\u043c Counting the Days. \\u041d\\u0435\\u0441\\u043a\\u043e\\u043b\\u044c\\u043a\\u043e \\u043b\\u0435\\u0442 \\u0442\\u0430\\u043a \\u043e\\u043d\\u0438 \\u0438 \\u0438\\u043c\\u0435\\u043d\\u043e\\u0432\\u0430\\u043b\\u0438\\u0441\\u044c, \\u0430 \\u0437\\u0430\\u0442\\u0435\\u043c \\u0438\\u0437\\u043c\\u0435\\u043d\\u0438\\u043b\\u0438 \\u043d\\u0430\\u0437\\u0432\\u0430\\u043d\\u0438\\u0435 \\u043d\\u0430 \\u043d\\u044b\\u043d\\u0435\\u0448\\u043d\\u0435\\u0435. \\u0413\\u0440\\u0443\\u043f\\u043f\\u0430 \\u0438\\u0437\\u0432\\u0435\\u0441\\u0442\\u043d\\u0430 \\u0441\\u0432\\u043e\\u0438\\u043c \\u0430\\u0433\\u0440\\u0435\\u0441\\u0441\\u0438\\u0432\\u043d\\u044b\\u043c \\u0438 \\u044d\\u043c\\u043e\\u0446\\u0438\\u043e\\u043d\\u0430\\u043b\\u044c\\u043d\\u044b\\u043c \\u0432\\u043e\\u043a\\u0430\\u043b\\u043e\\u043c, \\u043f\\u0435\\u0440\\u0435\\u043f\\u043b\\u0435\\u0442\\u0430\\u044e\\u0449\\u0438\\u043c\\u0441\\u044f \\u0441 \\u0434\\u0438\\u043d\\u0430\\u043c\\u0438\\u0447\\u043d\\u044b\\u043c\\u0438 \\u0433\\u0438\\u0442\\u0430\\u0440\\u043d\\u044b\\u043c\\u0438 \\u043f\\u0430\\u0440\\u0442\\u0438\\u044f\\u043c\\u0438. \\u0417\\u0430 \\u043a\\u0430\\u0440\\u044c\\u0435\\u0440\\u0443 \\u0432\\u044b\\u043f\\u0443\\u0449\\u0435\\u043d\\u043e 7 \\u043f\\u043e\\u043b\\u043d\\u043e\\u0444\\u043e\\u0440\\u043c\\u0430\\u0442\\u043d\\u044b\\u0445 \\u0438 \\u043e\\u0434\\u0438\\u043d \\u043c\\u0438\\u043d\\u0438-\\u0430\\u043b\\u044c\\u0431\\u043e\\u043c.\",\n          \"\\u041a\\u043b\\u0430\\u0434\\u0431\\u0438\\u0449\\u0435 \\u041a\\u0443\\u043b\\u043e\\u0441\\u0430\\u0430\\u0440\\u0438 (\\u0444\\u0438\\u043d. Kulosaaren hautausmaa) \\u2014 \\u043d\\u0435\\u0431\\u043e\\u043b\\u044c\\u0448\\u043e\\u0435 \\u043a\\u043b\\u0430\\u0434\\u0431\\u0438\\u0449\\u0435 \\u0432 \\u0441\\u0442\\u043e\\u043b\\u0438\\u0446\\u0435 \\u0424\\u0438\\u043d\\u043b\\u044f\\u043d\\u0434\\u0438\\u0438 \\u0433\\u043e\\u0440\\u043e\\u0434\\u0435 \\u0425\\u0435\\u043b\\u044c\\u0441\\u0438\\u043d\\u043a\\u0438. \\u041e\\u0442\\u043a\\u0440\\u044b\\u0442\\u043e \\u0432 1925 \\u0433\\u043e\\u0434\\u0443. \\u041a\\u043b\\u0430\\u0434\\u0431\\u0438\\u0449\\u0435 \\u041a\\u0443\\u043b\\u043e\\u0441\\u0430\\u0430\\u0440\\u0438 \\u0437\\u0430\\u043d\\u0438\\u043c\\u0430\\u0435\\u0442 \\u043f\\u043b\\u043e\\u0449\\u0430\\u0434\\u044c \\u043e\\u043a\\u043e\\u043b\\u043e \\u0434\\u0432\\u0443\\u0445 \\u0433\\u0435\\u043a\\u0442\\u0430\\u0440\\u043e\\u0432. \\u0420\\u0430\\u0441\\u043f\\u043e\\u043b\\u043e\\u0436\\u0435\\u043d\\u043e \\u043d\\u0430 \\u043e\\u0441\\u0442\\u0440\\u043e\\u0432\\u0435 \\u041b\\u0435\\u043f\\u043e\\u0441\\u0430\\u0430\\u0440\\u0438 \\u0432 \\u0440\\u0430\\u0439\\u043e\\u043d\\u0435 \\u041a\\u0443\\u043b\\u043e\\u0441\\u0430\\u0430\\u0440\\u0438. \\u0412 1927 \\u0433\\u043e\\u0434\\u0443 \\u0431\\u044b\\u043b\\u0430 \\u0441\\u043e\\u043e\\u0440\\u0443\\u0436\\u0435\\u043d\\u0430 \\u0447\\u0430\\u0441\\u043e\\u0432\\u043d\\u044f \\u043f\\u043e \\u043f\\u0440\\u043e\\u0435\\u043a\\u0442\\u0443 \\u0430\\u0440\\u0445\\u0438\\u0442\\u0435\\u043a\\u0442\\u043e\\u0440\\u0430 \\u0410\\u0440\\u043c\\u0430\\u0441\\u0430 \\u041b\\u0438\\u043d\\u0434\\u0433\\u0440\\u0435\\u043d\\u0430. \\u041d\\u044b\\u043d\\u0435 \\u0437\\u0434\\u0435\\u0441\\u044c \\u043f\\u043e\\u0445\\u043e\\u0440\\u043e\\u043d\\u0435\\u043d\\u044b \\u043e\\u043a\\u043e\\u043b\\u043e 1730 \\u0447\\u0435\\u043b\\u043e\\u0432\\u0435\\u043a. \\u041d\\u0430 \\u043a\\u043b\\u0430\\u0434\\u0431\\u0438\\u0449\\u0435 \\u0435\\u0441\\u0442\\u044c \\u0443\\u0447\\u0430\\u0441\\u0442\\u043e\\u043a \\u0432\\u043e\\u0438\\u043d\\u043e\\u0432, \\u043f\\u043e\\u0433\\u0438\\u0431\\u0448\\u0438\\u0445 \\u0432\\u043e \\u0432\\u0440\\u0435\\u043c\\u044f \\u0417\\u0438\\u043c\\u043d\\u0435\\u0439 \\u0432\\u043e\\u0439\\u043d\\u044b \\u0438 \\u0412\\u0442\\u043e\\u0440\\u043e\\u0439 \\u043c\\u0438\\u0440\\u043e\\u0432\\u043e\\u0439 \\u0432\\u043e\\u0439\\u043d\\u044b.\",\n          \"Citro\\u00ebn Xsara \\u2014 \\u043d\\u0435\\u0431\\u043e\\u043b\\u044c\\u0448\\u043e\\u0439 \\u0441\\u0435\\u043c\\u0435\\u0439\\u043d\\u044b\\u0439 \\u0430\\u0432\\u0442\\u043e\\u043c\\u043e\\u0431\\u0438\\u043b\\u044c \\u0444\\u0440\\u0430\\u043d\\u0446\\u0443\\u0437\\u0441\\u043a\\u043e\\u0439 \\u043a\\u043e\\u043c\\u043f\\u0430\\u043d\\u0438\\u0438 Citro\\u00ebn, \\u043f\\u0440\\u043e\\u0438\\u0437\\u0432\\u043e\\u0434\\u0438\\u0432\\u0448\\u0438\\u0439\\u0441\\u044f \\u0441 1997 \\u043f\\u043e 2006 \\u0433\\u043e\\u0434. \\u041e\\u043d \\u0432\\u044b\\u043f\\u0443\\u0441\\u043a\\u0430\\u043b\\u0441\\u044f \\u043a\\u0430\\u043a \\u0442\\u0440\\u0451\\u0445- \\u0438 \\u043f\\u044f\\u0442\\u0438\\u0434\\u0432\\u0435\\u0440\\u043d\\u044b\\u0439 \\u0445\\u0435\\u0442\\u0447\\u0431\\u044d\\u043a \\u0438 \\u043f\\u044f\\u0442\\u0438\\u0434\\u0432\\u0435\\u0440\\u043d\\u044b\\u0439 \\u0443\\u043d\\u0438\\u0432\\u0435\\u0440\\u0441\\u0430\\u043b, \\u0441 1,4, 1,6, 1,8 \\u0438 2,0-\\u043b\\u0438\\u0442\\u0440\\u043e\\u0432\\u044b\\u043c\\u0438 \\u0431\\u0435\\u043d\\u0437\\u0438\\u043d\\u043e\\u0432\\u044b\\u043c\\u0438 \\u0434\\u0432\\u0438\\u0433\\u0430\\u0442\\u0435\\u043b\\u044f\\u043c\\u0438, \\u0430 \\u0442\\u0430\\u043a\\u0436\\u0435 \\u0441 1,6, 1,9 \\u0438 2,0-\\u043b\\u0438\\u0442\\u0440\\u043e\\u0432\\u044b\\u043c\\u0438 \\u0442\\u0443\\u0440\\u0431\\u043e\\u0434\\u0438\\u0437\\u0435\\u043b\\u044f\\u043c\\u0438.\"\n        ],\n        \"semantic_type\": \"\",\n        \"description\": \"\"\n      }\n    },\n    {\n      \"column\": \"question\",\n      \"properties\": {\n        \"dtype\": \"string\",\n        \"num_unique_values\": 1018,\n        \"samples\": [\n          \"\\u0412 \\u043a\\u0430\\u043a\\u043e\\u043c \\u0433\\u043e\\u0434\\u0443 \\u043f\\u0440\\u0438\\u0441\\u0432\\u043e\\u0435\\u043d\\u043e \\u0437\\u0432\\u0430\\u043d\\u0438\\u0435 \\u0413\\u0435\\u0440\\u043e\\u044f \\u0420\\u043e\\u0441\\u0441\\u0438\\u0439\\u0441\\u043a\\u043e\\u0439 \\u0424\\u0435\\u0434\\u0435\\u0440\\u0430\\u0446\\u0438\\u0438?\",\n          \"\\u0414\\u043b\\u044f \\u043a\\u0430\\u043a\\u0438\\u0445 \\u043a\\u043b\\u0443\\u0431\\u043e\\u0432 \\u043e\\u0440\\u0433\\u0430\\u043d\\u0438\\u0437\\u043e\\u0432\\u0430\\u043d \\u041a\\u0443\\u0431\\u043e\\u043a \\u0424\\u0410?\",\n          \"\\u041a\\u0430\\u043a\\u043e\\u0439 \\u0432\\u044b\\u0441\\u043e\\u0442\\u044b \\u043c\\u043e\\u0433\\u0443\\u0442 \\u0434\\u043e\\u0441\\u0442\\u0438\\u0433\\u0430\\u0442\\u044c \\u0440\\u0430\\u0441\\u0442\\u0435\\u043d\\u0438\\u044f \\u0432 \\u0435\\u0441\\u0442\\u0435\\u0441\\u0442\\u0432\\u0435\\u043d\\u043d\\u043e\\u0439 \\u0441\\u0440\\u0435\\u0434\\u0435?\"\n        ],\n        \"semantic_type\": \"\",\n        \"description\": \"\"\n      }\n    },\n    {\n      \"column\": \"answer\",\n      \"properties\": {\n        \"dtype\": \"string\",\n        \"num_unique_values\": 986,\n        \"samples\": [\n          \"\\u042f\\u0437\\u044b\\u043a \\u0441\\u0442\\u0440\\u0430\\u043d\\u044b \\u2014 \\u0413\\u0430\\u043d\\u0430.\",\n          \"\\u0441\\u043e\\u0436\\u0436\\u0435\\u043d\\u0438\\u0435\",\n          \"\\u041a\\u0430\\u043b\\u0433\\u0430\\u043d.\"\n        ],\n        \"semantic_type\": \"\",\n        \"description\": \"\"\n      }\n    },\n    {\n      \"column\": \"is_hallucination\",\n      \"properties\": {\n        \"dtype\": \"number\",\n        \"std\": 0,\n        \"min\": 0,\n        \"max\": 1,\n        \"num_unique_values\": 2,\n        \"samples\": [\n          0,\n          1\n        ],\n        \"semantic_type\": \"\",\n        \"description\": \"\"\n      }\n    }\n  ]\n}"
            }
          },
          "metadata": {},
          "execution_count": 23
        }
      ]
    },
    {
      "cell_type": "code",
      "source": [
        "from catboost import CatBoostClassifier, Pool, MetricVisualizer\n",
        "def fit_model(train_pool, test_pool, **kwargs):\n",
        "    model = CatBoostClassifier(\n",
        "        task_type='GPU',\n",
        "        iterations=1000,\n",
        "        depth=6,\n",
        "        eval_metric='Accuracy',\n",
        "        od_type='Iter',\n",
        "        od_wait=500,\n",
        "        **kwargs\n",
        "    )\n",
        "    return model.fit(\n",
        "        train_pool,\n",
        "        eval_set=test_pool,\n",
        "        verbose=100,\n",
        "        plot=True,\n",
        "        plot_file=f\"{content_dir}/fit_plot\",\n",
        "\n",
        "        use_best_model=True)"
      ],
      "metadata": {
        "id": "FWnaziqOBjt4"
      },
      "execution_count": null,
      "outputs": []
    },
    {
      "cell_type": "code",
      "source": [
        "train_pool = Pool(\n",
        "    data=X_train,\n",
        "    label=y_train,\n",
        "    text_features=text_features\n",
        ")\n",
        "\n",
        "valid_pool = Pool(\n",
        "    data=X_valid,\n",
        "    label=y_valid,\n",
        "    text_features=text_features\n",
        ")\n",
        "\n",
        "test_pool = Pool(\n",
        "    data=df[[c for c in df.columns if c!=column_name]][text_features],\n",
        "    label=df[column_name],\n",
        "    text_features=text_features\n",
        ")\n"
      ],
      "metadata": {
        "id": "2xGOJuWkB1J5"
      },
      "execution_count": null,
      "outputs": []
    },
    {
      "cell_type": "code",
      "source": [
        "model = fit_model(\n",
        "    train_pool, valid_pool,\n",
        "    learning_rate=0.35,\n",
        "    tokenizers=[\n",
        "        {\n",
        "            'tokenizer_id': 'Sense',\n",
        "            'separator_type': 'BySense',\n",
        "            'lowercasing': 'True',\n",
        "            'token_types':['Word', 'Number', 'SentenceBreak'],\n",
        "            'sub_tokens_policy':'SeveralTokens'\n",
        "        }\n",
        "    ],\n",
        "    dictionaries = [\n",
        "        {\n",
        "            'dictionary_id': 'Word',\n",
        "            'max_dictionary_size': '50000'\n",
        "        }\n",
        "    ],\n",
        "    feature_calcers = [\n",
        "        'BoW:top_tokens_count=10000'\n",
        "    ]\n",
        ")\n"
      ],
      "metadata": {
        "colab": {
          "base_uri": "https://localhost:8080/",
          "height": 512,
          "referenced_widgets": [
            "b563ddae9f1b4f5094bb8b59e9c5b4ab"
          ]
        },
        "id": "XaJFI3o8CBFB",
        "outputId": "2ab2d30b-9b35-44ba-d1f6-b1de03dbfcc9"
      },
      "execution_count": null,
      "outputs": [
        {
          "output_type": "display_data",
          "data": {
            "text/plain": [
              "MetricVisualizer(layout=Layout(align_self='stretch', height='500px'))"
            ],
            "application/vnd.jupyter.widget-view+json": {
              "version_major": 2,
              "version_minor": 0,
              "model_id": "b563ddae9f1b4f5094bb8b59e9c5b4ab"
            }
          },
          "metadata": {}
        },
        {
          "output_type": "stream",
          "name": "stdout",
          "text": [
            "0:\tlearn: 0.6340136\ttest: 0.6539683\tbest: 0.6539683 (0)\ttotal: 53.9ms\tremaining: 53.8s\n",
            "100:\tlearn: 0.9768707\ttest: 0.5682540\tbest: 0.6539683 (0)\ttotal: 2.78s\tremaining: 24.7s\n",
            "200:\tlearn: 0.9986395\ttest: 0.6031746\tbest: 0.6539683 (0)\ttotal: 5.35s\tremaining: 21.3s\n",
            "300:\tlearn: 1.0000000\ttest: 0.5968254\tbest: 0.6539683 (0)\ttotal: 7.93s\tremaining: 18.4s\n",
            "400:\tlearn: 1.0000000\ttest: 0.6126984\tbest: 0.6539683 (0)\ttotal: 12.2s\tremaining: 18.2s\n",
            "500:\tlearn: 1.0000000\ttest: 0.6063492\tbest: 0.6539683 (0)\ttotal: 15.2s\tremaining: 15.1s\n",
            "bestTest = 0.653968254\n",
            "bestIteration = 0\n",
            "Shrink model to first 1 iterations.\n"
          ]
        },
        {
          "output_type": "error",
          "ename": "KeyboardInterrupt",
          "evalue": "",
          "traceback": [
            "\u001b[0;31m---------------------------------------------------------------------------\u001b[0m",
            "\u001b[0;31mKeyboardInterrupt\u001b[0m                         Traceback (most recent call last)",
            "\u001b[0;32m<ipython-input-33-dfdf74b70d2b>\u001b[0m in \u001b[0;36m<cell line: 1>\u001b[0;34m()\u001b[0m\n\u001b[0;32m----> 1\u001b[0;31m model = fit_model(\n\u001b[0m\u001b[1;32m      2\u001b[0m     \u001b[0mtrain_pool\u001b[0m\u001b[0;34m,\u001b[0m \u001b[0mvalid_pool\u001b[0m\u001b[0;34m,\u001b[0m\u001b[0;34m\u001b[0m\u001b[0;34m\u001b[0m\u001b[0m\n\u001b[1;32m      3\u001b[0m     \u001b[0mlearning_rate\u001b[0m\u001b[0;34m=\u001b[0m\u001b[0;36m0.35\u001b[0m\u001b[0;34m,\u001b[0m\u001b[0;34m\u001b[0m\u001b[0;34m\u001b[0m\u001b[0m\n\u001b[1;32m      4\u001b[0m \u001b[0;34m\u001b[0m\u001b[0m\n\u001b[1;32m      5\u001b[0m )\n",
            "\u001b[0;32m<ipython-input-31-14d834fcb338>\u001b[0m in \u001b[0;36mfit_model\u001b[0;34m(train_pool, test_pool, **kwargs)\u001b[0m\n\u001b[1;32m     10\u001b[0m         \u001b[0;34m**\u001b[0m\u001b[0mkwargs\u001b[0m\u001b[0;34m\u001b[0m\u001b[0;34m\u001b[0m\u001b[0m\n\u001b[1;32m     11\u001b[0m     )\n\u001b[0;32m---> 12\u001b[0;31m     return model.fit(\n\u001b[0m\u001b[1;32m     13\u001b[0m         \u001b[0mtrain_pool\u001b[0m\u001b[0;34m,\u001b[0m\u001b[0;34m\u001b[0m\u001b[0;34m\u001b[0m\u001b[0m\n\u001b[1;32m     14\u001b[0m         \u001b[0meval_set\u001b[0m\u001b[0;34m=\u001b[0m\u001b[0mtest_pool\u001b[0m\u001b[0;34m,\u001b[0m\u001b[0;34m\u001b[0m\u001b[0;34m\u001b[0m\u001b[0m\n",
            "\u001b[0;32m/usr/local/lib/python3.10/dist-packages/catboost/core.py\u001b[0m in \u001b[0;36mfit\u001b[0;34m(self, X, y, cat_features, text_features, embedding_features, sample_weight, baseline, use_best_model, eval_set, verbose, logging_level, plot, plot_file, column_description, verbose_eval, metric_period, silent, early_stopping_rounds, save_snapshot, snapshot_file, snapshot_interval, init_model, callbacks, log_cout, log_cerr)\u001b[0m\n\u001b[1;32m   5218\u001b[0m             \u001b[0mCatBoostClassifier\u001b[0m\u001b[0;34m.\u001b[0m\u001b[0m_check_is_compatible_loss\u001b[0m\u001b[0;34m(\u001b[0m\u001b[0mparams\u001b[0m\u001b[0;34m[\u001b[0m\u001b[0;34m'loss_function'\u001b[0m\u001b[0;34m]\u001b[0m\u001b[0;34m)\u001b[0m\u001b[0;34m\u001b[0m\u001b[0;34m\u001b[0m\u001b[0m\n\u001b[1;32m   5219\u001b[0m \u001b[0;34m\u001b[0m\u001b[0m\n\u001b[0;32m-> 5220\u001b[0;31m         self._fit(X, y, cat_features, text_features, embedding_features, None, sample_weight, None, None, None, None, baseline, use_best_model,\n\u001b[0m\u001b[1;32m   5221\u001b[0m                   \u001b[0meval_set\u001b[0m\u001b[0;34m,\u001b[0m \u001b[0mverbose\u001b[0m\u001b[0;34m,\u001b[0m \u001b[0mlogging_level\u001b[0m\u001b[0;34m,\u001b[0m \u001b[0mplot\u001b[0m\u001b[0;34m,\u001b[0m \u001b[0mplot_file\u001b[0m\u001b[0;34m,\u001b[0m \u001b[0mcolumn_description\u001b[0m\u001b[0;34m,\u001b[0m \u001b[0mverbose_eval\u001b[0m\u001b[0;34m,\u001b[0m \u001b[0mmetric_period\u001b[0m\u001b[0;34m,\u001b[0m\u001b[0;34m\u001b[0m\u001b[0;34m\u001b[0m\u001b[0m\n\u001b[1;32m   5222\u001b[0m                   silent, early_stopping_rounds, save_snapshot, snapshot_file, snapshot_interval, init_model, callbacks, log_cout, log_cerr)\n",
            "\u001b[0;32m/usr/local/lib/python3.10/dist-packages/catboost/core.py\u001b[0m in \u001b[0;36m_fit\u001b[0;34m(self, X, y, cat_features, text_features, embedding_features, pairs, sample_weight, group_id, group_weight, subgroup_id, pairs_weight, baseline, use_best_model, eval_set, verbose, logging_level, plot, plot_file, column_description, verbose_eval, metric_period, silent, early_stopping_rounds, save_snapshot, snapshot_file, snapshot_interval, init_model, callbacks, log_cout, log_cerr)\u001b[0m\n\u001b[1;32m   2397\u001b[0m             \u001b[0mallow_clear_pool\u001b[0m \u001b[0;34m=\u001b[0m \u001b[0mtrain_params\u001b[0m\u001b[0;34m[\u001b[0m\u001b[0;34m\"allow_clear_pool\"\u001b[0m\u001b[0;34m]\u001b[0m\u001b[0;34m\u001b[0m\u001b[0;34m\u001b[0m\u001b[0m\n\u001b[1;32m   2398\u001b[0m \u001b[0;34m\u001b[0m\u001b[0m\n\u001b[0;32m-> 2399\u001b[0;31m             \u001b[0;32mwith\u001b[0m \u001b[0mplot_wrapper\u001b[0m\u001b[0;34m(\u001b[0m\u001b[0mplot\u001b[0m\u001b[0;34m,\u001b[0m \u001b[0mplot_file\u001b[0m\u001b[0;34m,\u001b[0m \u001b[0;34m'Training plots'\u001b[0m\u001b[0;34m,\u001b[0m \u001b[0;34m[\u001b[0m\u001b[0m_get_train_dir\u001b[0m\u001b[0;34m(\u001b[0m\u001b[0mself\u001b[0m\u001b[0;34m.\u001b[0m\u001b[0mget_params\u001b[0m\u001b[0;34m(\u001b[0m\u001b[0;34m)\u001b[0m\u001b[0;34m)\u001b[0m\u001b[0;34m]\u001b[0m\u001b[0;34m)\u001b[0m\u001b[0;34m:\u001b[0m\u001b[0;34m\u001b[0m\u001b[0;34m\u001b[0m\u001b[0m\n\u001b[0m\u001b[1;32m   2400\u001b[0m                 self._train(\n\u001b[1;32m   2401\u001b[0m                     \u001b[0mtrain_pool\u001b[0m\u001b[0;34m,\u001b[0m\u001b[0;34m\u001b[0m\u001b[0;34m\u001b[0m\u001b[0m\n",
            "\u001b[0;32m/usr/lib/python3.10/contextlib.py\u001b[0m in \u001b[0;36m__exit__\u001b[0;34m(self, typ, value, traceback)\u001b[0m\n\u001b[1;32m    140\u001b[0m         \u001b[0;32mif\u001b[0m \u001b[0mtyp\u001b[0m \u001b[0;32mis\u001b[0m \u001b[0;32mNone\u001b[0m\u001b[0;34m:\u001b[0m\u001b[0;34m\u001b[0m\u001b[0;34m\u001b[0m\u001b[0m\n\u001b[1;32m    141\u001b[0m             \u001b[0;32mtry\u001b[0m\u001b[0;34m:\u001b[0m\u001b[0;34m\u001b[0m\u001b[0;34m\u001b[0m\u001b[0m\n\u001b[0;32m--> 142\u001b[0;31m                 \u001b[0mnext\u001b[0m\u001b[0;34m(\u001b[0m\u001b[0mself\u001b[0m\u001b[0;34m.\u001b[0m\u001b[0mgen\u001b[0m\u001b[0;34m)\u001b[0m\u001b[0;34m\u001b[0m\u001b[0;34m\u001b[0m\u001b[0m\n\u001b[0m\u001b[1;32m    143\u001b[0m             \u001b[0;32mexcept\u001b[0m \u001b[0mStopIteration\u001b[0m\u001b[0;34m:\u001b[0m\u001b[0;34m\u001b[0m\u001b[0;34m\u001b[0m\u001b[0m\n\u001b[1;32m    144\u001b[0m                 \u001b[0;32mreturn\u001b[0m \u001b[0;32mFalse\u001b[0m\u001b[0;34m\u001b[0m\u001b[0;34m\u001b[0m\u001b[0m\n",
            "\u001b[0;32m/usr/local/lib/python3.10/dist-packages/catboost/core.py\u001b[0m in \u001b[0;36mplot_wrapper\u001b[0;34m(plot, plot_file, plot_title, train_dirs)\u001b[0m\n\u001b[1;32m   1539\u001b[0m             \u001b[0mwidget\u001b[0m\u001b[0;34m.\u001b[0m\u001b[0m_stop_update\u001b[0m\u001b[0;34m(\u001b[0m\u001b[0;34m)\u001b[0m\u001b[0;34m\u001b[0m\u001b[0;34m\u001b[0m\u001b[0m\n\u001b[1;32m   1540\u001b[0m     \u001b[0;32mif\u001b[0m \u001b[0mplot_file\u001b[0m \u001b[0;32mis\u001b[0m \u001b[0;32mnot\u001b[0m \u001b[0;32mNone\u001b[0m\u001b[0;34m:\u001b[0m\u001b[0;34m\u001b[0m\u001b[0;34m\u001b[0m\u001b[0m\n\u001b[0;32m-> 1541\u001b[0;31m         \u001b[0mOfflineMetricVisualizer\u001b[0m\u001b[0;34m(\u001b[0m\u001b[0mtrain_dirs\u001b[0m\u001b[0;34m)\u001b[0m\u001b[0;34m.\u001b[0m\u001b[0msave_to_file\u001b[0m\u001b[0;34m(\u001b[0m\u001b[0mplot_title\u001b[0m\u001b[0;34m,\u001b[0m \u001b[0mplot_file\u001b[0m\u001b[0;34m)\u001b[0m\u001b[0;34m\u001b[0m\u001b[0;34m\u001b[0m\u001b[0m\n\u001b[0m\u001b[1;32m   1542\u001b[0m \u001b[0;34m\u001b[0m\u001b[0m\n\u001b[1;32m   1543\u001b[0m \u001b[0;34m\u001b[0m\u001b[0m\n",
            "\u001b[0;32m/usr/local/lib/python3.10/dist-packages/catboost/plot_helpers.py\u001b[0m in \u001b[0;36msave_to_file\u001b[0;34m(self, title, file_output)\u001b[0m\n\u001b[1;32m    182\u001b[0m \u001b[0;34m\u001b[0m\u001b[0m\n\u001b[1;32m    183\u001b[0m     \u001b[0;32mdef\u001b[0m \u001b[0msave_to_file\u001b[0m\u001b[0;34m(\u001b[0m\u001b[0mself\u001b[0m\u001b[0;34m,\u001b[0m \u001b[0mtitle\u001b[0m\u001b[0;34m,\u001b[0m \u001b[0mfile_output\u001b[0m\u001b[0;34m)\u001b[0m\u001b[0;34m:\u001b[0m\u001b[0;34m\u001b[0m\u001b[0;34m\u001b[0m\u001b[0m\n\u001b[0;32m--> 184\u001b[0;31m         \u001b[0msave_plot_file\u001b[0m\u001b[0;34m(\u001b[0m\u001b[0mfile_output\u001b[0m\u001b[0;34m,\u001b[0m \u001b[0mtitle\u001b[0m\u001b[0;34m,\u001b[0m \u001b[0mself\u001b[0m\u001b[0;34m.\u001b[0m\u001b[0m_get_plotly_figs\u001b[0m\u001b[0;34m(\u001b[0m\u001b[0mtitle\u001b[0m\u001b[0;34m)\u001b[0m\u001b[0;34m)\u001b[0m\u001b[0;34m\u001b[0m\u001b[0;34m\u001b[0m\u001b[0m\n\u001b[0m",
            "\u001b[0;32m/usr/local/lib/python3.10/dist-packages/catboost/plot_helpers.py\u001b[0m in \u001b[0;36msave_plot_file\u001b[0;34m(plot_file, plot_name, figs)\u001b[0m\n\u001b[1;32m     52\u001b[0m     \u001b[0;32mif\u001b[0m \u001b[0misinstance\u001b[0m\u001b[0;34m(\u001b[0m\u001b[0mplot_file\u001b[0m\u001b[0;34m,\u001b[0m \u001b[0mstr\u001b[0m\u001b[0;34m)\u001b[0m\u001b[0;34m:\u001b[0m\u001b[0;34m\u001b[0m\u001b[0;34m\u001b[0m\u001b[0m\n\u001b[1;32m     53\u001b[0m         \u001b[0;32mwith\u001b[0m \u001b[0mopen\u001b[0m\u001b[0;34m(\u001b[0m\u001b[0mfspath\u001b[0m\u001b[0;34m(\u001b[0m\u001b[0mplot_file\u001b[0m\u001b[0;34m)\u001b[0m\u001b[0;34m,\u001b[0m \u001b[0;34m'w'\u001b[0m\u001b[0;34m)\u001b[0m \u001b[0;32mas\u001b[0m \u001b[0mplot_file_stream\u001b[0m\u001b[0;34m:\u001b[0m\u001b[0;34m\u001b[0m\u001b[0;34m\u001b[0m\u001b[0m\n\u001b[0;32m---> 54\u001b[0;31m             \u001b[0mwrite_plot_file\u001b[0m\u001b[0;34m(\u001b[0m\u001b[0mplot_file_stream\u001b[0m\u001b[0;34m)\u001b[0m\u001b[0;34m\u001b[0m\u001b[0;34m\u001b[0m\u001b[0m\n\u001b[0m\u001b[1;32m     55\u001b[0m     \u001b[0;32melse\u001b[0m\u001b[0;34m:\u001b[0m\u001b[0;34m\u001b[0m\u001b[0;34m\u001b[0m\u001b[0m\n\u001b[1;32m     56\u001b[0m         \u001b[0mwrite_plot_file\u001b[0m\u001b[0;34m(\u001b[0m\u001b[0mplot_file\u001b[0m\u001b[0;34m)\u001b[0m\u001b[0;34m\u001b[0m\u001b[0;34m\u001b[0m\u001b[0m\n",
            "\u001b[0;32m/usr/local/lib/python3.10/dist-packages/catboost/plot_helpers.py\u001b[0m in \u001b[0;36mwrite_plot_file\u001b[0;34m(plot_file_stream)\u001b[0m\n\u001b[1;32m     41\u001b[0m         )))\n\u001b[1;32m     42\u001b[0m         \u001b[0;32mfor\u001b[0m \u001b[0mfig\u001b[0m \u001b[0;32min\u001b[0m \u001b[0mfigs\u001b[0m\u001b[0;34m:\u001b[0m\u001b[0;34m\u001b[0m\u001b[0;34m\u001b[0m\u001b[0m\n\u001b[0;32m---> 43\u001b[0;31m             graph_div = plotly_plot(\n\u001b[0m\u001b[1;32m     44\u001b[0m                 \u001b[0mfig\u001b[0m\u001b[0;34m,\u001b[0m\u001b[0;34m\u001b[0m\u001b[0;34m\u001b[0m\u001b[0m\n\u001b[1;32m     45\u001b[0m                 \u001b[0moutput_type\u001b[0m\u001b[0;34m=\u001b[0m\u001b[0;34m'div'\u001b[0m\u001b[0;34m,\u001b[0m\u001b[0;34m\u001b[0m\u001b[0;34m\u001b[0m\u001b[0m\n",
            "\u001b[0;32m/usr/local/lib/python3.10/dist-packages/plotly/offline/offline.py\u001b[0m in \u001b[0;36mplot\u001b[0;34m(figure_or_data, show_link, link_text, validate, output_type, include_plotlyjs, filename, auto_open, image, image_filename, image_width, image_height, config, include_mathjax, auto_play, animation_opts)\u001b[0m\n\u001b[1;32m    599\u001b[0m         \u001b[0;32mreturn\u001b[0m \u001b[0mfilename\u001b[0m\u001b[0;34m\u001b[0m\u001b[0;34m\u001b[0m\u001b[0m\n\u001b[1;32m    600\u001b[0m     \u001b[0;32melse\u001b[0m\u001b[0;34m:\u001b[0m\u001b[0;34m\u001b[0m\u001b[0;34m\u001b[0m\u001b[0m\n\u001b[0;32m--> 601\u001b[0;31m         return pio.to_html(\n\u001b[0m\u001b[1;32m    602\u001b[0m             \u001b[0mfigure\u001b[0m\u001b[0;34m,\u001b[0m\u001b[0;34m\u001b[0m\u001b[0;34m\u001b[0m\u001b[0m\n\u001b[1;32m    603\u001b[0m             \u001b[0mconfig\u001b[0m\u001b[0;34m=\u001b[0m\u001b[0mconfig\u001b[0m\u001b[0;34m,\u001b[0m\u001b[0;34m\u001b[0m\u001b[0;34m\u001b[0m\u001b[0m\n",
            "\u001b[0;32m/usr/local/lib/python3.10/dist-packages/plotly/io/_html.py\u001b[0m in \u001b[0;36mto_html\u001b[0;34m(fig, config, auto_play, include_plotlyjs, include_mathjax, post_script, full_html, animation_opts, default_width, default_height, validate, div_id)\u001b[0m\n\u001b[1;32m    136\u001b[0m \u001b[0;34m\u001b[0m\u001b[0m\n\u001b[1;32m    137\u001b[0m     \u001b[0;31m# ## Validate figure ##\u001b[0m\u001b[0;34m\u001b[0m\u001b[0;34m\u001b[0m\u001b[0m\n\u001b[0;32m--> 138\u001b[0;31m     \u001b[0mfig_dict\u001b[0m \u001b[0;34m=\u001b[0m \u001b[0mvalidate_coerce_fig_to_dict\u001b[0m\u001b[0;34m(\u001b[0m\u001b[0mfig\u001b[0m\u001b[0;34m,\u001b[0m \u001b[0mvalidate\u001b[0m\u001b[0;34m)\u001b[0m\u001b[0;34m\u001b[0m\u001b[0;34m\u001b[0m\u001b[0m\n\u001b[0m\u001b[1;32m    139\u001b[0m \u001b[0;34m\u001b[0m\u001b[0m\n\u001b[1;32m    140\u001b[0m     \u001b[0;31m# ## Generate div id ##\u001b[0m\u001b[0;34m\u001b[0m\u001b[0;34m\u001b[0m\u001b[0m\n",
            "\u001b[0;32m/usr/local/lib/python3.10/dist-packages/plotly/io/_utils.py\u001b[0m in \u001b[0;36mvalidate_coerce_fig_to_dict\u001b[0;34m(fig, validate)\u001b[0m\n\u001b[1;32m     14\u001b[0m         \u001b[0;32mif\u001b[0m \u001b[0mvalidate\u001b[0m\u001b[0;34m:\u001b[0m\u001b[0;34m\u001b[0m\u001b[0;34m\u001b[0m\u001b[0m\n\u001b[1;32m     15\u001b[0m             \u001b[0;31m# This will raise an exception if fig is not a valid plotly figure\u001b[0m\u001b[0;34m\u001b[0m\u001b[0;34m\u001b[0m\u001b[0m\n\u001b[0;32m---> 16\u001b[0;31m             \u001b[0mfig_dict\u001b[0m \u001b[0;34m=\u001b[0m \u001b[0mplotly\u001b[0m\u001b[0;34m.\u001b[0m\u001b[0mgraph_objs\u001b[0m\u001b[0;34m.\u001b[0m\u001b[0mFigure\u001b[0m\u001b[0;34m(\u001b[0m\u001b[0mfig\u001b[0m\u001b[0;34m)\u001b[0m\u001b[0;34m.\u001b[0m\u001b[0mto_plotly_json\u001b[0m\u001b[0;34m(\u001b[0m\u001b[0;34m)\u001b[0m\u001b[0;34m\u001b[0m\u001b[0;34m\u001b[0m\u001b[0m\n\u001b[0m\u001b[1;32m     17\u001b[0m         \u001b[0;32melse\u001b[0m\u001b[0;34m:\u001b[0m\u001b[0;34m\u001b[0m\u001b[0;34m\u001b[0m\u001b[0m\n\u001b[1;32m     18\u001b[0m             \u001b[0mfig_dict\u001b[0m \u001b[0;34m=\u001b[0m \u001b[0mfig\u001b[0m\u001b[0;34m\u001b[0m\u001b[0;34m\u001b[0m\u001b[0m\n",
            "\u001b[0;32m/usr/local/lib/python3.10/dist-packages/plotly/graph_objs/_figure.py\u001b[0m in \u001b[0;36m__init__\u001b[0;34m(self, data, layout, frames, skip_invalid, **kwargs)\u001b[0m\n\u001b[1;32m    627\u001b[0m             \u001b[0;32mis\u001b[0m \u001b[0minvalid\u001b[0m \u001b[0mAND\u001b[0m \u001b[0mskip_invalid\u001b[0m \u001b[0;32mis\u001b[0m \u001b[0;32mFalse\u001b[0m\u001b[0;34m\u001b[0m\u001b[0;34m\u001b[0m\u001b[0m\n\u001b[1;32m    628\u001b[0m         \"\"\"\n\u001b[0;32m--> 629\u001b[0;31m         \u001b[0msuper\u001b[0m\u001b[0;34m(\u001b[0m\u001b[0mFigure\u001b[0m\u001b[0;34m,\u001b[0m \u001b[0mself\u001b[0m\u001b[0;34m)\u001b[0m\u001b[0;34m.\u001b[0m\u001b[0m__init__\u001b[0m\u001b[0;34m(\u001b[0m\u001b[0mdata\u001b[0m\u001b[0;34m,\u001b[0m \u001b[0mlayout\u001b[0m\u001b[0;34m,\u001b[0m \u001b[0mframes\u001b[0m\u001b[0;34m,\u001b[0m \u001b[0mskip_invalid\u001b[0m\u001b[0;34m,\u001b[0m \u001b[0;34m**\u001b[0m\u001b[0mkwargs\u001b[0m\u001b[0;34m)\u001b[0m\u001b[0;34m\u001b[0m\u001b[0;34m\u001b[0m\u001b[0m\n\u001b[0m\u001b[1;32m    630\u001b[0m \u001b[0;34m\u001b[0m\u001b[0m\n\u001b[1;32m    631\u001b[0m     \u001b[0;32mdef\u001b[0m \u001b[0mupdate\u001b[0m\u001b[0;34m(\u001b[0m\u001b[0mself\u001b[0m\u001b[0;34m,\u001b[0m \u001b[0mdict1\u001b[0m\u001b[0;34m=\u001b[0m\u001b[0;32mNone\u001b[0m\u001b[0;34m,\u001b[0m \u001b[0moverwrite\u001b[0m\u001b[0;34m=\u001b[0m\u001b[0;32mFalse\u001b[0m\u001b[0;34m,\u001b[0m \u001b[0;34m**\u001b[0m\u001b[0mkwargs\u001b[0m\u001b[0;34m)\u001b[0m \u001b[0;34m->\u001b[0m \u001b[0;34m\"Figure\"\u001b[0m\u001b[0;34m:\u001b[0m\u001b[0;34m\u001b[0m\u001b[0;34m\u001b[0m\u001b[0m\n",
            "\u001b[0;32m/usr/local/lib/python3.10/dist-packages/plotly/basedatatypes.py\u001b[0m in \u001b[0;36m__init__\u001b[0;34m(self, data, layout_plotly, frames, skip_invalid, **kwargs)\u001b[0m\n\u001b[1;32m    555\u001b[0m \u001b[0;34m\u001b[0m\u001b[0m\n\u001b[1;32m    556\u001b[0m         \u001b[0;31m# ### Import Layout ###\u001b[0m\u001b[0;34m\u001b[0m\u001b[0;34m\u001b[0m\u001b[0m\n\u001b[0;32m--> 557\u001b[0;31m         self._layout_obj = self._layout_validator.validate_coerce(\n\u001b[0m\u001b[1;32m    558\u001b[0m             \u001b[0mlayout\u001b[0m\u001b[0;34m,\u001b[0m \u001b[0mskip_invalid\u001b[0m\u001b[0;34m=\u001b[0m\u001b[0mskip_invalid\u001b[0m\u001b[0;34m,\u001b[0m \u001b[0m_validate\u001b[0m\u001b[0;34m=\u001b[0m\u001b[0mself\u001b[0m\u001b[0;34m.\u001b[0m\u001b[0m_validate\u001b[0m\u001b[0;34m\u001b[0m\u001b[0;34m\u001b[0m\u001b[0m\n\u001b[1;32m    559\u001b[0m         )\n",
            "\u001b[0;32m/usr/local/lib/python3.10/dist-packages/_plotly_utils/basevalidators.py\u001b[0m in \u001b[0;36mvalidate_coerce\u001b[0;34m(self, v, skip_invalid, _validate)\u001b[0m\n\u001b[1;32m   2473\u001b[0m \u001b[0;34m\u001b[0m\u001b[0m\n\u001b[1;32m   2474\u001b[0m         \u001b[0;32melif\u001b[0m \u001b[0misinstance\u001b[0m\u001b[0;34m(\u001b[0m\u001b[0mv\u001b[0m\u001b[0;34m,\u001b[0m \u001b[0mdict\u001b[0m\u001b[0;34m)\u001b[0m\u001b[0;34m:\u001b[0m\u001b[0;34m\u001b[0m\u001b[0;34m\u001b[0m\u001b[0m\n\u001b[0;32m-> 2475\u001b[0;31m             \u001b[0mv\u001b[0m \u001b[0;34m=\u001b[0m \u001b[0mself\u001b[0m\u001b[0;34m.\u001b[0m\u001b[0mdata_class\u001b[0m\u001b[0;34m(\u001b[0m\u001b[0mv\u001b[0m\u001b[0;34m,\u001b[0m \u001b[0mskip_invalid\u001b[0m\u001b[0;34m=\u001b[0m\u001b[0mskip_invalid\u001b[0m\u001b[0;34m,\u001b[0m \u001b[0m_validate\u001b[0m\u001b[0;34m=\u001b[0m\u001b[0m_validate\u001b[0m\u001b[0;34m)\u001b[0m\u001b[0;34m\u001b[0m\u001b[0;34m\u001b[0m\u001b[0m\n\u001b[0m\u001b[1;32m   2476\u001b[0m \u001b[0;34m\u001b[0m\u001b[0m\n\u001b[1;32m   2477\u001b[0m         \u001b[0;32melif\u001b[0m \u001b[0misinstance\u001b[0m\u001b[0;34m(\u001b[0m\u001b[0mv\u001b[0m\u001b[0;34m,\u001b[0m \u001b[0mself\u001b[0m\u001b[0;34m.\u001b[0m\u001b[0mdata_class\u001b[0m\u001b[0;34m)\u001b[0m\u001b[0;34m:\u001b[0m\u001b[0;34m\u001b[0m\u001b[0;34m\u001b[0m\u001b[0m\n",
            "\u001b[0;32m/usr/local/lib/python3.10/dist-packages/plotly/graph_objs/_layout.py\u001b[0m in \u001b[0;36m__init__\u001b[0;34m(self, arg, activeselection, activeshape, annotations, annotationdefaults, autosize, autotypenumbers, bargap, bargroupgap, barmode, barnorm, boxgap, boxgroupgap, boxmode, calendar, clickmode, coloraxis, colorscale, colorway, computed, datarevision, dragmode, editrevision, extendfunnelareacolors, extendiciclecolors, extendpiecolors, extendsunburstcolors, extendtreemapcolors, font, funnelareacolorway, funnelgap, funnelgroupgap, funnelmode, geo, grid, height, hiddenlabels, hiddenlabelssrc, hidesources, hoverdistance, hoverlabel, hovermode, iciclecolorway, images, imagedefaults, legend, mapbox, margin, meta, metasrc, minreducedheight, minreducedwidth, modebar, newselection, newshape, paper_bgcolor, piecolorway, plot_bgcolor, polar, scattergap, scattermode, scene, selectdirection, selectionrevision, selections, selectiondefaults, separators, shapes, shapedefaults, showlegend, sliders, sliderdefaults, smith, spikedistance, sunburstcolorway, template, ternary, title, titlefont, transition, treemapcolorway, uirevision, uniformtext, updatemenus, updatemenudefaults, violingap, violingroupgap, violinmode, waterfallgap, waterfallgroupgap, waterfallmode, width, xaxis, yaxis, **kwargs)\u001b[0m\n\u001b[1;32m   6740\u001b[0m         \u001b[0m_v\u001b[0m \u001b[0;34m=\u001b[0m \u001b[0mtemplate\u001b[0m \u001b[0;32mif\u001b[0m \u001b[0mtemplate\u001b[0m \u001b[0;32mis\u001b[0m \u001b[0;32mnot\u001b[0m \u001b[0;32mNone\u001b[0m \u001b[0;32melse\u001b[0m \u001b[0m_v\u001b[0m\u001b[0;34m\u001b[0m\u001b[0;34m\u001b[0m\u001b[0m\n\u001b[1;32m   6741\u001b[0m         \u001b[0;32mif\u001b[0m \u001b[0m_v\u001b[0m \u001b[0;32mis\u001b[0m \u001b[0;32mnot\u001b[0m \u001b[0;32mNone\u001b[0m\u001b[0;34m:\u001b[0m\u001b[0;34m\u001b[0m\u001b[0;34m\u001b[0m\u001b[0m\n\u001b[0;32m-> 6742\u001b[0;31m             \u001b[0mself\u001b[0m\u001b[0;34m[\u001b[0m\u001b[0;34m\"template\"\u001b[0m\u001b[0;34m]\u001b[0m \u001b[0;34m=\u001b[0m \u001b[0m_v\u001b[0m\u001b[0;34m\u001b[0m\u001b[0;34m\u001b[0m\u001b[0m\n\u001b[0m\u001b[1;32m   6743\u001b[0m         \u001b[0m_v\u001b[0m \u001b[0;34m=\u001b[0m \u001b[0marg\u001b[0m\u001b[0;34m.\u001b[0m\u001b[0mpop\u001b[0m\u001b[0;34m(\u001b[0m\u001b[0;34m\"ternary\"\u001b[0m\u001b[0;34m,\u001b[0m \u001b[0;32mNone\u001b[0m\u001b[0;34m)\u001b[0m\u001b[0;34m\u001b[0m\u001b[0;34m\u001b[0m\u001b[0m\n\u001b[1;32m   6744\u001b[0m         \u001b[0m_v\u001b[0m \u001b[0;34m=\u001b[0m \u001b[0mternary\u001b[0m \u001b[0;32mif\u001b[0m \u001b[0mternary\u001b[0m \u001b[0;32mis\u001b[0m \u001b[0;32mnot\u001b[0m \u001b[0;32mNone\u001b[0m \u001b[0;32melse\u001b[0m \u001b[0m_v\u001b[0m\u001b[0;34m\u001b[0m\u001b[0;34m\u001b[0m\u001b[0m\n",
            "\u001b[0;32m/usr/local/lib/python3.10/dist-packages/plotly/basedatatypes.py\u001b[0m in \u001b[0;36m__setitem__\u001b[0;34m(self, prop, value)\u001b[0m\n\u001b[1;32m   5873\u001b[0m         \u001b[0;32mif\u001b[0m \u001b[0mmatch\u001b[0m \u001b[0;32mis\u001b[0m \u001b[0;32mNone\u001b[0m\u001b[0;34m:\u001b[0m\u001b[0;34m\u001b[0m\u001b[0;34m\u001b[0m\u001b[0m\n\u001b[1;32m   5874\u001b[0m             \u001b[0;31m# Set as ordinary property\u001b[0m\u001b[0;34m\u001b[0m\u001b[0;34m\u001b[0m\u001b[0m\n\u001b[0;32m-> 5875\u001b[0;31m             \u001b[0msuper\u001b[0m\u001b[0;34m(\u001b[0m\u001b[0mBaseLayoutHierarchyType\u001b[0m\u001b[0;34m,\u001b[0m \u001b[0mself\u001b[0m\u001b[0;34m)\u001b[0m\u001b[0;34m.\u001b[0m\u001b[0m__setitem__\u001b[0m\u001b[0;34m(\u001b[0m\u001b[0mprop\u001b[0m\u001b[0;34m,\u001b[0m \u001b[0mvalue\u001b[0m\u001b[0;34m)\u001b[0m\u001b[0;34m\u001b[0m\u001b[0;34m\u001b[0m\u001b[0m\n\u001b[0m\u001b[1;32m   5876\u001b[0m         \u001b[0;32melse\u001b[0m\u001b[0;34m:\u001b[0m\u001b[0;34m\u001b[0m\u001b[0;34m\u001b[0m\u001b[0m\n\u001b[1;32m   5877\u001b[0m             \u001b[0;31m# Set as subplotid property\u001b[0m\u001b[0;34m\u001b[0m\u001b[0;34m\u001b[0m\u001b[0m\n",
            "\u001b[0;32m/usr/local/lib/python3.10/dist-packages/plotly/basedatatypes.py\u001b[0m in \u001b[0;36m__setitem__\u001b[0;34m(self, prop, value)\u001b[0m\n\u001b[1;32m   4863\u001b[0m                 \u001b[0;31m# ### Handle compound property ###\u001b[0m\u001b[0;34m\u001b[0m\u001b[0;34m\u001b[0m\u001b[0m\n\u001b[1;32m   4864\u001b[0m                 \u001b[0;32mif\u001b[0m \u001b[0misinstance\u001b[0m\u001b[0;34m(\u001b[0m\u001b[0mvalidator\u001b[0m\u001b[0;34m,\u001b[0m \u001b[0mCompoundValidator\u001b[0m\u001b[0;34m)\u001b[0m\u001b[0;34m:\u001b[0m\u001b[0;34m\u001b[0m\u001b[0;34m\u001b[0m\u001b[0m\n\u001b[0;32m-> 4865\u001b[0;31m                     \u001b[0mself\u001b[0m\u001b[0;34m.\u001b[0m\u001b[0m_set_compound_prop\u001b[0m\u001b[0;34m(\u001b[0m\u001b[0mprop\u001b[0m\u001b[0;34m,\u001b[0m \u001b[0mvalue\u001b[0m\u001b[0;34m)\u001b[0m\u001b[0;34m\u001b[0m\u001b[0;34m\u001b[0m\u001b[0m\n\u001b[0m\u001b[1;32m   4866\u001b[0m \u001b[0;34m\u001b[0m\u001b[0m\n\u001b[1;32m   4867\u001b[0m                 \u001b[0;31m# ### Handle compound array property ###\u001b[0m\u001b[0;34m\u001b[0m\u001b[0;34m\u001b[0m\u001b[0m\n",
            "\u001b[0;32m/usr/local/lib/python3.10/dist-packages/plotly/basedatatypes.py\u001b[0m in \u001b[0;36m_set_compound_prop\u001b[0;34m(self, prop, val)\u001b[0m\n\u001b[1;32m   5274\u001b[0m         \u001b[0;31m# ------------\u001b[0m\u001b[0;34m\u001b[0m\u001b[0;34m\u001b[0m\u001b[0m\n\u001b[1;32m   5275\u001b[0m         \u001b[0mvalidator\u001b[0m \u001b[0;34m=\u001b[0m \u001b[0mself\u001b[0m\u001b[0;34m.\u001b[0m\u001b[0m_get_validator\u001b[0m\u001b[0;34m(\u001b[0m\u001b[0mprop\u001b[0m\u001b[0;34m)\u001b[0m\u001b[0;34m\u001b[0m\u001b[0;34m\u001b[0m\u001b[0m\n\u001b[0;32m-> 5276\u001b[0;31m         \u001b[0mval\u001b[0m \u001b[0;34m=\u001b[0m \u001b[0mvalidator\u001b[0m\u001b[0;34m.\u001b[0m\u001b[0mvalidate_coerce\u001b[0m\u001b[0;34m(\u001b[0m\u001b[0mval\u001b[0m\u001b[0;34m,\u001b[0m \u001b[0mskip_invalid\u001b[0m\u001b[0;34m=\u001b[0m\u001b[0mself\u001b[0m\u001b[0;34m.\u001b[0m\u001b[0m_skip_invalid\u001b[0m\u001b[0;34m)\u001b[0m\u001b[0;34m\u001b[0m\u001b[0;34m\u001b[0m\u001b[0m\n\u001b[0m\u001b[1;32m   5277\u001b[0m \u001b[0;34m\u001b[0m\u001b[0m\n\u001b[1;32m   5278\u001b[0m         \u001b[0;31m# Save deep copies of current and new states\u001b[0m\u001b[0;34m\u001b[0m\u001b[0;34m\u001b[0m\u001b[0m\n",
            "\u001b[0;32m/usr/local/lib/python3.10/dist-packages/_plotly_utils/basevalidators.py\u001b[0m in \u001b[0;36mvalidate_coerce\u001b[0;34m(self, v, skip_invalid)\u001b[0m\n\u001b[1;32m   2766\u001b[0m             \u001b[0;32mreturn\u001b[0m \u001b[0mself\u001b[0m\u001b[0;34m.\u001b[0m\u001b[0mdata_class\u001b[0m\u001b[0;34m(\u001b[0m\u001b[0mdata_scatter\u001b[0m\u001b[0;34m=\u001b[0m\u001b[0;34m[\u001b[0m\u001b[0;34m{\u001b[0m\u001b[0;34m}\u001b[0m\u001b[0;34m]\u001b[0m\u001b[0;34m)\u001b[0m\u001b[0;34m\u001b[0m\u001b[0;34m\u001b[0m\u001b[0m\n\u001b[1;32m   2767\u001b[0m \u001b[0;34m\u001b[0m\u001b[0m\n\u001b[0;32m-> 2768\u001b[0;31m         return super(BaseTemplateValidator, self).validate_coerce(\n\u001b[0m\u001b[1;32m   2769\u001b[0m             \u001b[0mv\u001b[0m\u001b[0;34m,\u001b[0m \u001b[0mskip_invalid\u001b[0m\u001b[0;34m=\u001b[0m\u001b[0mskip_invalid\u001b[0m\u001b[0;34m\u001b[0m\u001b[0;34m\u001b[0m\u001b[0m\n\u001b[1;32m   2770\u001b[0m         )\n",
            "\u001b[0;32m/usr/local/lib/python3.10/dist-packages/_plotly_utils/basevalidators.py\u001b[0m in \u001b[0;36mvalidate_coerce\u001b[0;34m(self, v, skip_invalid, _validate)\u001b[0m\n\u001b[1;32m   2473\u001b[0m \u001b[0;34m\u001b[0m\u001b[0m\n\u001b[1;32m   2474\u001b[0m         \u001b[0;32melif\u001b[0m \u001b[0misinstance\u001b[0m\u001b[0;34m(\u001b[0m\u001b[0mv\u001b[0m\u001b[0;34m,\u001b[0m \u001b[0mdict\u001b[0m\u001b[0;34m)\u001b[0m\u001b[0;34m:\u001b[0m\u001b[0;34m\u001b[0m\u001b[0;34m\u001b[0m\u001b[0m\n\u001b[0;32m-> 2475\u001b[0;31m             \u001b[0mv\u001b[0m \u001b[0;34m=\u001b[0m \u001b[0mself\u001b[0m\u001b[0;34m.\u001b[0m\u001b[0mdata_class\u001b[0m\u001b[0;34m(\u001b[0m\u001b[0mv\u001b[0m\u001b[0;34m,\u001b[0m \u001b[0mskip_invalid\u001b[0m\u001b[0;34m=\u001b[0m\u001b[0mskip_invalid\u001b[0m\u001b[0;34m,\u001b[0m \u001b[0m_validate\u001b[0m\u001b[0;34m=\u001b[0m\u001b[0m_validate\u001b[0m\u001b[0;34m)\u001b[0m\u001b[0;34m\u001b[0m\u001b[0;34m\u001b[0m\u001b[0m\n\u001b[0m\u001b[1;32m   2476\u001b[0m \u001b[0;34m\u001b[0m\u001b[0m\n\u001b[1;32m   2477\u001b[0m         \u001b[0;32melif\u001b[0m \u001b[0misinstance\u001b[0m\u001b[0;34m(\u001b[0m\u001b[0mv\u001b[0m\u001b[0;34m,\u001b[0m \u001b[0mself\u001b[0m\u001b[0;34m.\u001b[0m\u001b[0mdata_class\u001b[0m\u001b[0;34m)\u001b[0m\u001b[0;34m:\u001b[0m\u001b[0;34m\u001b[0m\u001b[0;34m\u001b[0m\u001b[0m\n",
            "\u001b[0;32m/usr/local/lib/python3.10/dist-packages/plotly/graph_objs/layout/_template.py\u001b[0m in \u001b[0;36m__init__\u001b[0;34m(self, arg, data, layout, **kwargs)\u001b[0m\n\u001b[1;32m    321\u001b[0m         \u001b[0m_v\u001b[0m \u001b[0;34m=\u001b[0m \u001b[0mdata\u001b[0m \u001b[0;32mif\u001b[0m \u001b[0mdata\u001b[0m \u001b[0;32mis\u001b[0m \u001b[0;32mnot\u001b[0m \u001b[0;32mNone\u001b[0m \u001b[0;32melse\u001b[0m \u001b[0m_v\u001b[0m\u001b[0;34m\u001b[0m\u001b[0;34m\u001b[0m\u001b[0m\n\u001b[1;32m    322\u001b[0m         \u001b[0;32mif\u001b[0m \u001b[0m_v\u001b[0m \u001b[0;32mis\u001b[0m \u001b[0;32mnot\u001b[0m \u001b[0;32mNone\u001b[0m\u001b[0;34m:\u001b[0m\u001b[0;34m\u001b[0m\u001b[0;34m\u001b[0m\u001b[0m\n\u001b[0;32m--> 323\u001b[0;31m             \u001b[0mself\u001b[0m\u001b[0;34m[\u001b[0m\u001b[0;34m\"data\"\u001b[0m\u001b[0;34m]\u001b[0m \u001b[0;34m=\u001b[0m \u001b[0m_v\u001b[0m\u001b[0;34m\u001b[0m\u001b[0;34m\u001b[0m\u001b[0m\n\u001b[0m\u001b[1;32m    324\u001b[0m         \u001b[0m_v\u001b[0m \u001b[0;34m=\u001b[0m \u001b[0marg\u001b[0m\u001b[0;34m.\u001b[0m\u001b[0mpop\u001b[0m\u001b[0;34m(\u001b[0m\u001b[0;34m\"layout\"\u001b[0m\u001b[0;34m,\u001b[0m \u001b[0;32mNone\u001b[0m\u001b[0;34m)\u001b[0m\u001b[0;34m\u001b[0m\u001b[0;34m\u001b[0m\u001b[0m\n\u001b[1;32m    325\u001b[0m         \u001b[0m_v\u001b[0m \u001b[0;34m=\u001b[0m \u001b[0mlayout\u001b[0m \u001b[0;32mif\u001b[0m \u001b[0mlayout\u001b[0m \u001b[0;32mis\u001b[0m \u001b[0;32mnot\u001b[0m \u001b[0;32mNone\u001b[0m \u001b[0;32melse\u001b[0m \u001b[0m_v\u001b[0m\u001b[0;34m\u001b[0m\u001b[0;34m\u001b[0m\u001b[0m\n",
            "\u001b[0;32m/usr/local/lib/python3.10/dist-packages/plotly/basedatatypes.py\u001b[0m in \u001b[0;36m__setitem__\u001b[0;34m(self, prop, value)\u001b[0m\n\u001b[1;32m   4863\u001b[0m                 \u001b[0;31m# ### Handle compound property ###\u001b[0m\u001b[0;34m\u001b[0m\u001b[0;34m\u001b[0m\u001b[0m\n\u001b[1;32m   4864\u001b[0m                 \u001b[0;32mif\u001b[0m \u001b[0misinstance\u001b[0m\u001b[0;34m(\u001b[0m\u001b[0mvalidator\u001b[0m\u001b[0;34m,\u001b[0m \u001b[0mCompoundValidator\u001b[0m\u001b[0;34m)\u001b[0m\u001b[0;34m:\u001b[0m\u001b[0;34m\u001b[0m\u001b[0;34m\u001b[0m\u001b[0m\n\u001b[0;32m-> 4865\u001b[0;31m                     \u001b[0mself\u001b[0m\u001b[0;34m.\u001b[0m\u001b[0m_set_compound_prop\u001b[0m\u001b[0;34m(\u001b[0m\u001b[0mprop\u001b[0m\u001b[0;34m,\u001b[0m \u001b[0mvalue\u001b[0m\u001b[0;34m)\u001b[0m\u001b[0;34m\u001b[0m\u001b[0;34m\u001b[0m\u001b[0m\n\u001b[0m\u001b[1;32m   4866\u001b[0m \u001b[0;34m\u001b[0m\u001b[0m\n\u001b[1;32m   4867\u001b[0m                 \u001b[0;31m# ### Handle compound array property ###\u001b[0m\u001b[0;34m\u001b[0m\u001b[0;34m\u001b[0m\u001b[0m\n",
            "\u001b[0;32m/usr/local/lib/python3.10/dist-packages/plotly/basedatatypes.py\u001b[0m in \u001b[0;36m_set_compound_prop\u001b[0;34m(self, prop, val)\u001b[0m\n\u001b[1;32m   5274\u001b[0m         \u001b[0;31m# ------------\u001b[0m\u001b[0;34m\u001b[0m\u001b[0;34m\u001b[0m\u001b[0m\n\u001b[1;32m   5275\u001b[0m         \u001b[0mvalidator\u001b[0m \u001b[0;34m=\u001b[0m \u001b[0mself\u001b[0m\u001b[0;34m.\u001b[0m\u001b[0m_get_validator\u001b[0m\u001b[0;34m(\u001b[0m\u001b[0mprop\u001b[0m\u001b[0;34m)\u001b[0m\u001b[0;34m\u001b[0m\u001b[0;34m\u001b[0m\u001b[0m\n\u001b[0;32m-> 5276\u001b[0;31m         \u001b[0mval\u001b[0m \u001b[0;34m=\u001b[0m \u001b[0mvalidator\u001b[0m\u001b[0;34m.\u001b[0m\u001b[0mvalidate_coerce\u001b[0m\u001b[0;34m(\u001b[0m\u001b[0mval\u001b[0m\u001b[0;34m,\u001b[0m \u001b[0mskip_invalid\u001b[0m\u001b[0;34m=\u001b[0m\u001b[0mself\u001b[0m\u001b[0;34m.\u001b[0m\u001b[0m_skip_invalid\u001b[0m\u001b[0;34m)\u001b[0m\u001b[0;34m\u001b[0m\u001b[0;34m\u001b[0m\u001b[0m\n\u001b[0m\u001b[1;32m   5277\u001b[0m \u001b[0;34m\u001b[0m\u001b[0m\n\u001b[1;32m   5278\u001b[0m         \u001b[0;31m# Save deep copies of current and new states\u001b[0m\u001b[0;34m\u001b[0m\u001b[0;34m\u001b[0m\u001b[0m\n",
            "\u001b[0;32m/usr/local/lib/python3.10/dist-packages/_plotly_utils/basevalidators.py\u001b[0m in \u001b[0;36mvalidate_coerce\u001b[0;34m(self, v, skip_invalid, _validate)\u001b[0m\n\u001b[1;32m   2473\u001b[0m \u001b[0;34m\u001b[0m\u001b[0m\n\u001b[1;32m   2474\u001b[0m         \u001b[0;32melif\u001b[0m \u001b[0misinstance\u001b[0m\u001b[0;34m(\u001b[0m\u001b[0mv\u001b[0m\u001b[0;34m,\u001b[0m \u001b[0mdict\u001b[0m\u001b[0;34m)\u001b[0m\u001b[0;34m:\u001b[0m\u001b[0;34m\u001b[0m\u001b[0;34m\u001b[0m\u001b[0m\n\u001b[0;32m-> 2475\u001b[0;31m             \u001b[0mv\u001b[0m \u001b[0;34m=\u001b[0m \u001b[0mself\u001b[0m\u001b[0;34m.\u001b[0m\u001b[0mdata_class\u001b[0m\u001b[0;34m(\u001b[0m\u001b[0mv\u001b[0m\u001b[0;34m,\u001b[0m \u001b[0mskip_invalid\u001b[0m\u001b[0;34m=\u001b[0m\u001b[0mskip_invalid\u001b[0m\u001b[0;34m,\u001b[0m \u001b[0m_validate\u001b[0m\u001b[0;34m=\u001b[0m\u001b[0m_validate\u001b[0m\u001b[0;34m)\u001b[0m\u001b[0;34m\u001b[0m\u001b[0;34m\u001b[0m\u001b[0m\n\u001b[0m\u001b[1;32m   2476\u001b[0m \u001b[0;34m\u001b[0m\u001b[0m\n\u001b[1;32m   2477\u001b[0m         \u001b[0;32melif\u001b[0m \u001b[0misinstance\u001b[0m\u001b[0;34m(\u001b[0m\u001b[0mv\u001b[0m\u001b[0;34m,\u001b[0m \u001b[0mself\u001b[0m\u001b[0;34m.\u001b[0m\u001b[0mdata_class\u001b[0m\u001b[0;34m)\u001b[0m\u001b[0;34m:\u001b[0m\u001b[0;34m\u001b[0m\u001b[0;34m\u001b[0m\u001b[0m\n",
            "\u001b[0;32m/usr/local/lib/python3.10/dist-packages/plotly/graph_objs/layout/template/_data.py\u001b[0m in \u001b[0;36m__init__\u001b[0;34m(self, arg, barpolar, bar, box, candlestick, carpet, choroplethmapbox, choropleth, cone, contourcarpet, contour, densitymapbox, funnelarea, funnel, heatmapgl, heatmap, histogram2dcontour, histogram2d, histogram, icicle, image, indicator, isosurface, mesh3d, ohlc, parcats, parcoords, pie, pointcloud, sankey, scatter3d, scattercarpet, scattergeo, scattergl, scattermapbox, scatterpolargl, scatterpolar, scatter, scattersmith, scatterternary, splom, streamtube, sunburst, surface, table, treemap, violin, volume, waterfall, **kwargs)\u001b[0m\n\u001b[1;32m   1714\u001b[0m         \u001b[0m_v\u001b[0m \u001b[0;34m=\u001b[0m \u001b[0mscatterternary\u001b[0m \u001b[0;32mif\u001b[0m \u001b[0mscatterternary\u001b[0m \u001b[0;32mis\u001b[0m \u001b[0;32mnot\u001b[0m \u001b[0;32mNone\u001b[0m \u001b[0;32melse\u001b[0m \u001b[0m_v\u001b[0m\u001b[0;34m\u001b[0m\u001b[0;34m\u001b[0m\u001b[0m\n\u001b[1;32m   1715\u001b[0m         \u001b[0;32mif\u001b[0m \u001b[0m_v\u001b[0m \u001b[0;32mis\u001b[0m \u001b[0;32mnot\u001b[0m \u001b[0;32mNone\u001b[0m\u001b[0;34m:\u001b[0m\u001b[0;34m\u001b[0m\u001b[0;34m\u001b[0m\u001b[0m\n\u001b[0;32m-> 1716\u001b[0;31m             \u001b[0mself\u001b[0m\u001b[0;34m[\u001b[0m\u001b[0;34m\"scatterternary\"\u001b[0m\u001b[0;34m]\u001b[0m \u001b[0;34m=\u001b[0m \u001b[0m_v\u001b[0m\u001b[0;34m\u001b[0m\u001b[0;34m\u001b[0m\u001b[0m\n\u001b[0m\u001b[1;32m   1717\u001b[0m         \u001b[0m_v\u001b[0m \u001b[0;34m=\u001b[0m \u001b[0marg\u001b[0m\u001b[0;34m.\u001b[0m\u001b[0mpop\u001b[0m\u001b[0;34m(\u001b[0m\u001b[0;34m\"splom\"\u001b[0m\u001b[0;34m,\u001b[0m \u001b[0;32mNone\u001b[0m\u001b[0;34m)\u001b[0m\u001b[0;34m\u001b[0m\u001b[0;34m\u001b[0m\u001b[0m\n\u001b[1;32m   1718\u001b[0m         \u001b[0m_v\u001b[0m \u001b[0;34m=\u001b[0m \u001b[0msplom\u001b[0m \u001b[0;32mif\u001b[0m \u001b[0msplom\u001b[0m \u001b[0;32mis\u001b[0m \u001b[0;32mnot\u001b[0m \u001b[0;32mNone\u001b[0m \u001b[0;32melse\u001b[0m \u001b[0m_v\u001b[0m\u001b[0;34m\u001b[0m\u001b[0;34m\u001b[0m\u001b[0m\n",
            "\u001b[0;32m/usr/local/lib/python3.10/dist-packages/plotly/basedatatypes.py\u001b[0m in \u001b[0;36m__setitem__\u001b[0;34m(self, prop, value)\u001b[0m\n\u001b[1;32m   4867\u001b[0m                 \u001b[0;31m# ### Handle compound array property ###\u001b[0m\u001b[0;34m\u001b[0m\u001b[0;34m\u001b[0m\u001b[0m\n\u001b[1;32m   4868\u001b[0m                 \u001b[0;32melif\u001b[0m \u001b[0misinstance\u001b[0m\u001b[0;34m(\u001b[0m\u001b[0mvalidator\u001b[0m\u001b[0;34m,\u001b[0m \u001b[0;34m(\u001b[0m\u001b[0mCompoundArrayValidator\u001b[0m\u001b[0;34m,\u001b[0m \u001b[0mBaseDataValidator\u001b[0m\u001b[0;34m)\u001b[0m\u001b[0;34m)\u001b[0m\u001b[0;34m:\u001b[0m\u001b[0;34m\u001b[0m\u001b[0;34m\u001b[0m\u001b[0m\n\u001b[0;32m-> 4869\u001b[0;31m                     \u001b[0mself\u001b[0m\u001b[0;34m.\u001b[0m\u001b[0m_set_array_prop\u001b[0m\u001b[0;34m(\u001b[0m\u001b[0mprop\u001b[0m\u001b[0;34m,\u001b[0m \u001b[0mvalue\u001b[0m\u001b[0;34m)\u001b[0m\u001b[0;34m\u001b[0m\u001b[0;34m\u001b[0m\u001b[0m\n\u001b[0m\u001b[1;32m   4870\u001b[0m \u001b[0;34m\u001b[0m\u001b[0m\n\u001b[1;32m   4871\u001b[0m                 \u001b[0;31m# ### Handle simple property ###\u001b[0m\u001b[0;34m\u001b[0m\u001b[0;34m\u001b[0m\u001b[0m\n",
            "\u001b[0;32m/usr/local/lib/python3.10/dist-packages/plotly/basedatatypes.py\u001b[0m in \u001b[0;36m_set_array_prop\u001b[0;34m(self, prop, val)\u001b[0m\n\u001b[1;32m   5348\u001b[0m         \u001b[0;31m# ------------\u001b[0m\u001b[0;34m\u001b[0m\u001b[0;34m\u001b[0m\u001b[0m\n\u001b[1;32m   5349\u001b[0m         \u001b[0mvalidator\u001b[0m \u001b[0;34m=\u001b[0m \u001b[0mself\u001b[0m\u001b[0;34m.\u001b[0m\u001b[0m_get_validator\u001b[0m\u001b[0;34m(\u001b[0m\u001b[0mprop\u001b[0m\u001b[0;34m)\u001b[0m\u001b[0;34m\u001b[0m\u001b[0;34m\u001b[0m\u001b[0m\n\u001b[0;32m-> 5350\u001b[0;31m         \u001b[0mval\u001b[0m \u001b[0;34m=\u001b[0m \u001b[0mvalidator\u001b[0m\u001b[0;34m.\u001b[0m\u001b[0mvalidate_coerce\u001b[0m\u001b[0;34m(\u001b[0m\u001b[0mval\u001b[0m\u001b[0;34m,\u001b[0m \u001b[0mskip_invalid\u001b[0m\u001b[0;34m=\u001b[0m\u001b[0mself\u001b[0m\u001b[0;34m.\u001b[0m\u001b[0m_skip_invalid\u001b[0m\u001b[0;34m)\u001b[0m\u001b[0;34m\u001b[0m\u001b[0;34m\u001b[0m\u001b[0m\n\u001b[0m\u001b[1;32m   5351\u001b[0m \u001b[0;34m\u001b[0m\u001b[0m\n\u001b[1;32m   5352\u001b[0m         \u001b[0;31m# Save deep copies of current and new states\u001b[0m\u001b[0;34m\u001b[0m\u001b[0;34m\u001b[0m\u001b[0m\n",
            "\u001b[0;32m/usr/local/lib/python3.10/dist-packages/_plotly_utils/basevalidators.py\u001b[0m in \u001b[0;36mvalidate_coerce\u001b[0;34m(self, v, skip_invalid)\u001b[0m\n\u001b[1;32m   2565\u001b[0m                     \u001b[0mres\u001b[0m\u001b[0;34m.\u001b[0m\u001b[0mappend\u001b[0m\u001b[0;34m(\u001b[0m\u001b[0mself\u001b[0m\u001b[0;34m.\u001b[0m\u001b[0mdata_class\u001b[0m\u001b[0;34m(\u001b[0m\u001b[0mv_el\u001b[0m\u001b[0;34m)\u001b[0m\u001b[0;34m)\u001b[0m\u001b[0;34m\u001b[0m\u001b[0;34m\u001b[0m\u001b[0m\n\u001b[1;32m   2566\u001b[0m                 \u001b[0;32melif\u001b[0m \u001b[0misinstance\u001b[0m\u001b[0;34m(\u001b[0m\u001b[0mv_el\u001b[0m\u001b[0;34m,\u001b[0m \u001b[0mdict\u001b[0m\u001b[0;34m)\u001b[0m\u001b[0;34m:\u001b[0m\u001b[0;34m\u001b[0m\u001b[0;34m\u001b[0m\u001b[0m\n\u001b[0;32m-> 2567\u001b[0;31m                     \u001b[0mres\u001b[0m\u001b[0;34m.\u001b[0m\u001b[0mappend\u001b[0m\u001b[0;34m(\u001b[0m\u001b[0mself\u001b[0m\u001b[0;34m.\u001b[0m\u001b[0mdata_class\u001b[0m\u001b[0;34m(\u001b[0m\u001b[0mv_el\u001b[0m\u001b[0;34m,\u001b[0m \u001b[0mskip_invalid\u001b[0m\u001b[0;34m=\u001b[0m\u001b[0mskip_invalid\u001b[0m\u001b[0;34m)\u001b[0m\u001b[0;34m)\u001b[0m\u001b[0;34m\u001b[0m\u001b[0;34m\u001b[0m\u001b[0m\n\u001b[0m\u001b[1;32m   2568\u001b[0m                 \u001b[0;32melse\u001b[0m\u001b[0;34m:\u001b[0m\u001b[0;34m\u001b[0m\u001b[0;34m\u001b[0m\u001b[0m\n\u001b[1;32m   2569\u001b[0m                     \u001b[0;32mif\u001b[0m \u001b[0mskip_invalid\u001b[0m\u001b[0;34m:\u001b[0m\u001b[0;34m\u001b[0m\u001b[0;34m\u001b[0m\u001b[0m\n",
            "\u001b[0;32m/usr/local/lib/python3.10/dist-packages/plotly/graph_objs/_scatterternary.py\u001b[0m in \u001b[0;36m__init__\u001b[0;34m(self, arg, a, asrc, b, bsrc, c, cliponaxis, connectgaps, csrc, customdata, customdatasrc, fill, fillcolor, hoverinfo, hoverinfosrc, hoverlabel, hoveron, hovertemplate, hovertemplatesrc, hovertext, hovertextsrc, ids, idssrc, legend, legendgroup, legendgrouptitle, legendrank, legendwidth, line, marker, meta, metasrc, mode, name, opacity, selected, selectedpoints, showlegend, stream, subplot, sum, text, textfont, textposition, textpositionsrc, textsrc, texttemplate, texttemplatesrc, uid, uirevision, unselected, visible, **kwargs)\u001b[0m\n\u001b[1;32m   2386\u001b[0m         \u001b[0m_v\u001b[0m \u001b[0;34m=\u001b[0m \u001b[0mmarker\u001b[0m \u001b[0;32mif\u001b[0m \u001b[0mmarker\u001b[0m \u001b[0;32mis\u001b[0m \u001b[0;32mnot\u001b[0m \u001b[0;32mNone\u001b[0m \u001b[0;32melse\u001b[0m \u001b[0m_v\u001b[0m\u001b[0;34m\u001b[0m\u001b[0;34m\u001b[0m\u001b[0m\n\u001b[1;32m   2387\u001b[0m         \u001b[0;32mif\u001b[0m \u001b[0m_v\u001b[0m \u001b[0;32mis\u001b[0m \u001b[0;32mnot\u001b[0m \u001b[0;32mNone\u001b[0m\u001b[0;34m:\u001b[0m\u001b[0;34m\u001b[0m\u001b[0;34m\u001b[0m\u001b[0m\n\u001b[0;32m-> 2388\u001b[0;31m             \u001b[0mself\u001b[0m\u001b[0;34m[\u001b[0m\u001b[0;34m\"marker\"\u001b[0m\u001b[0;34m]\u001b[0m \u001b[0;34m=\u001b[0m \u001b[0m_v\u001b[0m\u001b[0;34m\u001b[0m\u001b[0;34m\u001b[0m\u001b[0m\n\u001b[0m\u001b[1;32m   2389\u001b[0m         \u001b[0m_v\u001b[0m \u001b[0;34m=\u001b[0m \u001b[0marg\u001b[0m\u001b[0;34m.\u001b[0m\u001b[0mpop\u001b[0m\u001b[0;34m(\u001b[0m\u001b[0;34m\"meta\"\u001b[0m\u001b[0;34m,\u001b[0m \u001b[0;32mNone\u001b[0m\u001b[0;34m)\u001b[0m\u001b[0;34m\u001b[0m\u001b[0;34m\u001b[0m\u001b[0m\n\u001b[1;32m   2390\u001b[0m         \u001b[0m_v\u001b[0m \u001b[0;34m=\u001b[0m \u001b[0mmeta\u001b[0m \u001b[0;32mif\u001b[0m \u001b[0mmeta\u001b[0m \u001b[0;32mis\u001b[0m \u001b[0;32mnot\u001b[0m \u001b[0;32mNone\u001b[0m \u001b[0;32melse\u001b[0m \u001b[0m_v\u001b[0m\u001b[0;34m\u001b[0m\u001b[0;34m\u001b[0m\u001b[0m\n",
            "\u001b[0;32m/usr/local/lib/python3.10/dist-packages/plotly/basedatatypes.py\u001b[0m in \u001b[0;36m__setitem__\u001b[0;34m(self, prop, value)\u001b[0m\n\u001b[1;32m   4863\u001b[0m                 \u001b[0;31m# ### Handle compound property ###\u001b[0m\u001b[0;34m\u001b[0m\u001b[0;34m\u001b[0m\u001b[0m\n\u001b[1;32m   4864\u001b[0m                 \u001b[0;32mif\u001b[0m \u001b[0misinstance\u001b[0m\u001b[0;34m(\u001b[0m\u001b[0mvalidator\u001b[0m\u001b[0;34m,\u001b[0m \u001b[0mCompoundValidator\u001b[0m\u001b[0;34m)\u001b[0m\u001b[0;34m:\u001b[0m\u001b[0;34m\u001b[0m\u001b[0;34m\u001b[0m\u001b[0m\n\u001b[0;32m-> 4865\u001b[0;31m                     \u001b[0mself\u001b[0m\u001b[0;34m.\u001b[0m\u001b[0m_set_compound_prop\u001b[0m\u001b[0;34m(\u001b[0m\u001b[0mprop\u001b[0m\u001b[0;34m,\u001b[0m \u001b[0mvalue\u001b[0m\u001b[0;34m)\u001b[0m\u001b[0;34m\u001b[0m\u001b[0;34m\u001b[0m\u001b[0m\n\u001b[0m\u001b[1;32m   4866\u001b[0m \u001b[0;34m\u001b[0m\u001b[0m\n\u001b[1;32m   4867\u001b[0m                 \u001b[0;31m# ### Handle compound array property ###\u001b[0m\u001b[0;34m\u001b[0m\u001b[0;34m\u001b[0m\u001b[0m\n",
            "\u001b[0;32m/usr/local/lib/python3.10/dist-packages/plotly/basedatatypes.py\u001b[0m in \u001b[0;36m_set_compound_prop\u001b[0;34m(self, prop, val)\u001b[0m\n\u001b[1;32m   5274\u001b[0m         \u001b[0;31m# ------------\u001b[0m\u001b[0;34m\u001b[0m\u001b[0;34m\u001b[0m\u001b[0m\n\u001b[1;32m   5275\u001b[0m         \u001b[0mvalidator\u001b[0m \u001b[0;34m=\u001b[0m \u001b[0mself\u001b[0m\u001b[0;34m.\u001b[0m\u001b[0m_get_validator\u001b[0m\u001b[0;34m(\u001b[0m\u001b[0mprop\u001b[0m\u001b[0;34m)\u001b[0m\u001b[0;34m\u001b[0m\u001b[0;34m\u001b[0m\u001b[0m\n\u001b[0;32m-> 5276\u001b[0;31m         \u001b[0mval\u001b[0m \u001b[0;34m=\u001b[0m \u001b[0mvalidator\u001b[0m\u001b[0;34m.\u001b[0m\u001b[0mvalidate_coerce\u001b[0m\u001b[0;34m(\u001b[0m\u001b[0mval\u001b[0m\u001b[0;34m,\u001b[0m \u001b[0mskip_invalid\u001b[0m\u001b[0;34m=\u001b[0m\u001b[0mself\u001b[0m\u001b[0;34m.\u001b[0m\u001b[0m_skip_invalid\u001b[0m\u001b[0;34m)\u001b[0m\u001b[0;34m\u001b[0m\u001b[0;34m\u001b[0m\u001b[0m\n\u001b[0m\u001b[1;32m   5277\u001b[0m \u001b[0;34m\u001b[0m\u001b[0m\n\u001b[1;32m   5278\u001b[0m         \u001b[0;31m# Save deep copies of current and new states\u001b[0m\u001b[0;34m\u001b[0m\u001b[0;34m\u001b[0m\u001b[0m\n",
            "\u001b[0;32m/usr/local/lib/python3.10/dist-packages/_plotly_utils/basevalidators.py\u001b[0m in \u001b[0;36mvalidate_coerce\u001b[0;34m(self, v, skip_invalid, _validate)\u001b[0m\n\u001b[1;32m   2473\u001b[0m \u001b[0;34m\u001b[0m\u001b[0m\n\u001b[1;32m   2474\u001b[0m         \u001b[0;32melif\u001b[0m \u001b[0misinstance\u001b[0m\u001b[0;34m(\u001b[0m\u001b[0mv\u001b[0m\u001b[0;34m,\u001b[0m \u001b[0mdict\u001b[0m\u001b[0;34m)\u001b[0m\u001b[0;34m:\u001b[0m\u001b[0;34m\u001b[0m\u001b[0;34m\u001b[0m\u001b[0m\n\u001b[0;32m-> 2475\u001b[0;31m             \u001b[0mv\u001b[0m \u001b[0;34m=\u001b[0m \u001b[0mself\u001b[0m\u001b[0;34m.\u001b[0m\u001b[0mdata_class\u001b[0m\u001b[0;34m(\u001b[0m\u001b[0mv\u001b[0m\u001b[0;34m,\u001b[0m \u001b[0mskip_invalid\u001b[0m\u001b[0;34m=\u001b[0m\u001b[0mskip_invalid\u001b[0m\u001b[0;34m,\u001b[0m \u001b[0m_validate\u001b[0m\u001b[0;34m=\u001b[0m\u001b[0m_validate\u001b[0m\u001b[0;34m)\u001b[0m\u001b[0;34m\u001b[0m\u001b[0;34m\u001b[0m\u001b[0m\n\u001b[0m\u001b[1;32m   2476\u001b[0m \u001b[0;34m\u001b[0m\u001b[0m\n\u001b[1;32m   2477\u001b[0m         \u001b[0;32melif\u001b[0m \u001b[0misinstance\u001b[0m\u001b[0;34m(\u001b[0m\u001b[0mv\u001b[0m\u001b[0;34m,\u001b[0m \u001b[0mself\u001b[0m\u001b[0;34m.\u001b[0m\u001b[0mdata_class\u001b[0m\u001b[0;34m)\u001b[0m\u001b[0;34m:\u001b[0m\u001b[0;34m\u001b[0m\u001b[0;34m\u001b[0m\u001b[0m\n",
            "\u001b[0;32m/usr/local/lib/python3.10/dist-packages/plotly/graph_objs/scatterternary/_marker.py\u001b[0m in \u001b[0;36m__init__\u001b[0;34m(self, arg, angle, angleref, anglesrc, autocolorscale, cauto, cmax, cmid, cmin, color, coloraxis, colorbar, colorscale, colorsrc, gradient, line, maxdisplayed, opacity, opacitysrc, reversescale, showscale, size, sizemin, sizemode, sizeref, sizesrc, standoff, standoffsrc, symbol, symbolsrc, **kwargs)\u001b[0m\n\u001b[1;32m   1632\u001b[0m         \u001b[0m_v\u001b[0m \u001b[0;34m=\u001b[0m \u001b[0mcolorbar\u001b[0m \u001b[0;32mif\u001b[0m \u001b[0mcolorbar\u001b[0m \u001b[0;32mis\u001b[0m \u001b[0;32mnot\u001b[0m \u001b[0;32mNone\u001b[0m \u001b[0;32melse\u001b[0m \u001b[0m_v\u001b[0m\u001b[0;34m\u001b[0m\u001b[0;34m\u001b[0m\u001b[0m\n\u001b[1;32m   1633\u001b[0m         \u001b[0;32mif\u001b[0m \u001b[0m_v\u001b[0m \u001b[0;32mis\u001b[0m \u001b[0;32mnot\u001b[0m \u001b[0;32mNone\u001b[0m\u001b[0;34m:\u001b[0m\u001b[0;34m\u001b[0m\u001b[0;34m\u001b[0m\u001b[0m\n\u001b[0;32m-> 1634\u001b[0;31m             \u001b[0mself\u001b[0m\u001b[0;34m[\u001b[0m\u001b[0;34m\"colorbar\"\u001b[0m\u001b[0;34m]\u001b[0m \u001b[0;34m=\u001b[0m \u001b[0m_v\u001b[0m\u001b[0;34m\u001b[0m\u001b[0;34m\u001b[0m\u001b[0m\n\u001b[0m\u001b[1;32m   1635\u001b[0m         \u001b[0m_v\u001b[0m \u001b[0;34m=\u001b[0m \u001b[0marg\u001b[0m\u001b[0;34m.\u001b[0m\u001b[0mpop\u001b[0m\u001b[0;34m(\u001b[0m\u001b[0;34m\"colorscale\"\u001b[0m\u001b[0;34m,\u001b[0m \u001b[0;32mNone\u001b[0m\u001b[0;34m)\u001b[0m\u001b[0;34m\u001b[0m\u001b[0;34m\u001b[0m\u001b[0m\n\u001b[1;32m   1636\u001b[0m         \u001b[0m_v\u001b[0m \u001b[0;34m=\u001b[0m \u001b[0mcolorscale\u001b[0m \u001b[0;32mif\u001b[0m \u001b[0mcolorscale\u001b[0m \u001b[0;32mis\u001b[0m \u001b[0;32mnot\u001b[0m \u001b[0;32mNone\u001b[0m \u001b[0;32melse\u001b[0m \u001b[0m_v\u001b[0m\u001b[0;34m\u001b[0m\u001b[0;34m\u001b[0m\u001b[0m\n",
            "\u001b[0;32m/usr/local/lib/python3.10/dist-packages/plotly/basedatatypes.py\u001b[0m in \u001b[0;36m__setitem__\u001b[0;34m(self, prop, value)\u001b[0m\n\u001b[1;32m   4859\u001b[0m \u001b[0;34m\u001b[0m\u001b[0m\n\u001b[1;32m   4860\u001b[0m                 \u001b[0;31m# ### Get validator for this property ###\u001b[0m\u001b[0;34m\u001b[0m\u001b[0;34m\u001b[0m\u001b[0m\n\u001b[0;32m-> 4861\u001b[0;31m                 \u001b[0mvalidator\u001b[0m \u001b[0;34m=\u001b[0m \u001b[0mself\u001b[0m\u001b[0;34m.\u001b[0m\u001b[0m_get_validator\u001b[0m\u001b[0;34m(\u001b[0m\u001b[0mprop\u001b[0m\u001b[0;34m)\u001b[0m\u001b[0;34m\u001b[0m\u001b[0;34m\u001b[0m\u001b[0m\n\u001b[0m\u001b[1;32m   4862\u001b[0m \u001b[0;34m\u001b[0m\u001b[0m\n\u001b[1;32m   4863\u001b[0m                 \u001b[0;31m# ### Handle compound property ###\u001b[0m\u001b[0;34m\u001b[0m\u001b[0;34m\u001b[0m\u001b[0m\n",
            "\u001b[0;32m/usr/local/lib/python3.10/dist-packages/plotly/basedatatypes.py\u001b[0m in \u001b[0;36m_get_validator\u001b[0;34m(self, prop)\u001b[0m\n\u001b[1;32m   4341\u001b[0m         \u001b[0;32mfrom\u001b[0m \u001b[0;34m.\u001b[0m\u001b[0mvalidator_cache\u001b[0m \u001b[0;32mimport\u001b[0m \u001b[0mValidatorCache\u001b[0m\u001b[0;34m\u001b[0m\u001b[0;34m\u001b[0m\u001b[0m\n\u001b[1;32m   4342\u001b[0m \u001b[0;34m\u001b[0m\u001b[0m\n\u001b[0;32m-> 4343\u001b[0;31m         \u001b[0;32mreturn\u001b[0m \u001b[0mValidatorCache\u001b[0m\u001b[0;34m.\u001b[0m\u001b[0mget_validator\u001b[0m\u001b[0;34m(\u001b[0m\u001b[0mself\u001b[0m\u001b[0;34m.\u001b[0m\u001b[0m_path_str\u001b[0m\u001b[0;34m,\u001b[0m \u001b[0mprop\u001b[0m\u001b[0;34m)\u001b[0m\u001b[0;34m\u001b[0m\u001b[0;34m\u001b[0m\u001b[0m\n\u001b[0m\u001b[1;32m   4344\u001b[0m \u001b[0;34m\u001b[0m\u001b[0m\n\u001b[1;32m   4345\u001b[0m     \u001b[0;34m@\u001b[0m\u001b[0mproperty\u001b[0m\u001b[0;34m\u001b[0m\u001b[0;34m\u001b[0m\u001b[0m\n",
            "\u001b[0;32m/usr/local/lib/python3.10/dist-packages/plotly/validator_cache.py\u001b[0m in \u001b[0;36mget_validator\u001b[0;34m(parent_path, prop_name)\u001b[0m\n\u001b[1;32m     10\u001b[0m \u001b[0;34m\u001b[0m\u001b[0m\n\u001b[1;32m     11\u001b[0m         \u001b[0mkey\u001b[0m \u001b[0;34m=\u001b[0m \u001b[0;34m(\u001b[0m\u001b[0mparent_path\u001b[0m\u001b[0;34m,\u001b[0m \u001b[0mprop_name\u001b[0m\u001b[0;34m)\u001b[0m\u001b[0;34m\u001b[0m\u001b[0;34m\u001b[0m\u001b[0m\n\u001b[0;32m---> 12\u001b[0;31m         \u001b[0;32mif\u001b[0m \u001b[0mkey\u001b[0m \u001b[0;32mnot\u001b[0m \u001b[0;32min\u001b[0m \u001b[0mValidatorCache\u001b[0m\u001b[0;34m.\u001b[0m\u001b[0m_cache\u001b[0m\u001b[0;34m:\u001b[0m\u001b[0;34m\u001b[0m\u001b[0;34m\u001b[0m\u001b[0m\n\u001b[0m\u001b[1;32m     13\u001b[0m \u001b[0;34m\u001b[0m\u001b[0m\n\u001b[1;32m     14\u001b[0m             \u001b[0;32mif\u001b[0m \u001b[0;34m\".\"\u001b[0m \u001b[0;32mnot\u001b[0m \u001b[0;32min\u001b[0m \u001b[0mparent_path\u001b[0m \u001b[0;32mand\u001b[0m \u001b[0mprop_name\u001b[0m \u001b[0;34m==\u001b[0m \u001b[0;34m\"type\"\u001b[0m\u001b[0;34m:\u001b[0m\u001b[0;34m\u001b[0m\u001b[0;34m\u001b[0m\u001b[0m\n",
            "\u001b[0;31mKeyboardInterrupt\u001b[0m: "
          ]
        }
      ]
    }
  ]
}